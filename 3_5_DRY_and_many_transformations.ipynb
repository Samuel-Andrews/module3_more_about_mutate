{
 "cells": [
  {
   "cell_type": "markdown",
   "metadata": {},
   "source": [
    "# Advanced Applications of Mutate\n",
    "\n",
    "## DRY and many transformations"
   ]
  },
  {
   "cell_type": "code",
   "execution_count": 1,
   "metadata": {},
   "outputs": [],
   "source": [
    "import pandas as pd\n",
    "from dfply import *\n",
    "import matplotlib.pylab as plt\n",
    "%matplotlib inline"
   ]
  },
  {
   "cell_type": "markdown",
   "metadata": {},
   "source": [
    "## Data set\n",
    "\n",
    "We will be using two of the data sets provided by the Museam of Modern Art (MoMA) in this lecture.  Make sure that you have downloaded each repository.  [Download Instructions](./get_MOMA_data.ipynb)"
   ]
  },
  {
   "cell_type": "markdown",
   "metadata": {},
   "source": [
    "#### MoMA Exhibitions"
   ]
  },
  {
   "cell_type": "code",
   "execution_count": 2,
   "metadata": {
    "scrolled": true
   },
   "outputs": [
    {
     "output_type": "execute_result",
     "data": {
      "text/plain": [
       "   ExhibitionID ExhibitionNumber                     ExhibitionTitle  \\\n",
       "0        2557.0                1  Cézanne, Gauguin, Seurat, Van Gogh   \n",
       "1        2557.0                1  Cézanne, Gauguin, Seurat, Van Gogh   \n",
       "\n",
       "                        ExhibitionCitationDate ExhibitionBeginDate  \\\n",
       "0  [MoMA Exh. #1, November 7-December 7, 1929]          1929-11-07   \n",
       "1  [MoMA Exh. #1, November 7-December 7, 1929]          1929-11-07   \n",
       "\n",
       "  ExhibitionEndDate  ExhibitionSortOrder                       ExhibitionURL  \\\n",
       "0        1929-12-07                  1.0  moma.org/calendar/exhibitions/1767   \n",
       "1        1929-12-07                  1.0  moma.org/calendar/exhibitions/1767   \n",
       "\n",
       "  ExhibitionRole ExhibitionRoleinPressRelease  ...  Institution Nationality  \\\n",
       "0        Curator                     Director  ...          NaN    American   \n",
       "1         Artist                       Artist  ...          NaN      French   \n",
       "\n",
       "  ConstituentBeginDate ConstituentEndDate            ArtistBio Gender  \\\n",
       "0                 1902               1981  American, 19021981   Male   \n",
       "1                 1839               1906    French, 18391906   Male   \n",
       "\n",
       "        VIAFID WikidataID       ULANID         ConstituentURL  \n",
       "0  109252853.0    Q711362  500241556.0  moma.org/artists/9168  \n",
       "1   39374836.0     Q35548  500004793.0  moma.org/artists/1053  \n",
       "\n",
       "[2 rows x 28 columns]"
      ],
      "text/html": "<div>\n<style scoped>\n    .dataframe tbody tr th:only-of-type {\n        vertical-align: middle;\n    }\n\n    .dataframe tbody tr th {\n        vertical-align: top;\n    }\n\n    .dataframe thead th {\n        text-align: right;\n    }\n</style>\n<table border=\"1\" class=\"dataframe\">\n  <thead>\n    <tr style=\"text-align: right;\">\n      <th></th>\n      <th>ExhibitionID</th>\n      <th>ExhibitionNumber</th>\n      <th>ExhibitionTitle</th>\n      <th>ExhibitionCitationDate</th>\n      <th>ExhibitionBeginDate</th>\n      <th>ExhibitionEndDate</th>\n      <th>ExhibitionSortOrder</th>\n      <th>ExhibitionURL</th>\n      <th>ExhibitionRole</th>\n      <th>ExhibitionRoleinPressRelease</th>\n      <th>...</th>\n      <th>Institution</th>\n      <th>Nationality</th>\n      <th>ConstituentBeginDate</th>\n      <th>ConstituentEndDate</th>\n      <th>ArtistBio</th>\n      <th>Gender</th>\n      <th>VIAFID</th>\n      <th>WikidataID</th>\n      <th>ULANID</th>\n      <th>ConstituentURL</th>\n    </tr>\n  </thead>\n  <tbody>\n    <tr>\n      <th>0</th>\n      <td>2557.0</td>\n      <td>1</td>\n      <td>Cézanne, Gauguin, Seurat, Van Gogh</td>\n      <td>[MoMA Exh. #1, November 7-December 7, 1929]</td>\n      <td>1929-11-07</td>\n      <td>1929-12-07</td>\n      <td>1.0</td>\n      <td>moma.org/calendar/exhibitions/1767</td>\n      <td>Curator</td>\n      <td>Director</td>\n      <td>...</td>\n      <td>NaN</td>\n      <td>American</td>\n      <td>1902</td>\n      <td>1981</td>\n      <td>American, 19021981</td>\n      <td>Male</td>\n      <td>109252853.0</td>\n      <td>Q711362</td>\n      <td>500241556.0</td>\n      <td>moma.org/artists/9168</td>\n    </tr>\n    <tr>\n      <th>1</th>\n      <td>2557.0</td>\n      <td>1</td>\n      <td>Cézanne, Gauguin, Seurat, Van Gogh</td>\n      <td>[MoMA Exh. #1, November 7-December 7, 1929]</td>\n      <td>1929-11-07</td>\n      <td>1929-12-07</td>\n      <td>1.0</td>\n      <td>moma.org/calendar/exhibitions/1767</td>\n      <td>Artist</td>\n      <td>Artist</td>\n      <td>...</td>\n      <td>NaN</td>\n      <td>French</td>\n      <td>1839</td>\n      <td>1906</td>\n      <td>French, 18391906</td>\n      <td>Male</td>\n      <td>39374836.0</td>\n      <td>Q35548</td>\n      <td>500004793.0</td>\n      <td>moma.org/artists/1053</td>\n    </tr>\n  </tbody>\n</table>\n<p>2 rows × 28 columns</p>\n</div>"
     },
     "metadata": {},
     "execution_count": 2
    }
   ],
   "source": [
    "dat_cols = ['ExhibitionBeginDate', 'ExhibitionEndDate', 'ConstituentBeginDate' ,'ConstituentEndDate']\n",
    "exhibitions = pd.read_csv('./data/MoMAExhibitions1929to1989.csv', \n",
    "                          encoding=\"ISO-8859-1\",\n",
    "                          parse_dates=dat_cols)\n",
    "exhibitions.head(2)"
   ]
  },
  {
   "cell_type": "markdown",
   "metadata": {},
   "source": [
    "## The DRY principle\n",
    "\n",
    "* DRY == *D*on't *R*epeat *Y*ourself\n",
    "* Be sure to\n",
    "    * Look for repeated patterns\n",
    "    * Abstract the patterns"
   ]
  },
  {
   "cell_type": "markdown",
   "metadata": {},
   "source": [
    "#### Example - Creating indicator columns"
   ]
  },
  {
   "cell_type": "code",
   "execution_count": 3,
   "metadata": {},
   "outputs": [
    {
     "output_type": "execute_result",
     "data": {
      "text/plain": [
       "      Nationality  American\n",
       "0        American         1\n",
       "1          French         0\n",
       "2          French         0\n",
       "3           Dutch         0\n",
       "4          French         0\n",
       "...           ...       ...\n",
       "34553    Japanese         0\n",
       "34554    Japanese         0\n",
       "34555    Japanese         0\n",
       "34556    Japanese         0\n",
       "34557         NaN         0\n",
       "\n",
       "[34558 rows x 2 columns]"
      ],
      "text/html": "<div>\n<style scoped>\n    .dataframe tbody tr th:only-of-type {\n        vertical-align: middle;\n    }\n\n    .dataframe tbody tr th {\n        vertical-align: top;\n    }\n\n    .dataframe thead th {\n        text-align: right;\n    }\n</style>\n<table border=\"1\" class=\"dataframe\">\n  <thead>\n    <tr style=\"text-align: right;\">\n      <th></th>\n      <th>Nationality</th>\n      <th>American</th>\n    </tr>\n  </thead>\n  <tbody>\n    <tr>\n      <th>0</th>\n      <td>American</td>\n      <td>1</td>\n    </tr>\n    <tr>\n      <th>1</th>\n      <td>French</td>\n      <td>0</td>\n    </tr>\n    <tr>\n      <th>2</th>\n      <td>French</td>\n      <td>0</td>\n    </tr>\n    <tr>\n      <th>3</th>\n      <td>Dutch</td>\n      <td>0</td>\n    </tr>\n    <tr>\n      <th>4</th>\n      <td>French</td>\n      <td>0</td>\n    </tr>\n    <tr>\n      <th>...</th>\n      <td>...</td>\n      <td>...</td>\n    </tr>\n    <tr>\n      <th>34553</th>\n      <td>Japanese</td>\n      <td>0</td>\n    </tr>\n    <tr>\n      <th>34554</th>\n      <td>Japanese</td>\n      <td>0</td>\n    </tr>\n    <tr>\n      <th>34555</th>\n      <td>Japanese</td>\n      <td>0</td>\n    </tr>\n    <tr>\n      <th>34556</th>\n      <td>Japanese</td>\n      <td>0</td>\n    </tr>\n    <tr>\n      <th>34557</th>\n      <td>NaN</td>\n      <td>0</td>\n    </tr>\n  </tbody>\n</table>\n<p>34558 rows × 2 columns</p>\n</div>"
     },
     "metadata": {},
     "execution_count": 3
    }
   ],
   "source": [
    "from collections import defaultdict\n",
    "from composable import pipeable\n",
    "\n",
    "make_indicator = pipeable(lambda lbl, val: 1 if lbl == val else 0)\n",
    "\n",
    "(exhibitions\n",
    " >> select(X.Nationality)\n",
    " >> mutate(American = X.Nationality.map(make_indicator('American')))\n",
    ") "
   ]
  },
  {
   "cell_type": "markdown",
   "metadata": {},
   "source": [
    "## A WET transformation\n",
    "\n",
    "This solution is WET, not DRY, as all 7 of the expressions in mutate are very similar ... if only here was a way to perform these similar expressions all at once ..."
   ]
  },
  {
   "cell_type": "code",
   "execution_count": 4,
   "metadata": {},
   "outputs": [
    {
     "output_type": "execute_result",
     "data": {
      "text/plain": [
       "  ExhibitionRole  Curator  Artist  Arranger  Installer  CompetitionJudge  \\\n",
       "0        Curator        1       0         0          0                 0   \n",
       "1         Artist        0       1         0          0                 0   \n",
       "2         Artist        0       1         0          0                 0   \n",
       "3         Artist        0       1         0          0                 0   \n",
       "4         Artist        0       1         0          0                 0   \n",
       "\n",
       "   Designer  Preparer  \n",
       "0         0         0  \n",
       "1         0         0  \n",
       "2         0         0  \n",
       "3         0         0  \n",
       "4         0         0  "
      ],
      "text/html": "<div>\n<style scoped>\n    .dataframe tbody tr th:only-of-type {\n        vertical-align: middle;\n    }\n\n    .dataframe tbody tr th {\n        vertical-align: top;\n    }\n\n    .dataframe thead th {\n        text-align: right;\n    }\n</style>\n<table border=\"1\" class=\"dataframe\">\n  <thead>\n    <tr style=\"text-align: right;\">\n      <th></th>\n      <th>ExhibitionRole</th>\n      <th>Curator</th>\n      <th>Artist</th>\n      <th>Arranger</th>\n      <th>Installer</th>\n      <th>CompetitionJudge</th>\n      <th>Designer</th>\n      <th>Preparer</th>\n    </tr>\n  </thead>\n  <tbody>\n    <tr>\n      <th>0</th>\n      <td>Curator</td>\n      <td>1</td>\n      <td>0</td>\n      <td>0</td>\n      <td>0</td>\n      <td>0</td>\n      <td>0</td>\n      <td>0</td>\n    </tr>\n    <tr>\n      <th>1</th>\n      <td>Artist</td>\n      <td>0</td>\n      <td>1</td>\n      <td>0</td>\n      <td>0</td>\n      <td>0</td>\n      <td>0</td>\n      <td>0</td>\n    </tr>\n    <tr>\n      <th>2</th>\n      <td>Artist</td>\n      <td>0</td>\n      <td>1</td>\n      <td>0</td>\n      <td>0</td>\n      <td>0</td>\n      <td>0</td>\n      <td>0</td>\n    </tr>\n    <tr>\n      <th>3</th>\n      <td>Artist</td>\n      <td>0</td>\n      <td>1</td>\n      <td>0</td>\n      <td>0</td>\n      <td>0</td>\n      <td>0</td>\n      <td>0</td>\n    </tr>\n    <tr>\n      <th>4</th>\n      <td>Artist</td>\n      <td>0</td>\n      <td>1</td>\n      <td>0</td>\n      <td>0</td>\n      <td>0</td>\n      <td>0</td>\n      <td>0</td>\n    </tr>\n  </tbody>\n</table>\n</div>"
     },
     "metadata": {},
     "execution_count": 4
    }
   ],
   "source": [
    "(exhibitions\n",
    " >> select(X.ExhibitionRole)\n",
    " >> mutate(Curator = X.ExhibitionRole.map(make_indicator('Curator')),\n",
    "           Artist = X.ExhibitionRole.map(make_indicator('Artist')),\n",
    "           Arranger = X.ExhibitionRole.map(make_indicator('Arranger')),\n",
    "           Installer = X.ExhibitionRole.map(make_indicator('Installer')),\n",
    "           CompetitionJudge = X.ExhibitionRole.map(make_indicator('Competition Judge')),\n",
    "           Designer = X.ExhibitionRole.map(make_indicator('Designer')),\n",
    "           Preparer = X.ExhibitionRole.map(make_indicator('Prepare')))\n",
    " >> head(5)\n",
    ")\n",
    "                                                    "
   ]
  },
  {
   "cell_type": "markdown",
   "metadata": {},
   "source": [
    "## Review - The `**` operators\n",
    "\n",
    "Python functions use the `**` operator to \n",
    "\n",
    "1. **Pack** allow the capture of additional keyword arguments in function definitions.\n",
    "2. **Unpack** unpack a `dict` of keyword arguments in function calls.\n",
    "\n",
    "Note that these two actions are inverse operations."
   ]
  },
  {
   "cell_type": "markdown",
   "metadata": {},
   "source": [
    "#### Defining functions that capturing additional keyword arguments"
   ]
  },
  {
   "cell_type": "code",
   "execution_count": 5,
   "metadata": {},
   "outputs": [],
   "source": [
    "def f(a, b = None, **kwargs):\n",
    "    return f\"a = {a}, b = {b}, added kw = {kwargs}\""
   ]
  },
  {
   "cell_type": "code",
   "execution_count": 6,
   "metadata": {},
   "outputs": [
    {
     "output_type": "execute_result",
     "data": {
      "text/plain": [
       "'a = 2, b = None, added kw = {}'"
      ]
     },
     "metadata": {},
     "execution_count": 6
    }
   ],
   "source": [
    "f(2) #kwargs is empty by default."
   ]
  },
  {
   "cell_type": "code",
   "execution_count": 7,
   "metadata": {},
   "outputs": [
    {
     "output_type": "execute_result",
     "data": {
      "text/plain": [
       "\"a = 2, b = None, added kw = {'Bob': 'Tall', 'Alice': 'Not tall'}\""
      ]
     },
     "metadata": {},
     "execution_count": 7
    }
   ],
   "source": [
    "# kwargs contains all extra kwargs when present.\n",
    "f(2, Bob = \"Tall\", Alice = \"Not tall\") "
   ]
  },
  {
   "cell_type": "markdown",
   "metadata": {},
   "source": [
    "#### Unpacking a `dict` of kwargs"
   ]
  },
  {
   "cell_type": "code",
   "execution_count": 8,
   "metadata": {},
   "outputs": [
    {
     "output_type": "execute_result",
     "data": {
      "text/plain": [
       "\"a = 1, b = None, added kw = {'Iverson': 'Python', 'Bergen': 'R', 'Malone': 'Excel'}\""
      ]
     },
     "metadata": {},
     "execution_count": 8
    }
   ],
   "source": [
    "f(1, **{'Iverson':'Python', 'Bergen':'R', 'Malone':'Excel'})"
   ]
  },
  {
   "cell_type": "markdown",
   "metadata": {},
   "source": [
    "# Applying many similar mutations.\n",
    "\n",
    "To refactor many similar mutations\n",
    "\n",
    "1. Create an expression `dict`\n",
    "    * key: column name\n",
    "    * value: `X.column` expression\n",
    "2. Use mutate with `**` to unpack the expression `dict`"
   ]
  },
  {
   "cell_type": "markdown",
   "metadata": {},
   "source": [
    "#### MoMA Artists"
   ]
  },
  {
   "cell_type": "code",
   "execution_count": 9,
   "metadata": {},
   "outputs": [
    {
     "output_type": "execute_result",
     "data": {
      "text/plain": [
       "   ConstituentID     DisplayName            ArtistBio Nationality Gender  \\\n",
       "0              1  Robert Arneson  American, 1930–1992    American   Male   \n",
       "1              2  Doroteo Arnaiz   Spanish, born 1936     Spanish   Male   \n",
       "\n",
       "   BeginDate  EndDate Wiki QID  ULAN  \n",
       "0       1930     1992      NaN   NaN  \n",
       "1       1936        0      NaN   NaN  "
      ],
      "text/html": "<div>\n<style scoped>\n    .dataframe tbody tr th:only-of-type {\n        vertical-align: middle;\n    }\n\n    .dataframe tbody tr th {\n        vertical-align: top;\n    }\n\n    .dataframe thead th {\n        text-align: right;\n    }\n</style>\n<table border=\"1\" class=\"dataframe\">\n  <thead>\n    <tr style=\"text-align: right;\">\n      <th></th>\n      <th>ConstituentID</th>\n      <th>DisplayName</th>\n      <th>ArtistBio</th>\n      <th>Nationality</th>\n      <th>Gender</th>\n      <th>BeginDate</th>\n      <th>EndDate</th>\n      <th>Wiki QID</th>\n      <th>ULAN</th>\n    </tr>\n  </thead>\n  <tbody>\n    <tr>\n      <th>0</th>\n      <td>1</td>\n      <td>Robert Arneson</td>\n      <td>American, 1930–1992</td>\n      <td>American</td>\n      <td>Male</td>\n      <td>1930</td>\n      <td>1992</td>\n      <td>NaN</td>\n      <td>NaN</td>\n    </tr>\n    <tr>\n      <th>1</th>\n      <td>2</td>\n      <td>Doroteo Arnaiz</td>\n      <td>Spanish, born 1936</td>\n      <td>Spanish</td>\n      <td>Male</td>\n      <td>1936</td>\n      <td>0</td>\n      <td>NaN</td>\n      <td>NaN</td>\n    </tr>\n  </tbody>\n</table>\n</div>"
     },
     "metadata": {},
     "execution_count": 9
    }
   ],
   "source": [
    "artists = pd.read_csv(\"./data/Artists.csv\")\n",
    "artists.head(2)"
   ]
  },
  {
   "cell_type": "markdown",
   "metadata": {},
   "source": [
    "#### MoMA Artwork"
   ]
  },
  {
   "cell_type": "code",
   "execution_count": 10,
   "metadata": {},
   "outputs": [
    {
     "output_type": "execute_result",
     "data": {
      "text/plain": [
       "                                               Title  \\\n",
       "0  Ferdinandsbrücke Project, Vienna, Austria (Ele...   \n",
       "1  City of Music, National Superior Conservatory ...   \n",
       "\n",
       "                     Artist ConstituentID              ArtistBio Nationality  \\\n",
       "0               Otto Wagner          6210  (Austrian, 1841–1918)  (Austrian)   \n",
       "1  Christian de Portzamparc          7470    (French, born 1944)    (French)   \n",
       "\n",
       "  BeginDate EndDate  Gender  Date  \\\n",
       "0    (1841)  (1918)  (Male)  1896   \n",
       "1    (1944)     (0)  (Male)  1987   \n",
       "\n",
       "                                          Medium  ... Circumference_cm  \\\n",
       "0  Ink and cut-and-pasted painted pages on paper  ...              NaN   \n",
       "1              Paint and colored pencil on print  ...              NaN   \n",
       "\n",
       "  Depth_cm Diameter_cm Height_cm Length_cm Weight_kg  Width_cm  \\\n",
       "0      NaN         NaN   48.6000       NaN       NaN  168.9000   \n",
       "1      NaN         NaN   40.6401       NaN       NaN   29.8451   \n",
       "\n",
       "   Seat_Height_cm Duration_sec id  \n",
       "0             NaN          NaN  1  \n",
       "1             NaN          NaN  2  \n",
       "\n",
       "[2 rows x 30 columns]"
      ],
      "text/html": "<div>\n<style scoped>\n    .dataframe tbody tr th:only-of-type {\n        vertical-align: middle;\n    }\n\n    .dataframe tbody tr th {\n        vertical-align: top;\n    }\n\n    .dataframe thead th {\n        text-align: right;\n    }\n</style>\n<table border=\"1\" class=\"dataframe\">\n  <thead>\n    <tr style=\"text-align: right;\">\n      <th></th>\n      <th>Title</th>\n      <th>Artist</th>\n      <th>ConstituentID</th>\n      <th>ArtistBio</th>\n      <th>Nationality</th>\n      <th>BeginDate</th>\n      <th>EndDate</th>\n      <th>Gender</th>\n      <th>Date</th>\n      <th>Medium</th>\n      <th>...</th>\n      <th>Circumference_cm</th>\n      <th>Depth_cm</th>\n      <th>Diameter_cm</th>\n      <th>Height_cm</th>\n      <th>Length_cm</th>\n      <th>Weight_kg</th>\n      <th>Width_cm</th>\n      <th>Seat_Height_cm</th>\n      <th>Duration_sec</th>\n      <th>id</th>\n    </tr>\n  </thead>\n  <tbody>\n    <tr>\n      <th>0</th>\n      <td>Ferdinandsbrücke Project, Vienna, Austria (Ele...</td>\n      <td>Otto Wagner</td>\n      <td>6210</td>\n      <td>(Austrian, 1841–1918)</td>\n      <td>(Austrian)</td>\n      <td>(1841)</td>\n      <td>(1918)</td>\n      <td>(Male)</td>\n      <td>1896</td>\n      <td>Ink and cut-and-pasted painted pages on paper</td>\n      <td>...</td>\n      <td>NaN</td>\n      <td>NaN</td>\n      <td>NaN</td>\n      <td>48.6000</td>\n      <td>NaN</td>\n      <td>NaN</td>\n      <td>168.9000</td>\n      <td>NaN</td>\n      <td>NaN</td>\n      <td>1</td>\n    </tr>\n    <tr>\n      <th>1</th>\n      <td>City of Music, National Superior Conservatory ...</td>\n      <td>Christian de Portzamparc</td>\n      <td>7470</td>\n      <td>(French, born 1944)</td>\n      <td>(French)</td>\n      <td>(1944)</td>\n      <td>(0)</td>\n      <td>(Male)</td>\n      <td>1987</td>\n      <td>Paint and colored pencil on print</td>\n      <td>...</td>\n      <td>NaN</td>\n      <td>NaN</td>\n      <td>NaN</td>\n      <td>40.6401</td>\n      <td>NaN</td>\n      <td>NaN</td>\n      <td>29.8451</td>\n      <td>NaN</td>\n      <td>NaN</td>\n      <td>2</td>\n    </tr>\n  </tbody>\n</table>\n<p>2 rows × 30 columns</p>\n</div>"
     },
     "metadata": {},
     "execution_count": 10
    }
   ],
   "source": [
    "from more_dfply import fix_names\n",
    "\n",
    "artwork = (pd.read_csv(\"./data/Artworks.csv\")\n",
    "           >> fix_names\n",
    "           >> mutate(id = X.index + 1)\n",
    "          )\n",
    "artwork.head(2)"
   ]
  },
  {
   "cell_type": "markdown",
   "metadata": {},
   "source": [
    "#### Making the expression `dict`"
   ]
  },
  {
   "cell_type": "code",
   "execution_count": 66,
   "metadata": {},
   "outputs": [
    {
     "output_type": "execute_result",
     "data": {
      "text/plain": [
       "{'log10_plus_1': <dfply.base.Intention at 0x7f79e7fda910>,\n",
       " 'log2_plus_1': <dfply.base.Intention at 0x7f79e8118490>,\n",
       " 'log2.718281828459045_plus_1': <dfply.base.Intention at 0x7f79e82c01d0>}"
      ]
     },
     "metadata": {},
     "execution_count": 66
    }
   ],
   "source": [
    "from math import log, e\n",
    "log1p = lambda num, base=e: log(num + 1, base)\n",
    "log_columns = {'log{0}_plus_1'.format(base):X.Height_cm.apply(log1p, base = base)\n",
    "               for base in (10, 2, e)}\n",
    "log_columns "
   ]
  },
  {
   "cell_type": "markdown",
   "metadata": {},
   "source": [
    "#### Unpacking the expression in `mutate`"
   ]
  },
  {
   "cell_type": "code",
   "execution_count": 12,
   "metadata": {
    "scrolled": true
   },
   "outputs": [
    {
     "output_type": "execute_result",
     "data": {
      "text/plain": [
       "   Height_cm  log10_plus_1  log2_plus_1  log2.718281828459045_plus_1\n",
       "0    48.6000      1.695482     5.632268                     3.903991\n",
       "1    40.6401      1.619512     5.379902                     3.729064\n",
       "2    34.3000      1.547775     5.141596                     3.563883"
      ],
      "text/html": "<div>\n<style scoped>\n    .dataframe tbody tr th:only-of-type {\n        vertical-align: middle;\n    }\n\n    .dataframe tbody tr th {\n        vertical-align: top;\n    }\n\n    .dataframe thead th {\n        text-align: right;\n    }\n</style>\n<table border=\"1\" class=\"dataframe\">\n  <thead>\n    <tr style=\"text-align: right;\">\n      <th></th>\n      <th>Height_cm</th>\n      <th>log10_plus_1</th>\n      <th>log2_plus_1</th>\n      <th>log2.718281828459045_plus_1</th>\n    </tr>\n  </thead>\n  <tbody>\n    <tr>\n      <th>0</th>\n      <td>48.6000</td>\n      <td>1.695482</td>\n      <td>5.632268</td>\n      <td>3.903991</td>\n    </tr>\n    <tr>\n      <th>1</th>\n      <td>40.6401</td>\n      <td>1.619512</td>\n      <td>5.379902</td>\n      <td>3.729064</td>\n    </tr>\n    <tr>\n      <th>2</th>\n      <td>34.3000</td>\n      <td>1.547775</td>\n      <td>5.141596</td>\n      <td>3.563883</td>\n    </tr>\n  </tbody>\n</table>\n</div>"
     },
     "metadata": {},
     "execution_count": 12
    }
   ],
   "source": [
    "(artwork\n",
    " >> select(X.Height_cm)\n",
    " >> mutate(**log_columns)\n",
    " >> head(3)\n",
    ")"
   ]
  },
  {
   "cell_type": "markdown",
   "metadata": {},
   "source": [
    "## Applying the same transformation on many different columns\n",
    "\n",
    "Use `X['column']` if you need to reference columns"
   ]
  },
  {
   "cell_type": "markdown",
   "metadata": {},
   "source": [
    "#### Define the column expressions"
   ]
  },
  {
   "cell_type": "code",
   "execution_count": 13,
   "metadata": {},
   "outputs": [
    {
     "output_type": "execute_result",
     "data": {
      "text/plain": [
       "{'log_Circumference_cm': <dfply.base.Intention at 0x7f79f0d29ad0>,\n",
       " 'log_Depth_cm': <dfply.base.Intention at 0x7f79f0d29950>,\n",
       " 'log_Diameter_cm': <dfply.base.Intention at 0x7f79f0d29790>,\n",
       " 'log_Height_cm': <dfply.base.Intention at 0x7f79f1e41c50>,\n",
       " 'log_Length_cm': <dfply.base.Intention at 0x7f7a226bcdd0>,\n",
       " 'log_Width_cm': <dfply.base.Intention at 0x7f79f0d4b050>,\n",
       " 'log_Seat_Height_cm': <dfply.base.Intention at 0x7f79ea23c890>}"
      ]
     },
     "metadata": {},
     "execution_count": 13
    }
   ],
   "source": [
    "columns_to_log = contains('_cm').evaluate(artwork)\n",
    "log_dimensions = {'log_{0}'.format(c):X[c].apply(log1p)\n",
    "                  for c in columns_to_log}\n",
    "log_dimensions"
   ]
  },
  {
   "cell_type": "markdown",
   "metadata": {},
   "source": [
    "#### Unpack the expressions"
   ]
  },
  {
   "cell_type": "code",
   "execution_count": 14,
   "metadata": {},
   "outputs": [
    {
     "output_type": "execute_result",
     "data": {
      "text/plain": [
       "   Circumference_cm  Depth_cm  Diameter_cm  Height_cm  Length_cm  Width_cm  \\\n",
       "0               NaN       NaN          NaN    48.6000        NaN  168.9000   \n",
       "1               NaN       NaN          NaN    40.6401        NaN   29.8451   \n",
       "2               NaN       NaN          NaN    34.3000        NaN   31.8000   \n",
       "\n",
       "   Seat_Height_cm  log_Circumference_cm  log_Depth_cm  log_Diameter_cm  \\\n",
       "0             NaN                   NaN           NaN              NaN   \n",
       "1             NaN                   NaN           NaN              NaN   \n",
       "2             NaN                   NaN           NaN              NaN   \n",
       "\n",
       "   log_Height_cm  log_Length_cm  log_Width_cm  log_Seat_Height_cm  \n",
       "0       3.903991            NaN      5.135210                 NaN  \n",
       "1       3.729064            NaN      3.428978                 NaN  \n",
       "2       3.563883            NaN      3.490429                 NaN  "
      ],
      "text/html": "<div>\n<style scoped>\n    .dataframe tbody tr th:only-of-type {\n        vertical-align: middle;\n    }\n\n    .dataframe tbody tr th {\n        vertical-align: top;\n    }\n\n    .dataframe thead th {\n        text-align: right;\n    }\n</style>\n<table border=\"1\" class=\"dataframe\">\n  <thead>\n    <tr style=\"text-align: right;\">\n      <th></th>\n      <th>Circumference_cm</th>\n      <th>Depth_cm</th>\n      <th>Diameter_cm</th>\n      <th>Height_cm</th>\n      <th>Length_cm</th>\n      <th>Width_cm</th>\n      <th>Seat_Height_cm</th>\n      <th>log_Circumference_cm</th>\n      <th>log_Depth_cm</th>\n      <th>log_Diameter_cm</th>\n      <th>log_Height_cm</th>\n      <th>log_Length_cm</th>\n      <th>log_Width_cm</th>\n      <th>log_Seat_Height_cm</th>\n    </tr>\n  </thead>\n  <tbody>\n    <tr>\n      <th>0</th>\n      <td>NaN</td>\n      <td>NaN</td>\n      <td>NaN</td>\n      <td>48.6000</td>\n      <td>NaN</td>\n      <td>168.9000</td>\n      <td>NaN</td>\n      <td>NaN</td>\n      <td>NaN</td>\n      <td>NaN</td>\n      <td>3.903991</td>\n      <td>NaN</td>\n      <td>5.135210</td>\n      <td>NaN</td>\n    </tr>\n    <tr>\n      <th>1</th>\n      <td>NaN</td>\n      <td>NaN</td>\n      <td>NaN</td>\n      <td>40.6401</td>\n      <td>NaN</td>\n      <td>29.8451</td>\n      <td>NaN</td>\n      <td>NaN</td>\n      <td>NaN</td>\n      <td>NaN</td>\n      <td>3.729064</td>\n      <td>NaN</td>\n      <td>3.428978</td>\n      <td>NaN</td>\n    </tr>\n    <tr>\n      <th>2</th>\n      <td>NaN</td>\n      <td>NaN</td>\n      <td>NaN</td>\n      <td>34.3000</td>\n      <td>NaN</td>\n      <td>31.8000</td>\n      <td>NaN</td>\n      <td>NaN</td>\n      <td>NaN</td>\n      <td>NaN</td>\n      <td>3.563883</td>\n      <td>NaN</td>\n      <td>3.490429</td>\n      <td>NaN</td>\n    </tr>\n  </tbody>\n</table>\n</div>"
     },
     "metadata": {},
     "execution_count": 14
    }
   ],
   "source": [
    "(artwork\n",
    " >> select(contains('_cm'))\n",
    " >> mutate(**log_dimensions)\n",
    " >> head(3)\n",
    ")"
   ]
  },
  {
   "cell_type": "markdown",
   "metadata": {},
   "source": [
    "## Applying many similar mutations in `pyspark`\n",
    "\n",
    "We can use the `dfply_spark.mutate` introduced in the last chapter."
   ]
  },
  {
   "cell_type": "markdown",
   "metadata": {},
   "source": [
    "## <font color=\"red\"> Exercise 3.5.1 </font>\n",
    "\n",
    "An **Indicator column** for a category contains 1 for the rows that match that label and 0 otherwise.  Again, create indicator columns for each of the categories in `exhibitions.ExhibitionRole`, but this time use the techniques in this section to make your solution more [DRY](https://en.wikipedia.org/wiki/Don%27t_repeat_yourself)"
   ]
  },
  {
   "cell_type": "code",
   "execution_count": 17,
   "metadata": {},
   "outputs": [
    {
     "output_type": "execute_result",
     "data": {
      "text/plain": [
       "array(['Curator', 'Artist', nan, 'Arranger', 'Installer',\n",
       "       'Competition Judge', 'Designer', 'Preparer'], dtype=object)"
      ]
     },
     "metadata": {},
     "execution_count": 17
    }
   ],
   "source": [
    "# Your code here\n",
    "exhibitions.ExhibitionRole.unique()"
   ]
  },
  {
   "cell_type": "code",
   "execution_count": 21,
   "metadata": {},
   "outputs": [],
   "source": [
    "#exhibitions.ExhibitionRole.to_dict()"
   ]
  },
  {
   "cell_type": "code",
   "execution_count": 45,
   "metadata": {},
   "outputs": [
    {
     "output_type": "execute_result",
     "data": {
      "text/plain": [
       "list"
      ]
     },
     "metadata": {},
     "execution_count": 45
    }
   ],
   "source": [
    "type(columns_to_log)"
   ]
  },
  {
   "cell_type": "code",
   "execution_count": 67,
   "metadata": {},
   "outputs": [
    {
     "output_type": "execute_result",
     "data": {
      "text/plain": [
       "{'ind_Curator': <dfply.base.Intention at 0x7f79e9e3e950>,\n",
       " 'ind_Artist': <dfply.base.Intention at 0x7f79e7fc6990>,\n",
       " 'ind_nan': <dfply.base.Intention at 0x7f79e7fc6290>,\n",
       " 'ind_Arranger': <dfply.base.Intention at 0x7f79ea23cb50>,\n",
       " 'ind_Installer': <dfply.base.Intention at 0x7f79e802a210>,\n",
       " 'ind_Competition Judge': <dfply.base.Intention at 0x7f79e914ae90>,\n",
       " 'ind_Designer': <dfply.base.Intention at 0x7f79e8150310>,\n",
       " 'ind_Preparer': <dfply.base.Intention at 0x7f79e915c550>}"
      ]
     },
     "metadata": {},
     "execution_count": 67
    }
   ],
   "source": [
    "make_indicator = pipeable(lambda lbl, val: 1 if lbl == val else 0)\n",
    "\n",
    "indicator_columns = exhibitions.ExhibitionRole.unique().tolist() \n",
    "indicator_dimensions = {'ind_{0}'.format(Role):X.ExhibitionRole.map(make_indicator(Role)) for Role in indicator_columns}\n",
    "\n",
    "indicator_dimensions"
   ]
  },
  {
   "cell_type": "code",
   "execution_count": 54,
   "metadata": {},
   "outputs": [
    {
     "output_type": "execute_result",
     "data": {
      "text/plain": [
       "['Curator',\n",
       " 'Artist',\n",
       " nan,\n",
       " 'Arranger',\n",
       " 'Installer',\n",
       " 'Competition Judge',\n",
       " 'Designer',\n",
       " 'Preparer']"
      ]
     },
     "metadata": {},
     "execution_count": 54
    }
   ],
   "source": [
    "indicator_columns"
   ]
  },
  {
   "cell_type": "code",
   "execution_count": 75,
   "metadata": {},
   "outputs": [
    {
     "output_type": "execute_result",
     "data": {
      "text/plain": [
       "  ExhibitionRole  ind_Curator  ind_Artist  ind_nan  ind_Arranger  \\\n",
       "0        Curator            1           0        0             0   \n",
       "1         Artist            0           1        0             0   \n",
       "2         Artist            0           1        0             0   \n",
       "3         Artist            0           1        0             0   \n",
       "4         Artist            0           1        0             0   \n",
       "5         Artist            0           1        0             0   \n",
       "6         Artist            0           1        0             0   \n",
       "7         Artist            0           1        0             0   \n",
       "8         Artist            0           1        0             0   \n",
       "9         Artist            0           1        0             0   \n",
       "\n",
       "   ind_Installer  ind_Competition Judge  ind_Designer  ind_Preparer  \n",
       "0              0                      0             0             0  \n",
       "1              0                      0             0             0  \n",
       "2              0                      0             0             0  \n",
       "3              0                      0             0             0  \n",
       "4              0                      0             0             0  \n",
       "5              0                      0             0             0  \n",
       "6              0                      0             0             0  \n",
       "7              0                      0             0             0  \n",
       "8              0                      0             0             0  \n",
       "9              0                      0             0             0  "
      ],
      "text/html": "<div>\n<style scoped>\n    .dataframe tbody tr th:only-of-type {\n        vertical-align: middle;\n    }\n\n    .dataframe tbody tr th {\n        vertical-align: top;\n    }\n\n    .dataframe thead th {\n        text-align: right;\n    }\n</style>\n<table border=\"1\" class=\"dataframe\">\n  <thead>\n    <tr style=\"text-align: right;\">\n      <th></th>\n      <th>ExhibitionRole</th>\n      <th>ind_Curator</th>\n      <th>ind_Artist</th>\n      <th>ind_nan</th>\n      <th>ind_Arranger</th>\n      <th>ind_Installer</th>\n      <th>ind_Competition Judge</th>\n      <th>ind_Designer</th>\n      <th>ind_Preparer</th>\n    </tr>\n  </thead>\n  <tbody>\n    <tr>\n      <th>0</th>\n      <td>Curator</td>\n      <td>1</td>\n      <td>0</td>\n      <td>0</td>\n      <td>0</td>\n      <td>0</td>\n      <td>0</td>\n      <td>0</td>\n      <td>0</td>\n    </tr>\n    <tr>\n      <th>1</th>\n      <td>Artist</td>\n      <td>0</td>\n      <td>1</td>\n      <td>0</td>\n      <td>0</td>\n      <td>0</td>\n      <td>0</td>\n      <td>0</td>\n      <td>0</td>\n    </tr>\n    <tr>\n      <th>2</th>\n      <td>Artist</td>\n      <td>0</td>\n      <td>1</td>\n      <td>0</td>\n      <td>0</td>\n      <td>0</td>\n      <td>0</td>\n      <td>0</td>\n      <td>0</td>\n    </tr>\n    <tr>\n      <th>3</th>\n      <td>Artist</td>\n      <td>0</td>\n      <td>1</td>\n      <td>0</td>\n      <td>0</td>\n      <td>0</td>\n      <td>0</td>\n      <td>0</td>\n      <td>0</td>\n    </tr>\n    <tr>\n      <th>4</th>\n      <td>Artist</td>\n      <td>0</td>\n      <td>1</td>\n      <td>0</td>\n      <td>0</td>\n      <td>0</td>\n      <td>0</td>\n      <td>0</td>\n      <td>0</td>\n    </tr>\n    <tr>\n      <th>5</th>\n      <td>Artist</td>\n      <td>0</td>\n      <td>1</td>\n      <td>0</td>\n      <td>0</td>\n      <td>0</td>\n      <td>0</td>\n      <td>0</td>\n      <td>0</td>\n    </tr>\n    <tr>\n      <th>6</th>\n      <td>Artist</td>\n      <td>0</td>\n      <td>1</td>\n      <td>0</td>\n      <td>0</td>\n      <td>0</td>\n      <td>0</td>\n      <td>0</td>\n      <td>0</td>\n    </tr>\n    <tr>\n      <th>7</th>\n      <td>Artist</td>\n      <td>0</td>\n      <td>1</td>\n      <td>0</td>\n      <td>0</td>\n      <td>0</td>\n      <td>0</td>\n      <td>0</td>\n      <td>0</td>\n    </tr>\n    <tr>\n      <th>8</th>\n      <td>Artist</td>\n      <td>0</td>\n      <td>1</td>\n      <td>0</td>\n      <td>0</td>\n      <td>0</td>\n      <td>0</td>\n      <td>0</td>\n      <td>0</td>\n    </tr>\n    <tr>\n      <th>9</th>\n      <td>Artist</td>\n      <td>0</td>\n      <td>1</td>\n      <td>0</td>\n      <td>0</td>\n      <td>0</td>\n      <td>0</td>\n      <td>0</td>\n      <td>0</td>\n    </tr>\n  </tbody>\n</table>\n</div>"
     },
     "metadata": {},
     "execution_count": 75
    }
   ],
   "source": [
    "(exhibitions\n",
    " >> select(X.ExhibitionRole)\n",
    " >> mutate(**indicator_dimensions)\n",
    " >> head(10)\n",
    ")"
   ]
  },
  {
   "cell_type": "markdown",
   "metadata": {},
   "source": [
    "## <font color=\"red\"> Exercise 3.5.2</font>\n",
    "\n",
    "We would like to convert all dimensions that are measured in cm to m.   To do this, perform the following tasks.\n",
    "\n",
    "1. Create a regular expression match all dimension columns.  Use your RegEx to create a list of column names.\n",
    "2. Create a `dict` with *new column names* as keys and column expressions that convert the corresponding column to m, where the expressions use `Intentions` to build the expressions.  **Hint:** Use a `dict` comprehension with an expression for the keys that changes `_cm` to `_m` in each of the old column names.  \n",
    "3. Use the techniques shown in this section to apply these transformations using `mutate` and keyword unpacking to ensure your solution is DRY!"
   ]
  },
  {
   "cell_type": "code",
   "execution_count": 71,
   "metadata": {},
   "outputs": [
    {
     "output_type": "execute_result",
     "data": {
      "text/plain": [
       "Index(['Title', 'Artist', 'ConstituentID', 'ArtistBio', 'Nationality',\n",
       "       'BeginDate', 'EndDate', 'Gender', 'Date', 'Medium', 'Dimensions',\n",
       "       'CreditLine', 'AccessionNumber', 'Classification', 'Department',\n",
       "       'DateAcquired', 'Cataloged', 'ObjectID', 'URL', 'ThumbnailURL',\n",
       "       'Circumference_cm', 'Depth_cm', 'Diameter_cm', 'Height_cm', 'Length_cm',\n",
       "       'Weight_kg', 'Width_cm', 'Seat_Height_cm', 'Duration_sec', 'id'],\n",
       "      dtype='object')"
      ]
     },
     "metadata": {},
     "execution_count": 71
    }
   ],
   "source": [
    "artwork.columns"
   ]
  },
  {
   "cell_type": "code",
   "execution_count": 74,
   "metadata": {},
   "outputs": [
    {
     "output_type": "execute_result",
     "data": {
      "text/plain": [
       "2.0"
      ]
     },
     "metadata": {},
     "execution_count": 74
    }
   ],
   "source": [
    "#conversion lambda\n",
    "cm_to_m = lambda cm: cm/100\n",
    "\n",
    "cm_to_m(200)"
   ]
  },
  {
   "cell_type": "code",
   "execution_count": 77,
   "metadata": {},
   "outputs": [
    {
     "output_type": "execute_result",
     "data": {
      "text/plain": [
       "['Circumference_cm',\n",
       " 'Depth_cm',\n",
       " 'Diameter_cm',\n",
       " 'Height_cm',\n",
       " 'Length_cm',\n",
       " 'Width_cm',\n",
       " 'Seat_Height_cm']"
      ]
     },
     "metadata": {},
     "execution_count": 77
    }
   ],
   "source": [
    "#get dimension columns\n",
    "\n",
    "columns_to_convert = contains('_cm').evaluate(artwork)\n",
    "\n",
    "columns_to_convert"
   ]
  },
  {
   "cell_type": "code",
   "execution_count": 78,
   "metadata": {},
   "outputs": [
    {
     "output_type": "execute_result",
     "data": {
      "text/plain": [
       "{'m_Circumference_cm': <dfply.base.Intention at 0x7f79e7e05ed0>,\n",
       " 'm_Depth_cm': <dfply.base.Intention at 0x7f79e7e05210>,\n",
       " 'm_Diameter_cm': <dfply.base.Intention at 0x7f79e7e05250>,\n",
       " 'm_Height_cm': <dfply.base.Intention at 0x7f79e7de99d0>,\n",
       " 'm_Length_cm': <dfply.base.Intention at 0x7f79e7de9350>,\n",
       " 'm_Width_cm': <dfply.base.Intention at 0x7f79e7de9450>,\n",
       " 'm_Seat_Height_cm': <dfply.base.Intention at 0x7f79e7de9750>}"
      ]
     },
     "metadata": {},
     "execution_count": 78
    }
   ],
   "source": [
    "m_dimensions = {'m_{0}'.format(c):X[c].apply(cm_to_m)\n",
    "                  for c in columns_to_convert}\n",
    "m_dimensions"
   ]
  },
  {
   "cell_type": "code",
   "execution_count": 89,
   "metadata": {},
   "outputs": [
    {
     "output_type": "execute_result",
     "data": {
      "text/plain": [
       "{'Circumference_m': <dfply.base.Intention at 0x7f79e7f94110>,\n",
       " 'Depth_m': <dfply.base.Intention at 0x7f79e7fa9e90>,\n",
       " 'Diameter_m': <dfply.base.Intention at 0x7f79e7f2c310>,\n",
       " 'Height_m': <dfply.base.Intention at 0x7f79e7f43cd0>,\n",
       " 'Length_m': <dfply.base.Intention at 0x7f79e7f37c90>,\n",
       " 'Width_m': <dfply.base.Intention at 0x7f79e7f9e290>,\n",
       " 'Seat_Height_m': <dfply.base.Intention at 0x7f79e7fc2490>}"
      ]
     },
     "metadata": {},
     "execution_count": 89
    }
   ],
   "source": [
    "#the first argument is just a string, so we can simply replace the \"_cm\" with \"_m\" out of the gate rather then making another dictionary\n",
    "\n",
    "m_dimensions_rename = {'{0}'.format(c).replace(\"_cm\",\"_m\"):X[c].apply(cm_to_m)\n",
    "                  for c in columns_to_convert}\n",
    "m_dimensions_rename"
   ]
  },
  {
   "cell_type": "code",
   "execution_count": 90,
   "metadata": {},
   "outputs": [
    {
     "output_type": "execute_result",
     "data": {
      "text/plain": [
       "    Circumference_cm  Depth_cm  Diameter_cm  Height_cm  Length_cm  Width_cm  \\\n",
       "0                NaN       NaN          NaN    48.6000        NaN  168.9000   \n",
       "1                NaN       NaN          NaN    40.6401        NaN   29.8451   \n",
       "2                NaN       NaN          NaN    34.3000        NaN   31.8000   \n",
       "3                NaN       NaN          NaN    50.8000        NaN   50.8000   \n",
       "4                NaN       NaN          NaN    38.4000        NaN   19.1000   \n",
       "5                NaN       NaN          NaN    35.6000        NaN   45.7000   \n",
       "6                NaN       NaN          NaN    35.6000        NaN   45.7000   \n",
       "7                NaN       NaN          NaN    35.6000        NaN   45.7000   \n",
       "8                NaN       NaN          NaN    35.6000        NaN   45.7000   \n",
       "9                NaN       NaN          NaN    35.6000        NaN   45.7000   \n",
       "10               NaN       NaN          NaN    35.6000        NaN   45.7000   \n",
       "11               NaN       NaN          NaN    35.6000        NaN   45.7000   \n",
       "12               NaN       NaN          NaN    35.6000        NaN   45.7000   \n",
       "13               NaN       NaN          NaN    35.6000        NaN   45.7000   \n",
       "14               NaN       NaN          NaN    35.6000        NaN   45.7000   \n",
       "15               NaN       NaN          NaN    35.6000        NaN   45.7000   \n",
       "16               NaN       NaN          NaN    35.6000        NaN   45.7000   \n",
       "17               NaN       NaN          NaN    35.6000        NaN   45.7000   \n",
       "18               NaN       NaN          NaN    35.6000        NaN   45.7000   \n",
       "19               NaN       NaN          NaN    35.6000        NaN   45.7000   \n",
       "\n",
       "    Seat_Height_cm  Circumference_m  Depth_m  Diameter_m  Height_m  Length_m  \\\n",
       "0              NaN              NaN      NaN         NaN  0.486000       NaN   \n",
       "1              NaN              NaN      NaN         NaN  0.406401       NaN   \n",
       "2              NaN              NaN      NaN         NaN  0.343000       NaN   \n",
       "3              NaN              NaN      NaN         NaN  0.508000       NaN   \n",
       "4              NaN              NaN      NaN         NaN  0.384000       NaN   \n",
       "5              NaN              NaN      NaN         NaN  0.356000       NaN   \n",
       "6              NaN              NaN      NaN         NaN  0.356000       NaN   \n",
       "7              NaN              NaN      NaN         NaN  0.356000       NaN   \n",
       "8              NaN              NaN      NaN         NaN  0.356000       NaN   \n",
       "9              NaN              NaN      NaN         NaN  0.356000       NaN   \n",
       "10             NaN              NaN      NaN         NaN  0.356000       NaN   \n",
       "11             NaN              NaN      NaN         NaN  0.356000       NaN   \n",
       "12             NaN              NaN      NaN         NaN  0.356000       NaN   \n",
       "13             NaN              NaN      NaN         NaN  0.356000       NaN   \n",
       "14             NaN              NaN      NaN         NaN  0.356000       NaN   \n",
       "15             NaN              NaN      NaN         NaN  0.356000       NaN   \n",
       "16             NaN              NaN      NaN         NaN  0.356000       NaN   \n",
       "17             NaN              NaN      NaN         NaN  0.356000       NaN   \n",
       "18             NaN              NaN      NaN         NaN  0.356000       NaN   \n",
       "19             NaN              NaN      NaN         NaN  0.356000       NaN   \n",
       "\n",
       "     Width_m  Seat_Height_m  \n",
       "0   1.689000            NaN  \n",
       "1   0.298451            NaN  \n",
       "2   0.318000            NaN  \n",
       "3   0.508000            NaN  \n",
       "4   0.191000            NaN  \n",
       "5   0.457000            NaN  \n",
       "6   0.457000            NaN  \n",
       "7   0.457000            NaN  \n",
       "8   0.457000            NaN  \n",
       "9   0.457000            NaN  \n",
       "10  0.457000            NaN  \n",
       "11  0.457000            NaN  \n",
       "12  0.457000            NaN  \n",
       "13  0.457000            NaN  \n",
       "14  0.457000            NaN  \n",
       "15  0.457000            NaN  \n",
       "16  0.457000            NaN  \n",
       "17  0.457000            NaN  \n",
       "18  0.457000            NaN  \n",
       "19  0.457000            NaN  "
      ],
      "text/html": "<div>\n<style scoped>\n    .dataframe tbody tr th:only-of-type {\n        vertical-align: middle;\n    }\n\n    .dataframe tbody tr th {\n        vertical-align: top;\n    }\n\n    .dataframe thead th {\n        text-align: right;\n    }\n</style>\n<table border=\"1\" class=\"dataframe\">\n  <thead>\n    <tr style=\"text-align: right;\">\n      <th></th>\n      <th>Circumference_cm</th>\n      <th>Depth_cm</th>\n      <th>Diameter_cm</th>\n      <th>Height_cm</th>\n      <th>Length_cm</th>\n      <th>Width_cm</th>\n      <th>Seat_Height_cm</th>\n      <th>Circumference_m</th>\n      <th>Depth_m</th>\n      <th>Diameter_m</th>\n      <th>Height_m</th>\n      <th>Length_m</th>\n      <th>Width_m</th>\n      <th>Seat_Height_m</th>\n    </tr>\n  </thead>\n  <tbody>\n    <tr>\n      <th>0</th>\n      <td>NaN</td>\n      <td>NaN</td>\n      <td>NaN</td>\n      <td>48.6000</td>\n      <td>NaN</td>\n      <td>168.9000</td>\n      <td>NaN</td>\n      <td>NaN</td>\n      <td>NaN</td>\n      <td>NaN</td>\n      <td>0.486000</td>\n      <td>NaN</td>\n      <td>1.689000</td>\n      <td>NaN</td>\n    </tr>\n    <tr>\n      <th>1</th>\n      <td>NaN</td>\n      <td>NaN</td>\n      <td>NaN</td>\n      <td>40.6401</td>\n      <td>NaN</td>\n      <td>29.8451</td>\n      <td>NaN</td>\n      <td>NaN</td>\n      <td>NaN</td>\n      <td>NaN</td>\n      <td>0.406401</td>\n      <td>NaN</td>\n      <td>0.298451</td>\n      <td>NaN</td>\n    </tr>\n    <tr>\n      <th>2</th>\n      <td>NaN</td>\n      <td>NaN</td>\n      <td>NaN</td>\n      <td>34.3000</td>\n      <td>NaN</td>\n      <td>31.8000</td>\n      <td>NaN</td>\n      <td>NaN</td>\n      <td>NaN</td>\n      <td>NaN</td>\n      <td>0.343000</td>\n      <td>NaN</td>\n      <td>0.318000</td>\n      <td>NaN</td>\n    </tr>\n    <tr>\n      <th>3</th>\n      <td>NaN</td>\n      <td>NaN</td>\n      <td>NaN</td>\n      <td>50.8000</td>\n      <td>NaN</td>\n      <td>50.8000</td>\n      <td>NaN</td>\n      <td>NaN</td>\n      <td>NaN</td>\n      <td>NaN</td>\n      <td>0.508000</td>\n      <td>NaN</td>\n      <td>0.508000</td>\n      <td>NaN</td>\n    </tr>\n    <tr>\n      <th>4</th>\n      <td>NaN</td>\n      <td>NaN</td>\n      <td>NaN</td>\n      <td>38.4000</td>\n      <td>NaN</td>\n      <td>19.1000</td>\n      <td>NaN</td>\n      <td>NaN</td>\n      <td>NaN</td>\n      <td>NaN</td>\n      <td>0.384000</td>\n      <td>NaN</td>\n      <td>0.191000</td>\n      <td>NaN</td>\n    </tr>\n    <tr>\n      <th>5</th>\n      <td>NaN</td>\n      <td>NaN</td>\n      <td>NaN</td>\n      <td>35.6000</td>\n      <td>NaN</td>\n      <td>45.7000</td>\n      <td>NaN</td>\n      <td>NaN</td>\n      <td>NaN</td>\n      <td>NaN</td>\n      <td>0.356000</td>\n      <td>NaN</td>\n      <td>0.457000</td>\n      <td>NaN</td>\n    </tr>\n    <tr>\n      <th>6</th>\n      <td>NaN</td>\n      <td>NaN</td>\n      <td>NaN</td>\n      <td>35.6000</td>\n      <td>NaN</td>\n      <td>45.7000</td>\n      <td>NaN</td>\n      <td>NaN</td>\n      <td>NaN</td>\n      <td>NaN</td>\n      <td>0.356000</td>\n      <td>NaN</td>\n      <td>0.457000</td>\n      <td>NaN</td>\n    </tr>\n    <tr>\n      <th>7</th>\n      <td>NaN</td>\n      <td>NaN</td>\n      <td>NaN</td>\n      <td>35.6000</td>\n      <td>NaN</td>\n      <td>45.7000</td>\n      <td>NaN</td>\n      <td>NaN</td>\n      <td>NaN</td>\n      <td>NaN</td>\n      <td>0.356000</td>\n      <td>NaN</td>\n      <td>0.457000</td>\n      <td>NaN</td>\n    </tr>\n    <tr>\n      <th>8</th>\n      <td>NaN</td>\n      <td>NaN</td>\n      <td>NaN</td>\n      <td>35.6000</td>\n      <td>NaN</td>\n      <td>45.7000</td>\n      <td>NaN</td>\n      <td>NaN</td>\n      <td>NaN</td>\n      <td>NaN</td>\n      <td>0.356000</td>\n      <td>NaN</td>\n      <td>0.457000</td>\n      <td>NaN</td>\n    </tr>\n    <tr>\n      <th>9</th>\n      <td>NaN</td>\n      <td>NaN</td>\n      <td>NaN</td>\n      <td>35.6000</td>\n      <td>NaN</td>\n      <td>45.7000</td>\n      <td>NaN</td>\n      <td>NaN</td>\n      <td>NaN</td>\n      <td>NaN</td>\n      <td>0.356000</td>\n      <td>NaN</td>\n      <td>0.457000</td>\n      <td>NaN</td>\n    </tr>\n    <tr>\n      <th>10</th>\n      <td>NaN</td>\n      <td>NaN</td>\n      <td>NaN</td>\n      <td>35.6000</td>\n      <td>NaN</td>\n      <td>45.7000</td>\n      <td>NaN</td>\n      <td>NaN</td>\n      <td>NaN</td>\n      <td>NaN</td>\n      <td>0.356000</td>\n      <td>NaN</td>\n      <td>0.457000</td>\n      <td>NaN</td>\n    </tr>\n    <tr>\n      <th>11</th>\n      <td>NaN</td>\n      <td>NaN</td>\n      <td>NaN</td>\n      <td>35.6000</td>\n      <td>NaN</td>\n      <td>45.7000</td>\n      <td>NaN</td>\n      <td>NaN</td>\n      <td>NaN</td>\n      <td>NaN</td>\n      <td>0.356000</td>\n      <td>NaN</td>\n      <td>0.457000</td>\n      <td>NaN</td>\n    </tr>\n    <tr>\n      <th>12</th>\n      <td>NaN</td>\n      <td>NaN</td>\n      <td>NaN</td>\n      <td>35.6000</td>\n      <td>NaN</td>\n      <td>45.7000</td>\n      <td>NaN</td>\n      <td>NaN</td>\n      <td>NaN</td>\n      <td>NaN</td>\n      <td>0.356000</td>\n      <td>NaN</td>\n      <td>0.457000</td>\n      <td>NaN</td>\n    </tr>\n    <tr>\n      <th>13</th>\n      <td>NaN</td>\n      <td>NaN</td>\n      <td>NaN</td>\n      <td>35.6000</td>\n      <td>NaN</td>\n      <td>45.7000</td>\n      <td>NaN</td>\n      <td>NaN</td>\n      <td>NaN</td>\n      <td>NaN</td>\n      <td>0.356000</td>\n      <td>NaN</td>\n      <td>0.457000</td>\n      <td>NaN</td>\n    </tr>\n    <tr>\n      <th>14</th>\n      <td>NaN</td>\n      <td>NaN</td>\n      <td>NaN</td>\n      <td>35.6000</td>\n      <td>NaN</td>\n      <td>45.7000</td>\n      <td>NaN</td>\n      <td>NaN</td>\n      <td>NaN</td>\n      <td>NaN</td>\n      <td>0.356000</td>\n      <td>NaN</td>\n      <td>0.457000</td>\n      <td>NaN</td>\n    </tr>\n    <tr>\n      <th>15</th>\n      <td>NaN</td>\n      <td>NaN</td>\n      <td>NaN</td>\n      <td>35.6000</td>\n      <td>NaN</td>\n      <td>45.7000</td>\n      <td>NaN</td>\n      <td>NaN</td>\n      <td>NaN</td>\n      <td>NaN</td>\n      <td>0.356000</td>\n      <td>NaN</td>\n      <td>0.457000</td>\n      <td>NaN</td>\n    </tr>\n    <tr>\n      <th>16</th>\n      <td>NaN</td>\n      <td>NaN</td>\n      <td>NaN</td>\n      <td>35.6000</td>\n      <td>NaN</td>\n      <td>45.7000</td>\n      <td>NaN</td>\n      <td>NaN</td>\n      <td>NaN</td>\n      <td>NaN</td>\n      <td>0.356000</td>\n      <td>NaN</td>\n      <td>0.457000</td>\n      <td>NaN</td>\n    </tr>\n    <tr>\n      <th>17</th>\n      <td>NaN</td>\n      <td>NaN</td>\n      <td>NaN</td>\n      <td>35.6000</td>\n      <td>NaN</td>\n      <td>45.7000</td>\n      <td>NaN</td>\n      <td>NaN</td>\n      <td>NaN</td>\n      <td>NaN</td>\n      <td>0.356000</td>\n      <td>NaN</td>\n      <td>0.457000</td>\n      <td>NaN</td>\n    </tr>\n    <tr>\n      <th>18</th>\n      <td>NaN</td>\n      <td>NaN</td>\n      <td>NaN</td>\n      <td>35.6000</td>\n      <td>NaN</td>\n      <td>45.7000</td>\n      <td>NaN</td>\n      <td>NaN</td>\n      <td>NaN</td>\n      <td>NaN</td>\n      <td>0.356000</td>\n      <td>NaN</td>\n      <td>0.457000</td>\n      <td>NaN</td>\n    </tr>\n    <tr>\n      <th>19</th>\n      <td>NaN</td>\n      <td>NaN</td>\n      <td>NaN</td>\n      <td>35.6000</td>\n      <td>NaN</td>\n      <td>45.7000</td>\n      <td>NaN</td>\n      <td>NaN</td>\n      <td>NaN</td>\n      <td>NaN</td>\n      <td>0.356000</td>\n      <td>NaN</td>\n      <td>0.457000</td>\n      <td>NaN</td>\n    </tr>\n  </tbody>\n</table>\n</div>"
     },
     "metadata": {},
     "execution_count": 90
    }
   ],
   "source": [
    "(artwork\n",
    " >> select(contains('_cm'))\n",
    " >> mutate(**m_dimensions_rename)\n",
    " >> head(20)\n",
    ")"
   ]
  },
  {
   "cell_type": "code",
   "execution_count": null,
   "metadata": {},
   "outputs": [],
   "source": []
  }
 ],
 "metadata": {
  "kernelspec": {
   "display_name": "Python 3",
   "language": "python",
   "name": "python3"
  },
  "language_info": {
   "codemirror_mode": {
    "name": "ipython",
    "version": 3
   },
   "file_extension": ".py",
   "mimetype": "text/x-python",
   "name": "python",
   "nbconvert_exporter": "python",
   "pygments_lexer": "ipython3",
   "version": "3.7.6"
  },
  "varInspector": {
   "cols": {
    "lenName": 16,
    "lenType": 16,
    "lenVar": 40
   },
   "kernels_config": {
    "python": {
     "delete_cmd_postfix": "",
     "delete_cmd_prefix": "del ",
     "library": "var_list.py",
     "varRefreshCmd": "print(var_dic_list())"
    },
    "r": {
     "delete_cmd_postfix": ") ",
     "delete_cmd_prefix": "rm(",
     "library": "var_list.r",
     "varRefreshCmd": "cat(var_dic_list()) "
    }
   },
   "types_to_exclude": [
    "module",
    "function",
    "builtin_function_or_method",
    "instance",
    "_Feature"
   ],
   "window_display": false
  }
 },
 "nbformat": 4,
 "nbformat_minor": 2
}