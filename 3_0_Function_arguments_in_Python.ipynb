{
 "cells": [
  {
   "cell_type": "markdown",
   "metadata": {},
   "source": [
    "# Function arguments in Python\n",
    "\n",
    "In this lecture, we will explore the four types of functional arguments in Python, namely\n",
    "\n",
    "1. Position-only arguments (only in Python 3.8--not in Anaconda as of Feb. 2021).\n",
    "    1. *Skipping for now*\n",
    "2. Positional or keyword arguments.\n",
    "3. Varargs (a variable number of extra arguments).\n",
    "4. Keyword only arguments.\n",
    "5. kwargs (a variable number of extra keyword arguments)"
   ]
  },
  {
   "cell_type": "markdown",
   "metadata": {},
   "source": [
    "## Note on position-only arguments.\n",
    "\n",
    "A new type of argument was introduced in Python 3.8, but Anaconda hasn't been upgraded yet due to some incompatibility with certain packages.  We will be ignoring this type of argument for now.  Expect this lecture to be updated in the future."
   ]
  },
  {
   "cell_type": "code",
   "execution_count": 2,
   "metadata": {},
   "outputs": [],
   "source": [
    "import sys"
   ]
  },
  {
   "cell_type": "code",
   "execution_count": 3,
   "metadata": {},
   "outputs": [
    {
     "output_type": "execute_result",
     "data": {
      "text/plain": [
       "'3.7.6 (default, Jan  8 2020, 19:59:22) \\n[GCC 7.3.0]'"
      ]
     },
     "metadata": {},
     "execution_count": 3
    }
   ],
   "source": [
    "sys.version"
   ]
  },
  {
   "cell_type": "markdown",
   "metadata": {},
   "source": [
    "## Position or keyword arguments.\n",
    "\n",
    "The most common type of arguments can be accessed either through their position or as keywords.  Note that Python requires that arguments with a default value follow those that do not."
   ]
  },
  {
   "cell_type": "code",
   "execution_count": 4,
   "metadata": {},
   "outputs": [],
   "source": [
    "def f(pos_or_kw1, pos_or_kw2, pos_or_kw3 = None):\n",
    "    return f\"a1 = {pos_or_kw1}, a2 = {pos_or_kw2}, a3 = {pos_or_kw3}\""
   ]
  },
  {
   "cell_type": "markdown",
   "metadata": {},
   "source": [
    "#### Non-default via position"
   ]
  },
  {
   "cell_type": "code",
   "execution_count": 5,
   "metadata": {},
   "outputs": [
    {
     "output_type": "execute_result",
     "data": {
      "text/plain": [
       "'a1 = 1, a2 = 2, a3 = None'"
      ]
     },
     "metadata": {},
     "execution_count": 5
    }
   ],
   "source": [
    "f(1, 2)"
   ]
  },
  {
   "cell_type": "markdown",
   "metadata": {},
   "source": [
    "#### Non-default via keyword"
   ]
  },
  {
   "cell_type": "code",
   "execution_count": 6,
   "metadata": {},
   "outputs": [
    {
     "output_type": "execute_result",
     "data": {
      "text/plain": [
       "'a1 = 1, a2 = 2, a3 = None'"
      ]
     },
     "metadata": {},
     "execution_count": 6
    }
   ],
   "source": [
    "f(pos_or_kw1=1, pos_or_kw2=2)"
   ]
  },
  {
   "cell_type": "markdown",
   "metadata": {},
   "source": [
    "#### keyword arguments can be in any order"
   ]
  },
  {
   "cell_type": "code",
   "execution_count": 7,
   "metadata": {},
   "outputs": [
    {
     "output_type": "execute_result",
     "data": {
      "text/plain": [
       "'a1 = 2, a2 = 1, a3 = None'"
      ]
     },
     "metadata": {},
     "execution_count": 7
    }
   ],
   "source": [
    "f(pos_or_kw2=1, pos_or_kw1=2)"
   ]
  },
  {
   "cell_type": "markdown",
   "metadata": {},
   "source": [
    "#### Args without defaults are required"
   ]
  },
  {
   "cell_type": "code",
   "execution_count": 8,
   "metadata": {},
   "outputs": [
    {
     "output_type": "error",
     "ename": "TypeError",
     "evalue": "f() missing 1 required positional argument: 'pos_or_kw2'",
     "traceback": [
      "\u001b[0;31m---------------------------------------------------------------------------\u001b[0m",
      "\u001b[0;31mTypeError\u001b[0m                                 Traceback (most recent call last)",
      "\u001b[0;32m<ipython-input-8-281ab0a37d7d>\u001b[0m in \u001b[0;36m<module>\u001b[0;34m\u001b[0m\n\u001b[0;32m----> 1\u001b[0;31m \u001b[0mf\u001b[0m\u001b[0;34m(\u001b[0m\u001b[0;36m1\u001b[0m\u001b[0;34m)\u001b[0m\u001b[0;34m\u001b[0m\u001b[0;34m\u001b[0m\u001b[0m\n\u001b[0m",
      "\u001b[0;31mTypeError\u001b[0m: f() missing 1 required positional argument: 'pos_or_kw2'"
     ]
    }
   ],
   "source": [
    "f(1)"
   ]
  },
  {
   "cell_type": "markdown",
   "metadata": {},
   "source": [
    "#### Default via position"
   ]
  },
  {
   "cell_type": "code",
   "execution_count": 37,
   "metadata": {},
   "outputs": [
    {
     "output_type": "execute_result",
     "data": {
      "text/plain": [
       "'a1 = 1, a2 = 2, a3 = 3'"
      ]
     },
     "metadata": {},
     "execution_count": 37
    }
   ],
   "source": [
    "f(1, 2, 3)"
   ]
  },
  {
   "cell_type": "markdown",
   "metadata": {},
   "source": [
    "#### Default via keyword"
   ]
  },
  {
   "cell_type": "code",
   "execution_count": 38,
   "metadata": {},
   "outputs": [
    {
     "output_type": "execute_result",
     "data": {
      "text/plain": [
       "'a1 = 1, a2 = 2, a3 = 3'"
      ]
     },
     "metadata": {},
     "execution_count": 38
    }
   ],
   "source": [
    "f(pos_or_kw1=1, pos_or_kw2=2, pos_or_kw3=3)"
   ]
  },
  {
   "cell_type": "markdown",
   "metadata": {},
   "source": [
    "#### Again keyword arguments can be in any order"
   ]
  },
  {
   "cell_type": "code",
   "execution_count": 39,
   "metadata": {},
   "outputs": [
    {
     "output_type": "execute_result",
     "data": {
      "text/plain": [
       "'a1 = 3, a2 = 2, a3 = 1'"
      ]
     },
     "metadata": {},
     "execution_count": 39
    }
   ],
   "source": [
    "f(pos_or_kw3=1, pos_or_kw2=2, pos_or_kw1=3)"
   ]
  },
  {
   "cell_type": "markdown",
   "metadata": {},
   "source": [
    "## Varargs\n",
    "\n",
    "We can add a variable number of additional arguments using the `*args` arguments.  The arguments for these additiona entries will be stored in a tuple named `args`.  \n",
    "\n",
    "Note that varargs must follow all position or keyword arguments."
   ]
  },
  {
   "cell_type": "code",
   "execution_count": 40,
   "metadata": {},
   "outputs": [],
   "source": [
    "def g(p_kw1, p_kw2, p_kw3 = None, *args):\n",
    "    return f\"a1 = {p_kw1}, a2 = {p_kw2}, a3 = {p_kw3}, star_args = {args}\""
   ]
  },
  {
   "cell_type": "markdown",
   "metadata": {},
   "source": [
    "#### Positions for defaults are preserved.\n",
    "\n",
    "Note that the third position provides a value to `p_kw3` then the remaining arguments get passed to `args`"
   ]
  },
  {
   "cell_type": "code",
   "execution_count": 41,
   "metadata": {},
   "outputs": [
    {
     "output_type": "execute_result",
     "data": {
      "text/plain": [
       "'a1 = 1, a2 = 2, a3 = 3, star_args = (4, 5)'"
      ]
     },
     "metadata": {},
     "execution_count": 41
    }
   ],
   "source": [
    "g(1, 2, 3, 4, 5)"
   ]
  },
  {
   "cell_type": "markdown",
   "metadata": {},
   "source": [
    "#### `args` is just another name\n",
    "\n",
    "While it is convential to use `args` in `*args`, the choice of name is up to the programmer."
   ]
  },
  {
   "cell_type": "code",
   "execution_count": 42,
   "metadata": {},
   "outputs": [],
   "source": [
    "def g2(*my_args):\n",
    "    return my_args"
   ]
  },
  {
   "cell_type": "code",
   "execution_count": 43,
   "metadata": {},
   "outputs": [
    {
     "output_type": "execute_result",
     "data": {
      "text/plain": [
       "(1, 2, 'a', 'b')"
      ]
     },
     "metadata": {},
     "execution_count": 43
    }
   ],
   "source": [
    "g2(1, 2, \"a\", \"b\")"
   ]
  },
  {
   "cell_type": "markdown",
   "metadata": {},
   "source": [
    "## Keyword-only parameters\n",
    "\n",
    "Any parameters defined after `*args` will be deemed *keyword-only* and can only be accessed through keyword-assignment."
   ]
  },
  {
   "cell_type": "code",
   "execution_count": 44,
   "metadata": {},
   "outputs": [],
   "source": [
    "def h(p_kw1, p_kw2, p_kw3 = None, *args, kw_only = \"> Silas\"):\n",
    "    return f\"a1 = {p_kw1}, a2 = {p_kw2}, a3 = {p_kw3}, star_args = {args}, Iverson {kw_only}\""
   ]
  },
  {
   "cell_type": "markdown",
   "metadata": {},
   "source": [
    "#### Using the default value"
   ]
  },
  {
   "cell_type": "code",
   "execution_count": 45,
   "metadata": {},
   "outputs": [
    {
     "output_type": "execute_result",
     "data": {
      "text/plain": [
       "'a1 = 1, a2 = 2, a3 = 3, star_args = (4, 5), Iverson > Silas'"
      ]
     },
     "metadata": {},
     "execution_count": 45
    }
   ],
   "source": [
    "h(1, 2, 3, 4, 5)"
   ]
  },
  {
   "cell_type": "markdown",
   "metadata": {},
   "source": [
    "#### Changing the default with keyword-assignment"
   ]
  },
  {
   "cell_type": "code",
   "execution_count": 46,
   "metadata": {},
   "outputs": [
    {
     "output_type": "execute_result",
     "data": {
      "text/plain": [
       "'a1 = 1, a2 = 2, a3 = 3, star_args = (4, 5), Iverson != Malone'"
      ]
     },
     "metadata": {},
     "execution_count": 46
    }
   ],
   "source": [
    "h(1, 2, 3, 4, 5, kw_only = \"!= Malone\")"
   ]
  },
  {
   "cell_type": "markdown",
   "metadata": {},
   "source": [
    "#### Defining keyword-only parameters without varargs.\n",
    "\n",
    "If you would like to define keyword-only parameters **but no varargs**, insert a `*,` after the last `positional or keyword` parameter."
   ]
  },
  {
   "cell_type": "code",
   "execution_count": 47,
   "metadata": {},
   "outputs": [],
   "source": [
    "def h2(p_kw1, p_kw2, p_kw3 = None, *, kw_only = \"> Silas\"):\n",
    "    return f\"a1 = {p_kw1}, a2 = {p_kw2}, a3 = {p_kw3}, Iverson {kw_only}\""
   ]
  },
  {
   "cell_type": "markdown",
   "metadata": {},
   "source": [
    "#### Using both the default value"
   ]
  },
  {
   "cell_type": "code",
   "execution_count": 48,
   "metadata": {},
   "outputs": [
    {
     "output_type": "execute_result",
     "data": {
      "text/plain": [
       "'a1 = 1, a2 = 2, a3 = None, Iverson > Silas'"
      ]
     },
     "metadata": {},
     "execution_count": 48
    }
   ],
   "source": [
    "h2(1, 2)"
   ]
  },
  {
   "cell_type": "markdown",
   "metadata": {},
   "source": [
    "#### Keeping the default value for `kw_only`"
   ]
  },
  {
   "cell_type": "code",
   "execution_count": 49,
   "metadata": {},
   "outputs": [
    {
     "output_type": "execute_result",
     "data": {
      "text/plain": [
       "'a1 = 1, a2 = 2, a3 = 3, Iverson > Silas'"
      ]
     },
     "metadata": {},
     "execution_count": 49
    }
   ],
   "source": [
    "h2(1, 2, 3)"
   ]
  },
  {
   "cell_type": "markdown",
   "metadata": {},
   "source": [
    "#### Can't access `kw_only` via a positional argument."
   ]
  },
  {
   "cell_type": "code",
   "execution_count": 50,
   "metadata": {},
   "outputs": [
    {
     "output_type": "error",
     "ename": "TypeError",
     "evalue": "h2() takes from 2 to 3 positional arguments but 4 were given",
     "traceback": [
      "\u001b[0;31m---------------------------------------------------------------------------\u001b[0m",
      "\u001b[0;31mTypeError\u001b[0m                                 Traceback (most recent call last)",
      "\u001b[0;32m<ipython-input-50-eff528fbfab4>\u001b[0m in \u001b[0;36m<module>\u001b[0;34m\u001b[0m\n\u001b[0;32m----> 1\u001b[0;31m \u001b[0mh2\u001b[0m\u001b[0;34m(\u001b[0m\u001b[0;36m1\u001b[0m\u001b[0;34m,\u001b[0m \u001b[0;36m2\u001b[0m\u001b[0;34m,\u001b[0m \u001b[0;36m3\u001b[0m\u001b[0;34m,\u001b[0m \u001b[0;36m4\u001b[0m\u001b[0;34m)\u001b[0m\u001b[0;34m\u001b[0m\u001b[0;34m\u001b[0m\u001b[0m\n\u001b[0m",
      "\u001b[0;31mTypeError\u001b[0m: h2() takes from 2 to 3 positional arguments but 4 were given"
     ]
    }
   ],
   "source": [
    "h2(1, 2, 3, 4)"
   ]
  },
  {
   "cell_type": "markdown",
   "metadata": {},
   "source": [
    "#### Must use keyword assignment to change `kw_only`"
   ]
  },
  {
   "cell_type": "code",
   "execution_count": 31,
   "metadata": {
    "scrolled": true
   },
   "outputs": [
    {
     "data": {
      "text/plain": [
       "'a1 = 1, a2 = 2, a3 = 3, Iverson < Hooks'"
      ]
     },
     "execution_count": 31,
     "metadata": {},
     "output_type": "execute_result"
    }
   ],
   "source": [
    "h2(1, 2, 3, kw_only=\"< Hooks\")"
   ]
  },
  {
   "cell_type": "markdown",
   "metadata": {},
   "source": [
    "## A variable number of additional keyword arguments\n",
    "\n",
    "Finally, we can use `**kwargs` to gather any number of additional keyword-only arguments.  The resulting values will be stored in a `dict` with keywords as keys and argument values as values.  Again, the `kwargs` name is customary, but can be changed by the programmer."
   ]
  },
  {
   "cell_type": "code",
   "execution_count": 32,
   "metadata": {},
   "outputs": [],
   "source": [
    "def m(p1, p2, *, kw1 = None, **my_kwargs):\n",
    "    return my_kwargs"
   ]
  },
  {
   "cell_type": "code",
   "execution_count": 33,
   "metadata": {},
   "outputs": [
    {
     "data": {
      "text/plain": [
       "{'Iverson': 'Great', 'Bergen': 'likes R'}"
      ]
     },
     "execution_count": 33,
     "metadata": {},
     "output_type": "execute_result"
    }
   ],
   "source": [
    "m(1, 2, Iverson=\"Great\", Bergen=\"likes R\")"
   ]
  },
  {
   "cell_type": "markdown",
   "metadata": {},
   "source": [
    "# Impact on `pipeable` functions\n",
    "\n",
    "When creating `pipeable` functions, we need to make a couple adjustments.\n",
    "\n",
    "1. We **CANNOT** mix `*args` and curried functions, as the function will never complete.\n",
    "2. Consider switching all parameters with default values to keyword-only parameters.\n",
    "3. Use `**kwargs` as a way to allow for variable number of inputs."
   ]
  },
  {
   "cell_type": "code",
   "execution_count": 56,
   "metadata": {},
   "outputs": [
    {
     "output_type": "stream",
     "name": "stdout",
     "text": [
      "Requirement already satisfied: composable in /home/sandrews/.pyenv/versions/anaconda3-2020.02/lib/python3.7/site-packages (0.2.5)\n",
      "Requirement already satisfied: toolz<0.12.0,>=0.11.1 in /home/sandrews/.pyenv/versions/anaconda3-2020.02/lib/python3.7/site-packages (from composable) (0.11.1)\n",
      "Requirement already satisfied: python-forge<19.0,>=18.6 in /home/sandrews/.pyenv/versions/anaconda3-2020.02/lib/python3.7/site-packages (from composable) (18.6.0)\n"
     ]
    }
   ],
   "source": [
    "!pip install composable"
   ]
  },
  {
   "cell_type": "code",
   "execution_count": 57,
   "metadata": {},
   "outputs": [],
   "source": [
    "import pandas as pd\n",
    "from composable import pipeable"
   ]
  },
  {
   "cell_type": "code",
   "execution_count": 58,
   "metadata": {},
   "outputs": [
    {
     "output_type": "stream",
     "name": "stdout",
     "text": [
      "Help on function slice in module pandas.core.strings.accessor:\n\nslice(self, start=None, stop=None, step=None)\n    Slice substrings from each element in the Series or Index.\n    \n    Parameters\n    ----------\n    start : int, optional\n        Start position for slice operation.\n    stop : int, optional\n        Stop position for slice operation.\n    step : int, optional\n        Step size for slice operation.\n    \n    Returns\n    -------\n    Series or Index of object\n        Series or Index from sliced substring from original string object.\n    \n    See Also\n    --------\n    Series.str.slice_replace : Replace a slice with a string.\n    Series.str.get : Return element at position.\n        Equivalent to `Series.str.slice(start=i, stop=i+1)` with `i`\n        being the position.\n    \n    Examples\n    --------\n    >>> s = pd.Series([\"koala\", \"fox\", \"chameleon\"])\n    >>> s\n    0        koala\n    1          fox\n    2    chameleon\n    dtype: object\n    \n    >>> s.str.slice(start=1)\n    0        oala\n    1          ox\n    2    hameleon\n    dtype: object\n    \n    >>> s.str.slice(start=-1)\n    0           a\n    1           x\n    2           n\n    dtype: object\n    \n    >>> s.str.slice(stop=2)\n    0    ko\n    1    fo\n    2    ch\n    dtype: object\n    \n    >>> s.str.slice(step=2)\n    0      kaa\n    1       fx\n    2    caeen\n    dtype: object\n    \n    >>> s.str.slice(start=0, stop=5, step=3)\n    0    kl\n    1     f\n    2    cm\n    dtype: object\n    \n    Equivalent behaviour to:\n    \n    >>> s.str[0:5:3]\n    0    kl\n    1     f\n    2    cm\n    dtype: object\n\n"
     ]
    }
   ],
   "source": [
    "help(pd.Series.str.slice)"
   ]
  },
  {
   "cell_type": "code",
   "execution_count": 59,
   "metadata": {},
   "outputs": [],
   "source": [
    "@pipeable\n",
    "def slice(col, start=None, stop=None, step=None):\n",
    "    return col.str.slice( start = start, stop = stop, step = step)"
   ]
  },
  {
   "cell_type": "code",
   "execution_count": 60,
   "metadata": {
    "scrolled": true
   },
   "outputs": [
    {
     "output_type": "execute_result",
     "data": {
      "text/plain": [
       "0     1000\n",
       "1     1001\n",
       "2     1002\n",
       "3     1003\n",
       "4     1004\n",
       "5     1005\n",
       "6     1006\n",
       "7     1007\n",
       "8     1008\n",
       "9     1009\n",
       "10    1010\n",
       "dtype: object"
      ]
     },
     "metadata": {},
     "execution_count": 60
    }
   ],
   "source": [
    "from composable.strict import map\n",
    "c = pd.Series(map(str, range(1000,1011)))\n",
    "c"
   ]
  },
  {
   "cell_type": "code",
   "execution_count": 61,
   "metadata": {},
   "outputs": [
    {
     "output_type": "execute_result",
     "data": {
      "text/plain": [
       "0     00\n",
       "1     00\n",
       "2     00\n",
       "3     00\n",
       "4     00\n",
       "5     00\n",
       "6     00\n",
       "7     00\n",
       "8     00\n",
       "9     00\n",
       "10    01\n",
       "dtype: object"
      ]
     },
     "metadata": {},
     "execution_count": 61
    }
   ],
   "source": [
    "c.str.slice(1, 3)"
   ]
  },
  {
   "cell_type": "code",
   "execution_count": 63,
   "metadata": {},
   "outputs": [
    {
     "output_type": "error",
     "ename": "AttributeError",
     "evalue": "'int' object has no attribute 'str'",
     "traceback": [
      "\u001b[0;31m---------------------------------------------------------------------------\u001b[0m",
      "\u001b[0;31mAttributeError\u001b[0m                            Traceback (most recent call last)",
      "\u001b[0;32m<ipython-input-63-5f686a0f44da>\u001b[0m in \u001b[0;36m<module>\u001b[0;34m\u001b[0m\n\u001b[0;32m----> 1\u001b[0;31m \u001b[0mc\u001b[0m \u001b[0;34m>>\u001b[0m \u001b[0mslice\u001b[0m\u001b[0;34m(\u001b[0m\u001b[0;36m1\u001b[0m\u001b[0;34m,\u001b[0m \u001b[0;36m3\u001b[0m\u001b[0;34m)\u001b[0m \u001b[0;31m# first argument passed to `col` by position.\u001b[0m\u001b[0;34m\u001b[0m\u001b[0;34m\u001b[0m\u001b[0m\n\u001b[0m",
      "\u001b[0;32m~/.pyenv/versions/anaconda3-2020.02/lib/python3.7/site-packages/toolz/functoolz.py\u001b[0m in \u001b[0;36m__call__\u001b[0;34m(self, *args, **kwargs)\u001b[0m\n\u001b[1;32m    301\u001b[0m     \u001b[0;32mdef\u001b[0m \u001b[0m__call__\u001b[0m\u001b[0;34m(\u001b[0m\u001b[0mself\u001b[0m\u001b[0;34m,\u001b[0m \u001b[0;34m*\u001b[0m\u001b[0margs\u001b[0m\u001b[0;34m,\u001b[0m \u001b[0;34m**\u001b[0m\u001b[0mkwargs\u001b[0m\u001b[0;34m)\u001b[0m\u001b[0;34m:\u001b[0m\u001b[0;34m\u001b[0m\u001b[0;34m\u001b[0m\u001b[0m\n\u001b[1;32m    302\u001b[0m         \u001b[0;32mtry\u001b[0m\u001b[0;34m:\u001b[0m\u001b[0;34m\u001b[0m\u001b[0;34m\u001b[0m\u001b[0m\n\u001b[0;32m--> 303\u001b[0;31m             \u001b[0;32mreturn\u001b[0m \u001b[0mself\u001b[0m\u001b[0;34m.\u001b[0m\u001b[0m_partial\u001b[0m\u001b[0;34m(\u001b[0m\u001b[0;34m*\u001b[0m\u001b[0margs\u001b[0m\u001b[0;34m,\u001b[0m \u001b[0;34m**\u001b[0m\u001b[0mkwargs\u001b[0m\u001b[0;34m)\u001b[0m\u001b[0;34m\u001b[0m\u001b[0;34m\u001b[0m\u001b[0m\n\u001b[0m\u001b[1;32m    304\u001b[0m         \u001b[0;32mexcept\u001b[0m \u001b[0mTypeError\u001b[0m \u001b[0;32mas\u001b[0m \u001b[0mexc\u001b[0m\u001b[0;34m:\u001b[0m\u001b[0;34m\u001b[0m\u001b[0;34m\u001b[0m\u001b[0m\n\u001b[1;32m    305\u001b[0m             \u001b[0;32mif\u001b[0m \u001b[0mself\u001b[0m\u001b[0;34m.\u001b[0m\u001b[0m_should_curry\u001b[0m\u001b[0;34m(\u001b[0m\u001b[0margs\u001b[0m\u001b[0;34m,\u001b[0m \u001b[0mkwargs\u001b[0m\u001b[0;34m,\u001b[0m \u001b[0mexc\u001b[0m\u001b[0;34m)\u001b[0m\u001b[0;34m:\u001b[0m\u001b[0;34m\u001b[0m\u001b[0;34m\u001b[0m\u001b[0m\n",
      "\u001b[0;32m<ipython-input-59-9ba85a456395>\u001b[0m in \u001b[0;36mslice\u001b[0;34m(col, start, stop, step)\u001b[0m\n\u001b[1;32m      1\u001b[0m \u001b[0;34m@\u001b[0m\u001b[0mpipeable\u001b[0m\u001b[0;34m\u001b[0m\u001b[0;34m\u001b[0m\u001b[0m\n\u001b[1;32m      2\u001b[0m \u001b[0;32mdef\u001b[0m \u001b[0mslice\u001b[0m\u001b[0;34m(\u001b[0m\u001b[0mcol\u001b[0m\u001b[0;34m,\u001b[0m \u001b[0mstart\u001b[0m\u001b[0;34m=\u001b[0m\u001b[0;32mNone\u001b[0m\u001b[0;34m,\u001b[0m \u001b[0mstop\u001b[0m\u001b[0;34m=\u001b[0m\u001b[0;32mNone\u001b[0m\u001b[0;34m,\u001b[0m \u001b[0mstep\u001b[0m\u001b[0;34m=\u001b[0m\u001b[0;32mNone\u001b[0m\u001b[0;34m)\u001b[0m\u001b[0;34m:\u001b[0m\u001b[0;34m\u001b[0m\u001b[0;34m\u001b[0m\u001b[0m\n\u001b[0;32m----> 3\u001b[0;31m     \u001b[0;32mreturn\u001b[0m \u001b[0mcol\u001b[0m\u001b[0;34m.\u001b[0m\u001b[0mstr\u001b[0m\u001b[0;34m.\u001b[0m\u001b[0mslice\u001b[0m\u001b[0;34m(\u001b[0m \u001b[0mstart\u001b[0m \u001b[0;34m=\u001b[0m \u001b[0mstart\u001b[0m\u001b[0;34m,\u001b[0m \u001b[0mstop\u001b[0m \u001b[0;34m=\u001b[0m \u001b[0mstop\u001b[0m\u001b[0;34m,\u001b[0m \u001b[0mstep\u001b[0m \u001b[0;34m=\u001b[0m \u001b[0mstep\u001b[0m\u001b[0;34m)\u001b[0m\u001b[0;34m\u001b[0m\u001b[0;34m\u001b[0m\u001b[0m\n\u001b[0m",
      "\u001b[0;31mAttributeError\u001b[0m: 'int' object has no attribute 'str'"
     ]
    }
   ],
   "source": [
    "c >> slice(1, 3) # first argument passed to `col` by position."
   ]
  },
  {
   "cell_type": "code",
   "execution_count": 64,
   "metadata": {},
   "outputs": [],
   "source": [
    "@pipeable\n",
    "def slice(col, *, start=None, stop=None, step=None):\n",
    "    return col.str.slice(start, stop, step)"
   ]
  },
  {
   "cell_type": "code",
   "execution_count": 65,
   "metadata": {},
   "outputs": [
    {
     "output_type": "execute_result",
     "data": {
      "text/plain": [
       "0     00\n",
       "1     00\n",
       "2     00\n",
       "3     00\n",
       "4     00\n",
       "5     00\n",
       "6     00\n",
       "7     00\n",
       "8     00\n",
       "9     00\n",
       "10    01\n",
       "dtype: object"
      ]
     },
     "metadata": {},
     "execution_count": 65
    }
   ],
   "source": [
    "c >> slice(start = 1, stop = 3) # second and third digits"
   ]
  },
  {
   "cell_type": "code",
   "execution_count": null,
   "metadata": {},
   "outputs": [],
   "source": [
    "@pipeable\n",
    "def replace(col, pat, rep1, n = -1, case = None, flags = 0, regex = none):\n",
    "    return col.str.slice()"
   ]
  },
  {
   "cell_type": "code",
   "execution_count": 66,
   "metadata": {},
   "outputs": [
    {
     "output_type": "stream",
     "name": "stdout",
     "text": [
      "Help on method replace in module pandas.core.strings.accessor:\n\nreplace(pat, repl, n=-1, case=None, flags=0, regex=None) method of pandas.core.strings.accessor.StringMethods instance\n    Replace each occurrence of pattern/regex in the Series/Index.\n    \n    Equivalent to :meth:`str.replace` or :func:`re.sub`, depending on\n    the regex value.\n    \n    Parameters\n    ----------\n    pat : str or compiled regex\n        String can be a character sequence or regular expression.\n    repl : str or callable\n        Replacement string or a callable. The callable is passed the regex\n        match object and must return a replacement string to be used.\n        See :func:`re.sub`.\n    n : int, default -1 (all)\n        Number of replacements to make from start.\n    case : bool, default None\n        Determines if replace is case sensitive:\n    \n        - If True, case sensitive (the default if `pat` is a string)\n        - Set to False for case insensitive\n        - Cannot be set if `pat` is a compiled regex.\n    \n    flags : int, default 0 (no flags)\n        Regex module flags, e.g. re.IGNORECASE. Cannot be set if `pat` is a compiled\n        regex.\n    regex : bool, default True\n        Determines if assumes the passed-in pattern is a regular expression:\n    \n        - If True, assumes the passed-in pattern is a regular expression.\n        - If False, treats the pattern as a literal string\n        - Cannot be set to False if `pat` is a compiled regex or `repl` is\n          a callable.\n    \n        .. versionadded:: 0.23.0\n    \n    Returns\n    -------\n    Series or Index of object\n        A copy of the object with all matching occurrences of `pat` replaced by\n        `repl`.\n    \n    Raises\n    ------\n    ValueError\n        * if `regex` is False and `repl` is a callable or `pat` is a compiled\n          regex\n        * if `pat` is a compiled regex and `case` or `flags` is set\n    \n    Notes\n    -----\n    When `pat` is a compiled regex, all flags should be included in the\n    compiled regex. Use of `case`, `flags`, or `regex=False` with a compiled\n    regex will raise an error.\n    \n    Examples\n    --------\n    When `pat` is a string and `regex` is True (the default), the given `pat`\n    is compiled as a regex. When `repl` is a string, it replaces matching\n    regex patterns as with :meth:`re.sub`. NaN value(s) in the Series are\n    left as is:\n    \n    >>> pd.Series(['foo', 'fuz', np.nan]).str.replace('f.', 'ba', regex=True)\n    0    bao\n    1    baz\n    2    NaN\n    dtype: object\n    \n    When `pat` is a string and `regex` is False, every `pat` is replaced with\n    `repl` as with :meth:`str.replace`:\n    \n    >>> pd.Series(['f.o', 'fuz', np.nan]).str.replace('f.', 'ba', regex=False)\n    0    bao\n    1    fuz\n    2    NaN\n    dtype: object\n    \n    When `repl` is a callable, it is called on every `pat` using\n    :func:`re.sub`. The callable should expect one positional argument\n    (a regex object) and return a string.\n    \n    To get the idea:\n    \n    >>> pd.Series(['foo', 'fuz', np.nan]).str.replace('f', repr)\n    0    <re.Match object; span=(0, 1), match='f'>oo\n    1    <re.Match object; span=(0, 1), match='f'>uz\n    2                                            NaN\n    dtype: object\n    \n    Reverse every lowercase alphabetic word:\n    \n    >>> repl = lambda m: m.group(0)[::-1]\n    >>> pd.Series(['foo 123', 'bar baz', np.nan]).str.replace(r'[a-z]+', repl)\n    0    oof 123\n    1    rab zab\n    2        NaN\n    dtype: object\n    \n    Using regex groups (extract second group and swap case):\n    \n    >>> pat = r\"(?P<one>\\w+) (?P<two>\\w+) (?P<three>\\w+)\"\n    >>> repl = lambda m: m.group('two').swapcase()\n    >>> pd.Series(['One Two Three', 'Foo Bar Baz']).str.replace(pat, repl)\n    0    tWO\n    1    bAR\n    dtype: object\n    \n    Using a compiled regex with flags\n    \n    >>> import re\n    >>> regex_pat = re.compile(r'FUZ', flags=re.IGNORECASE)\n    >>> pd.Series(['foo', 'fuz', np.nan]).str.replace(regex_pat, 'bar')\n    0    foo\n    1    bar\n    2    NaN\n    dtype: object\n\n"
     ]
    }
   ],
   "source": [
    "help(c.str.replace)"
   ]
  },
  {
   "cell_type": "code",
   "execution_count": 69,
   "metadata": {},
   "outputs": [
    {
     "output_type": "execute_result",
     "data": {
      "text/plain": [
       "['T',\n",
       " 'all',\n",
       " 'any',\n",
       " 'append',\n",
       " 'argmax',\n",
       " 'argmin',\n",
       " 'argsort',\n",
       " 'array',\n",
       " 'asi8',\n",
       " 'asof',\n",
       " 'asof_locs',\n",
       " 'astype',\n",
       " 'ceil',\n",
       " 'copy',\n",
       " 'date',\n",
       " 'day',\n",
       " 'day_name',\n",
       " 'day_of_week',\n",
       " 'day_of_year',\n",
       " 'dayofweek',\n",
       " 'dayofyear',\n",
       " 'days_in_month',\n",
       " 'daysinmonth',\n",
       " 'delete',\n",
       " 'difference',\n",
       " 'drop',\n",
       " 'drop_duplicates',\n",
       " 'droplevel',\n",
       " 'dropna',\n",
       " 'dtype',\n",
       " 'duplicated',\n",
       " 'empty',\n",
       " 'equals',\n",
       " 'factorize',\n",
       " 'fillna',\n",
       " 'floor',\n",
       " 'format',\n",
       " 'freq',\n",
       " 'freqstr',\n",
       " 'get_indexer',\n",
       " 'get_indexer_for',\n",
       " 'get_indexer_non_unique',\n",
       " 'get_level_values',\n",
       " 'get_loc',\n",
       " 'get_slice_bound',\n",
       " 'get_value',\n",
       " 'groupby',\n",
       " 'has_duplicates',\n",
       " 'hasnans',\n",
       " 'holds_integer',\n",
       " 'hour',\n",
       " 'identical',\n",
       " 'indexer_at_time',\n",
       " 'indexer_between_time',\n",
       " 'inferred_freq',\n",
       " 'inferred_type',\n",
       " 'insert',\n",
       " 'intersection',\n",
       " 'is_',\n",
       " 'is_all_dates',\n",
       " 'is_boolean',\n",
       " 'is_categorical',\n",
       " 'is_floating',\n",
       " 'is_integer',\n",
       " 'is_interval',\n",
       " 'is_leap_year',\n",
       " 'is_mixed',\n",
       " 'is_monotonic',\n",
       " 'is_monotonic_decreasing',\n",
       " 'is_monotonic_increasing',\n",
       " 'is_month_end',\n",
       " 'is_month_start',\n",
       " 'is_normalized',\n",
       " 'is_numeric',\n",
       " 'is_object',\n",
       " 'is_quarter_end',\n",
       " 'is_quarter_start',\n",
       " 'is_type_compatible',\n",
       " 'is_unique',\n",
       " 'is_year_end',\n",
       " 'is_year_start',\n",
       " 'isin',\n",
       " 'isna',\n",
       " 'isnull',\n",
       " 'isocalendar',\n",
       " 'item',\n",
       " 'join',\n",
       " 'map',\n",
       " 'max',\n",
       " 'mean',\n",
       " 'memory_usage',\n",
       " 'microsecond',\n",
       " 'min',\n",
       " 'minute',\n",
       " 'month',\n",
       " 'month_name',\n",
       " 'name',\n",
       " 'names',\n",
       " 'nanosecond',\n",
       " 'nbytes',\n",
       " 'ndim',\n",
       " 'nlevels',\n",
       " 'normalize',\n",
       " 'notna',\n",
       " 'notnull',\n",
       " 'nunique',\n",
       " 'putmask',\n",
       " 'quarter',\n",
       " 'ravel',\n",
       " 'reindex',\n",
       " 'rename',\n",
       " 'repeat',\n",
       " 'resolution',\n",
       " 'round',\n",
       " 'searchsorted',\n",
       " 'second',\n",
       " 'set_names',\n",
       " 'set_value',\n",
       " 'shape',\n",
       " 'shift',\n",
       " 'size',\n",
       " 'slice_indexer',\n",
       " 'slice_locs',\n",
       " 'snap',\n",
       " 'sort',\n",
       " 'sort_values',\n",
       " 'sortlevel',\n",
       " 'std',\n",
       " 'str',\n",
       " 'strftime',\n",
       " 'symmetric_difference',\n",
       " 'take',\n",
       " 'time',\n",
       " 'timetz',\n",
       " 'to_flat_index',\n",
       " 'to_frame',\n",
       " 'to_julian_date',\n",
       " 'to_list',\n",
       " 'to_native_types',\n",
       " 'to_numpy',\n",
       " 'to_period',\n",
       " 'to_perioddelta',\n",
       " 'to_pydatetime',\n",
       " 'to_series',\n",
       " 'tolist',\n",
       " 'transpose',\n",
       " 'tz',\n",
       " 'tz_convert',\n",
       " 'tz_localize',\n",
       " 'tzinfo',\n",
       " 'union',\n",
       " 'union_many',\n",
       " 'unique',\n",
       " 'value_counts',\n",
       " 'values',\n",
       " 'view',\n",
       " 'week',\n",
       " 'weekday',\n",
       " 'weekofyear',\n",
       " 'where',\n",
       " 'year']"
      ]
     },
     "metadata": {},
     "execution_count": 69
    }
   ],
   "source": [
    "[m for m in dir(pd.DatetimeIndex) if not m.startswith('_')]"
   ]
  },
  {
   "cell_type": "code",
   "execution_count": 70,
   "metadata": {},
   "outputs": [
    {
     "output_type": "stream",
     "name": "stdout",
     "text": [
      "Help on property:\n\n    Boolean indicator if the date belongs to a leap year.\n    \n    A leap year is a year, which has 366 days (instead of 365) including\n    29th of February as an intercalary day.\n    Leap years are years which are multiples of four with the exception\n    of years divisible by 100 but not by 400.\n    \n    Returns\n    -------\n    Series or ndarray\n         Booleans indicating if dates belong to a leap year.\n    \n    Examples\n    --------\n    This method is available on Series with datetime values under\n    the ``.dt`` accessor, and directly on DatetimeIndex.\n    \n    >>> idx = pd.date_range(\"2012-01-01\", \"2015-01-01\", freq=\"Y\")\n    >>> idx\n    DatetimeIndex(['2012-12-31', '2013-12-31', '2014-12-31'],\n                  dtype='datetime64[ns]', freq='A-DEC')\n    >>> idx.is_leap_year\n    array([ True, False, False])\n    \n    >>> dates_series = pd.Series(idx)\n    >>> dates_series\n    0   2012-12-31\n    1   2013-12-31\n    2   2014-12-31\n    dtype: datetime64[ns]\n    >>> dates_series.dt.is_leap_year\n    0     True\n    1    False\n    2    False\n    dtype: bool\n\n"
     ]
    }
   ],
   "source": [
    "help(pd.DatetimeIndex.is_leap_year)"
   ]
  },
  {
   "cell_type": "code",
   "execution_count": 71,
   "metadata": {},
   "outputs": [
    {
     "output_type": "stream",
     "name": "stdout",
     "text": [
      "Help on function is_interval in module pandas.core.indexes.base:\n\nis_interval(self) -> bool\n    Check if the Index holds Interval objects.\n    \n    Returns\n    -------\n    bool\n        Whether or not the Index holds Interval objects.\n    \n    See Also\n    --------\n    IntervalIndex : Index for Interval objects.\n    is_boolean : Check if the Index only consists of booleans.\n    is_integer : Check if the Index only consists of integers.\n    is_floating : Check if the Index is a floating type.\n    is_numeric : Check if the Index only consists of numeric data.\n    is_object : Check if the Index is of the object dtype.\n    is_categorical : Check if the Index holds categorical data.\n    is_mixed : Check if the Index holds data with mixed data types.\n    \n    Examples\n    --------\n    >>> idx = pd.Index([pd.Interval(left=0, right=5),\n    ...                 pd.Interval(left=5, right=10)])\n    >>> idx.is_interval()\n    True\n    \n    >>> idx = pd.Index([1, 3, 5, 7])\n    >>> idx.is_interval()\n    False\n\n"
     ]
    }
   ],
   "source": [
    "help(pd.DatetimeIndex.is_interval)"
   ]
  },
  {
   "cell_type": "code",
   "execution_count": 72,
   "metadata": {},
   "outputs": [
    {
     "output_type": "stream",
     "name": "stdout",
     "text": [
      "Help on function intersection in module pandas.core.indexes.datetimelike:\n\nintersection(self, other, sort=False)\n    Specialized intersection for DatetimeIndex/TimedeltaIndex.\n    \n    May be much faster than Index.intersection\n    \n    Parameters\n    ----------\n    other : Same type as self or array-like\n    sort : False or None, default False\n        Sort the resulting index if possible.\n    \n        .. versionadded:: 0.24.0\n    \n        .. versionchanged:: 0.24.1\n    \n           Changed the default to ``False`` to match the behaviour\n           from before 0.24.0.\n    \n        .. versionchanged:: 0.25.0\n    \n           The `sort` keyword is added\n    \n    Returns\n    -------\n    y : Index or same type as self\n\n"
     ]
    }
   ],
   "source": [
    "help(pd.DatetimeIndex.intersection)"
   ]
  },
  {
   "cell_type": "code",
   "execution_count": 78,
   "metadata": {},
   "outputs": [
    {
     "output_type": "stream",
     "name": "stdout",
     "text": [
      "Help on function insert in module pandas.core.indexes.datetimelike:\n\ninsert(self, loc, item)\n    Make new Index inserting new item at location. Follows\n    Python list.append semantics for negative values.\n    \n    Parameters\n    ----------\n    loc : int\n    item : object\n    \n    Returns\n    -------\n    new_index : Index\n    \n    Raises\n    ------\n    ValueError if the item is not valid for this dtype.\n\n"
     ]
    }
   ],
   "source": [
    "help(pd.DatetimeIndex.insert)\n",
    "\n"
   ]
  },
  {
   "cell_type": "code",
   "execution_count": 74,
   "metadata": {},
   "outputs": [
    {
     "output_type": "stream",
     "name": "stdout",
     "text": [
      "Help on function is_mixed in module pandas.core.indexes.base:\n\nis_mixed(self) -> bool\n    Check if the Index holds data with mixed data types.\n    \n    Returns\n    -------\n    bool\n        Whether or not the Index holds data with mixed data types.\n    \n    See Also\n    --------\n    is_boolean : Check if the Index only consists of booleans.\n    is_integer : Check if the Index only consists of integers.\n    is_floating : Check if the Index is a floating type.\n    is_numeric : Check if the Index only consists of numeric data.\n    is_object : Check if the Index is of the object dtype.\n    is_categorical : Check if the Index holds categorical data.\n    is_interval : Check if the Index holds Interval objects.\n    \n    Examples\n    --------\n    >>> idx = pd.Index(['a', np.nan, 'b'])\n    >>> idx.is_mixed()\n    True\n    \n    >>> idx = pd.Index([1.0, 2.0, 3.0, 5.0])\n    >>> idx.is_mixed()\n    False\n\n"
     ]
    }
   ],
   "source": [
    "help(pd.DatetimeIndex.is_mixed)"
   ]
  }
 ],
 "metadata": {
  "kernelspec": {
   "display_name": "Python 3",
   "language": "python",
   "name": "python3"
  },
  "language_info": {
   "codemirror_mode": {
    "name": "ipython",
    "version": 3
   },
   "file_extension": ".py",
   "mimetype": "text/x-python",
   "name": "python",
   "nbconvert_exporter": "python",
   "pygments_lexer": "ipython3",
   "version": "3.7.6-final"
  }
 },
 "nbformat": 4,
 "nbformat_minor": 4
}