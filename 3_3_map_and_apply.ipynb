{
 "cells": [
  {
   "cell_type": "markdown",
   "metadata": {},
   "source": [
    "# Advanced Applications of Mutate\n",
    "\n",
    "## Map and apply"
   ]
  },
  {
   "cell_type": "code",
   "execution_count": 1,
   "metadata": {},
   "outputs": [],
   "source": [
    "import pandas as pd\n",
    "from dfply import *\n",
    "import matplotlib.pylab as plt\n",
    "%matplotlib inline"
   ]
  },
  {
   "cell_type": "markdown",
   "metadata": {},
   "source": [
    "## Hiding stack traceback\n",
    "\n",
    "We hide the exception traceback for didactic reasons (code source: [see this post](https://stackoverflow.com/questions/46222753/how-do-i-suppress-tracebacks-in-jupyter)).  Don't run this cell if you want to see a full traceback."
   ]
  },
  {
   "cell_type": "code",
   "execution_count": 2,
   "metadata": {},
   "outputs": [],
   "source": [
    "import sys\n",
    "ipython = get_ipython()\n",
    "\n",
    "def hide_traceback(exc_tuple=None, filename=None, tb_offset=None,\n",
    "                   exception_only=False, running_compiled_code=False):\n",
    "    etype, value, tb = sys.exc_info()\n",
    "    return ipython._showtraceback(etype, value, ipython.InteractiveTB.get_exception_only(etype, value))\n",
    "\n",
    "ipython.showtraceback = hide_traceback"
   ]
  },
  {
   "cell_type": "markdown",
   "metadata": {},
   "source": [
    "## Data set\n",
    "\n",
    "We will be using two of the data sets provided by the Museam of Modern Art (MoMA) in this lecture.  Make sure that you have downloaded each repository.  [Download Instructions](./get_MOMA_data.ipynb)"
   ]
  },
  {
   "cell_type": "markdown",
   "metadata": {},
   "source": [
    "#### MoMA Artists"
   ]
  },
  {
   "cell_type": "code",
   "execution_count": 3,
   "metadata": {},
   "outputs": [
    {
     "output_type": "execute_result",
     "data": {
      "text/plain": [
       "   ConstituentID     DisplayName            ArtistBio Nationality Gender  \\\n",
       "0              1  Robert Arneson  American, 1930–1992    American   Male   \n",
       "1              2  Doroteo Arnaiz   Spanish, born 1936     Spanish   Male   \n",
       "\n",
       "   BeginDate  EndDate Wiki QID  ULAN  \n",
       "0       1930     1992      NaN   NaN  \n",
       "1       1936        0      NaN   NaN  "
      ],
      "text/html": "<div>\n<style scoped>\n    .dataframe tbody tr th:only-of-type {\n        vertical-align: middle;\n    }\n\n    .dataframe tbody tr th {\n        vertical-align: top;\n    }\n\n    .dataframe thead th {\n        text-align: right;\n    }\n</style>\n<table border=\"1\" class=\"dataframe\">\n  <thead>\n    <tr style=\"text-align: right;\">\n      <th></th>\n      <th>ConstituentID</th>\n      <th>DisplayName</th>\n      <th>ArtistBio</th>\n      <th>Nationality</th>\n      <th>Gender</th>\n      <th>BeginDate</th>\n      <th>EndDate</th>\n      <th>Wiki QID</th>\n      <th>ULAN</th>\n    </tr>\n  </thead>\n  <tbody>\n    <tr>\n      <th>0</th>\n      <td>1</td>\n      <td>Robert Arneson</td>\n      <td>American, 1930–1992</td>\n      <td>American</td>\n      <td>Male</td>\n      <td>1930</td>\n      <td>1992</td>\n      <td>NaN</td>\n      <td>NaN</td>\n    </tr>\n    <tr>\n      <th>1</th>\n      <td>2</td>\n      <td>Doroteo Arnaiz</td>\n      <td>Spanish, born 1936</td>\n      <td>Spanish</td>\n      <td>Male</td>\n      <td>1936</td>\n      <td>0</td>\n      <td>NaN</td>\n      <td>NaN</td>\n    </tr>\n  </tbody>\n</table>\n</div>"
     },
     "metadata": {},
     "execution_count": 3
    }
   ],
   "source": [
    "artists = pd.read_csv(\"./data/Artists.csv\")\n",
    "artists.head(2)"
   ]
  },
  {
   "cell_type": "markdown",
   "metadata": {},
   "source": [
    "# Transforming columns with the `map` and `apply` methods\n",
    "\n",
    "Next, we will take a look at two useful `pandas Series` methods that allow us to apply very general transformations: `map` and `apply`."
   ]
  },
  {
   "cell_type": "markdown",
   "metadata": {},
   "source": [
    "## Transforming a column with `map`\n",
    "\n",
    "`df.col.map` can be used to\n",
    "\n",
    "* Apply a translation `dict`\n",
    "* Apply a function\n",
    "* Apply a `pd.Series`"
   ]
  },
  {
   "cell_type": "code",
   "execution_count": 4,
   "metadata": {},
   "outputs": [
    {
     "output_type": "execute_result",
     "data": {
      "text/plain": [
       "Male          9762\n",
       "Female        2300\n",
       "male            15\n",
       "Non-Binary       2\n",
       "female           1\n",
       "Non-binary       1\n",
       "Name: Gender, dtype: int64"
      ]
     },
     "metadata": {},
     "execution_count": 4
    }
   ],
   "source": [
    "artists.Gender.value_counts()"
   ]
  },
  {
   "cell_type": "markdown",
   "metadata": {},
   "source": [
    "#### `map`ping a translation `dict`"
   ]
  },
  {
   "cell_type": "code",
   "execution_count": 5,
   "metadata": {},
   "outputs": [
    {
     "output_type": "execute_result",
     "data": {
      "text/plain": [
       "   Gender new_gender\n",
       "0    Male          m\n",
       "1    Male          m\n",
       "2    Male          m\n",
       "3    Male          m\n",
       "4    Male          m\n",
       "5    Male          m\n",
       "6    Male          m\n",
       "7    Male          m\n",
       "8  Female          f"
      ],
      "text/html": "<div>\n<style scoped>\n    .dataframe tbody tr th:only-of-type {\n        vertical-align: middle;\n    }\n\n    .dataframe tbody tr th {\n        vertical-align: top;\n    }\n\n    .dataframe thead th {\n        text-align: right;\n    }\n</style>\n<table border=\"1\" class=\"dataframe\">\n  <thead>\n    <tr style=\"text-align: right;\">\n      <th></th>\n      <th>Gender</th>\n      <th>new_gender</th>\n    </tr>\n  </thead>\n  <tbody>\n    <tr>\n      <th>0</th>\n      <td>Male</td>\n      <td>m</td>\n    </tr>\n    <tr>\n      <th>1</th>\n      <td>Male</td>\n      <td>m</td>\n    </tr>\n    <tr>\n      <th>2</th>\n      <td>Male</td>\n      <td>m</td>\n    </tr>\n    <tr>\n      <th>3</th>\n      <td>Male</td>\n      <td>m</td>\n    </tr>\n    <tr>\n      <th>4</th>\n      <td>Male</td>\n      <td>m</td>\n    </tr>\n    <tr>\n      <th>5</th>\n      <td>Male</td>\n      <td>m</td>\n    </tr>\n    <tr>\n      <th>6</th>\n      <td>Male</td>\n      <td>m</td>\n    </tr>\n    <tr>\n      <th>7</th>\n      <td>Male</td>\n      <td>m</td>\n    </tr>\n    <tr>\n      <th>8</th>\n      <td>Female</td>\n      <td>f</td>\n    </tr>\n  </tbody>\n</table>\n</div>"
     },
     "metadata": {},
     "execution_count": 5
    }
   ],
   "source": [
    "new_gender = {'Male':'m', 'Female':'f', 'male':'m', 'female':'f', 'Non-Binary':'nb', 'Non-binary':'nb'}\n",
    "(artists\n",
    " >> select(X.Gender)\n",
    " >> mutate(new_gender = X.Gender.map(new_gender))\n",
    " >> head(9)\n",
    ")"
   ]
  },
  {
   "cell_type": "markdown",
   "metadata": {},
   "source": [
    "#### Setting a default with `collections.defaultdict`"
   ]
  },
  {
   "cell_type": "code",
   "execution_count": 6,
   "metadata": {},
   "outputs": [],
   "source": [
    "from collections import defaultdict\n",
    "\n",
    "from_america = defaultdict(lambda: 'Not America')\n",
    "from_america.update({'American':'America'})"
   ]
  },
  {
   "cell_type": "markdown",
   "metadata": {},
   "source": [
    "#### Applying the `defaultdict`"
   ]
  },
  {
   "cell_type": "code",
   "execution_count": 7,
   "metadata": {},
   "outputs": [
    {
     "output_type": "execute_result",
     "data": {
      "text/plain": [
       "  Nationality from_america\n",
       "0    American      America\n",
       "1     Spanish  Not America\n",
       "2    American      America"
      ],
      "text/html": "<div>\n<style scoped>\n    .dataframe tbody tr th:only-of-type {\n        vertical-align: middle;\n    }\n\n    .dataframe tbody tr th {\n        vertical-align: top;\n    }\n\n    .dataframe thead th {\n        text-align: right;\n    }\n</style>\n<table border=\"1\" class=\"dataframe\">\n  <thead>\n    <tr style=\"text-align: right;\">\n      <th></th>\n      <th>Nationality</th>\n      <th>from_america</th>\n    </tr>\n  </thead>\n  <tbody>\n    <tr>\n      <th>0</th>\n      <td>American</td>\n      <td>America</td>\n    </tr>\n    <tr>\n      <th>1</th>\n      <td>Spanish</td>\n      <td>Not America</td>\n    </tr>\n    <tr>\n      <th>2</th>\n      <td>American</td>\n      <td>America</td>\n    </tr>\n  </tbody>\n</table>\n</div>"
     },
     "metadata": {},
     "execution_count": 7
    }
   ],
   "source": [
    "(artists\n",
    " >> select(X.Nationality)\n",
    " >> mutate(from_america = X.Nationality.map(from_america))\n",
    " >> head(3)\n",
    ")"
   ]
  },
  {
   "cell_type": "markdown",
   "metadata": {},
   "source": [
    "#### `map`ping a simple function"
   ]
  },
  {
   "cell_type": "code",
   "execution_count": 8,
   "metadata": {},
   "outputs": [
    {
     "output_type": "execute_result",
     "data": {
      "text/plain": [
       "  Nationality from_USA\n",
       "0    American      USA\n",
       "1     Spanish    Other\n",
       "2    American      USA"
      ],
      "text/html": "<div>\n<style scoped>\n    .dataframe tbody tr th:only-of-type {\n        vertical-align: middle;\n    }\n\n    .dataframe tbody tr th {\n        vertical-align: top;\n    }\n\n    .dataframe thead th {\n        text-align: right;\n    }\n</style>\n<table border=\"1\" class=\"dataframe\">\n  <thead>\n    <tr style=\"text-align: right;\">\n      <th></th>\n      <th>Nationality</th>\n      <th>from_USA</th>\n    </tr>\n  </thead>\n  <tbody>\n    <tr>\n      <th>0</th>\n      <td>American</td>\n      <td>USA</td>\n    </tr>\n    <tr>\n      <th>1</th>\n      <td>Spanish</td>\n      <td>Other</td>\n    </tr>\n    <tr>\n      <th>2</th>\n      <td>American</td>\n      <td>USA</td>\n    </tr>\n  </tbody>\n</table>\n</div>"
     },
     "metadata": {},
     "execution_count": 8
    }
   ],
   "source": [
    "(artists\n",
    " >> select(X.Nationality)\n",
    " >> mutate(from_USA = X.Nationality.map(lambda n: 'USA' if n == 'American' else 'Other'))\n",
    " >> head(3)\n",
    ")"
   ]
  },
  {
   "cell_type": "markdown",
   "metadata": {},
   "source": [
    "## Be sure to `apply` yourself!\n",
    "\n",
    "* `df.col.apply` is used to apply any function to a column.\n",
    "    * Including positional and keyword arguments\n",
    "* Could literally be used to perform *any* mutation"
   ]
  },
  {
   "cell_type": "markdown",
   "metadata": {},
   "source": [
    "#### Applying a unary function"
   ]
  },
  {
   "cell_type": "code",
   "execution_count": 9,
   "metadata": {},
   "outputs": [
    {
     "output_type": "execute_result",
     "data": {
      "text/plain": [
       "   BeginDate  century_of_birth\n",
       "0       1930              1900\n",
       "1       1936              1900\n",
       "2       1941              1900"
      ],
      "text/html": "<div>\n<style scoped>\n    .dataframe tbody tr th:only-of-type {\n        vertical-align: middle;\n    }\n\n    .dataframe tbody tr th {\n        vertical-align: top;\n    }\n\n    .dataframe thead th {\n        text-align: right;\n    }\n</style>\n<table border=\"1\" class=\"dataframe\">\n  <thead>\n    <tr style=\"text-align: right;\">\n      <th></th>\n      <th>BeginDate</th>\n      <th>century_of_birth</th>\n    </tr>\n  </thead>\n  <tbody>\n    <tr>\n      <th>0</th>\n      <td>1930</td>\n      <td>1900</td>\n    </tr>\n    <tr>\n      <th>1</th>\n      <td>1936</td>\n      <td>1900</td>\n    </tr>\n    <tr>\n      <th>2</th>\n      <td>1941</td>\n      <td>1900</td>\n    </tr>\n  </tbody>\n</table>\n</div>"
     },
     "metadata": {},
     "execution_count": 9
    }
   ],
   "source": [
    "century = lambda year_string: (int(year_string)//100)*100\n",
    "\n",
    "(artists\n",
    " >> select(X.BeginDate)\n",
    " >> mutate(century_of_birth = X.BeginDate.apply(century))\n",
    " >> head(3)\n",
    ")"
   ]
  },
  {
   "cell_type": "markdown",
   "metadata": {},
   "source": [
    "## Using anonymous functions\n",
    "\n",
    "* There is no need to name a `lambda`\n",
    "* An embedded `lambda` is called an **anonymous function**"
   ]
  },
  {
   "cell_type": "code",
   "execution_count": 10,
   "metadata": {},
   "outputs": [
    {
     "output_type": "execute_result",
     "data": {
      "text/plain": [
       "   EndDate  new_end_date\n",
       "0     1992          1992\n",
       "1        0          <NA>"
      ],
      "text/html": "<div>\n<style scoped>\n    .dataframe tbody tr th:only-of-type {\n        vertical-align: middle;\n    }\n\n    .dataframe tbody tr th {\n        vertical-align: top;\n    }\n\n    .dataframe thead th {\n        text-align: right;\n    }\n</style>\n<table border=\"1\" class=\"dataframe\">\n  <thead>\n    <tr style=\"text-align: right;\">\n      <th></th>\n      <th>EndDate</th>\n      <th>new_end_date</th>\n    </tr>\n  </thead>\n  <tbody>\n    <tr>\n      <th>0</th>\n      <td>1992</td>\n      <td>1992</td>\n    </tr>\n    <tr>\n      <th>1</th>\n      <td>0</td>\n      <td>&lt;NA&gt;</td>\n    </tr>\n  </tbody>\n</table>\n</div>"
     },
     "metadata": {},
     "execution_count": 10
    }
   ],
   "source": [
    "(artists\n",
    " >> select(X.EndDate)\n",
    " >> mutate(new_end_date = (X.EndDate\n",
    "                           .apply(lambda y: y if int(y) > 0 else np.nan)\n",
    "                           .astype('Int64')))\n",
    " >> head(2)\n",
    ")"
   ]
  },
  {
   "cell_type": "markdown",
   "metadata": {},
   "source": [
    "## `apply` or `map`\n",
    "\n",
    "* Use `map` for simple functions\n",
    "* Use `apply` when adding additional arguments"
   ]
  },
  {
   "cell_type": "markdown",
   "metadata": {},
   "source": [
    "#### MoMA Artwork"
   ]
  },
  {
   "cell_type": "code",
   "execution_count": 11,
   "metadata": {
    "scrolled": true
   },
   "outputs": [
    {
     "output_type": "execute_result",
     "data": {
      "text/plain": [
       "                                               Title  \\\n",
       "0  Ferdinandsbrücke Project, Vienna, Austria (Ele...   \n",
       "1  City of Music, National Superior Conservatory ...   \n",
       "\n",
       "                     Artist ConstituentID              ArtistBio Nationality  \\\n",
       "0               Otto Wagner          6210  (Austrian, 1841–1918)  (Austrian)   \n",
       "1  Christian de Portzamparc          7470    (French, born 1944)    (French)   \n",
       "\n",
       "  BeginDate EndDate  Gender  Date  \\\n",
       "0    (1841)  (1918)  (Male)  1896   \n",
       "1    (1944)     (0)  (Male)  1987   \n",
       "\n",
       "                                          Medium  ... Circumference_cm  \\\n",
       "0  Ink and cut-and-pasted painted pages on paper  ...              NaN   \n",
       "1              Paint and colored pencil on print  ...              NaN   \n",
       "\n",
       "  Depth_cm Diameter_cm Height_cm Length_cm Weight_kg  Width_cm  \\\n",
       "0      NaN         NaN   48.6000       NaN       NaN  168.9000   \n",
       "1      NaN         NaN   40.6401       NaN       NaN   29.8451   \n",
       "\n",
       "   Seat_Height_cm Duration_sec id  \n",
       "0             NaN          NaN  1  \n",
       "1             NaN          NaN  2  \n",
       "\n",
       "[2 rows x 30 columns]"
      ],
      "text/html": "<div>\n<style scoped>\n    .dataframe tbody tr th:only-of-type {\n        vertical-align: middle;\n    }\n\n    .dataframe tbody tr th {\n        vertical-align: top;\n    }\n\n    .dataframe thead th {\n        text-align: right;\n    }\n</style>\n<table border=\"1\" class=\"dataframe\">\n  <thead>\n    <tr style=\"text-align: right;\">\n      <th></th>\n      <th>Title</th>\n      <th>Artist</th>\n      <th>ConstituentID</th>\n      <th>ArtistBio</th>\n      <th>Nationality</th>\n      <th>BeginDate</th>\n      <th>EndDate</th>\n      <th>Gender</th>\n      <th>Date</th>\n      <th>Medium</th>\n      <th>...</th>\n      <th>Circumference_cm</th>\n      <th>Depth_cm</th>\n      <th>Diameter_cm</th>\n      <th>Height_cm</th>\n      <th>Length_cm</th>\n      <th>Weight_kg</th>\n      <th>Width_cm</th>\n      <th>Seat_Height_cm</th>\n      <th>Duration_sec</th>\n      <th>id</th>\n    </tr>\n  </thead>\n  <tbody>\n    <tr>\n      <th>0</th>\n      <td>Ferdinandsbrücke Project, Vienna, Austria (Ele...</td>\n      <td>Otto Wagner</td>\n      <td>6210</td>\n      <td>(Austrian, 1841–1918)</td>\n      <td>(Austrian)</td>\n      <td>(1841)</td>\n      <td>(1918)</td>\n      <td>(Male)</td>\n      <td>1896</td>\n      <td>Ink and cut-and-pasted painted pages on paper</td>\n      <td>...</td>\n      <td>NaN</td>\n      <td>NaN</td>\n      <td>NaN</td>\n      <td>48.6000</td>\n      <td>NaN</td>\n      <td>NaN</td>\n      <td>168.9000</td>\n      <td>NaN</td>\n      <td>NaN</td>\n      <td>1</td>\n    </tr>\n    <tr>\n      <th>1</th>\n      <td>City of Music, National Superior Conservatory ...</td>\n      <td>Christian de Portzamparc</td>\n      <td>7470</td>\n      <td>(French, born 1944)</td>\n      <td>(French)</td>\n      <td>(1944)</td>\n      <td>(0)</td>\n      <td>(Male)</td>\n      <td>1987</td>\n      <td>Paint and colored pencil on print</td>\n      <td>...</td>\n      <td>NaN</td>\n      <td>NaN</td>\n      <td>NaN</td>\n      <td>40.6401</td>\n      <td>NaN</td>\n      <td>NaN</td>\n      <td>29.8451</td>\n      <td>NaN</td>\n      <td>NaN</td>\n      <td>2</td>\n    </tr>\n  </tbody>\n</table>\n<p>2 rows × 30 columns</p>\n</div>"
     },
     "metadata": {},
     "execution_count": 11
    }
   ],
   "source": [
    "from more_dfply import fix_names\n",
    "\n",
    "artwork = (pd.read_csv(\"./data/Artworks.csv\")\n",
    "           >> fix_names\n",
    "           >> mutate(id = X.index + 1)\n",
    "          )\n",
    "artwork.head(2)"
   ]
  },
  {
   "cell_type": "markdown",
   "metadata": {},
   "source": [
    "#### Setting a positional argument\n",
    "\n",
    "We want to apply `round(val, 1)`\n"
   ]
  },
  {
   "cell_type": "code",
   "execution_count": 12,
   "metadata": {},
   "outputs": [
    {
     "output_type": "execute_result",
     "data": {
      "text/plain": [
       "   Height_cm  rounded_height\n",
       "0    48.6000            48.6\n",
       "1    40.6401            40.6\n",
       "2    34.3000            34.3"
      ],
      "text/html": "<div>\n<style scoped>\n    .dataframe tbody tr th:only-of-type {\n        vertical-align: middle;\n    }\n\n    .dataframe tbody tr th {\n        vertical-align: top;\n    }\n\n    .dataframe thead th {\n        text-align: right;\n    }\n</style>\n<table border=\"1\" class=\"dataframe\">\n  <thead>\n    <tr style=\"text-align: right;\">\n      <th></th>\n      <th>Height_cm</th>\n      <th>rounded_height</th>\n    </tr>\n  </thead>\n  <tbody>\n    <tr>\n      <th>0</th>\n      <td>48.6000</td>\n      <td>48.6</td>\n    </tr>\n    <tr>\n      <th>1</th>\n      <td>40.6401</td>\n      <td>40.6</td>\n    </tr>\n    <tr>\n      <th>2</th>\n      <td>34.3000</td>\n      <td>34.3</td>\n    </tr>\n  </tbody>\n</table>\n</div>"
     },
     "metadata": {},
     "execution_count": 12
    }
   ],
   "source": [
    "(artwork\n",
    " >> select(X.Height_cm)\n",
    " >> mutate(rounded_height = X.Height_cm.apply(round, args=(1,)))\n",
    " >> head(3)\n",
    ")"
   ]
  },
  {
   "cell_type": "markdown",
   "metadata": {},
   "source": [
    "#### Setting a keyword argument\n",
    "\n",
    "We want to apply `logp1(val, base=n)`"
   ]
  },
  {
   "cell_type": "code",
   "execution_count": 13,
   "metadata": {},
   "outputs": [
    {
     "output_type": "execute_result",
     "data": {
      "text/plain": [
       "   Height_cm  log10_plus_1  log2_plus_1  ln_plus_1\n",
       "0    48.6000      1.695482     5.632268   3.903991\n",
       "1    40.6401      1.619512     5.379902   3.729064\n",
       "2    34.3000      1.547775     5.141596   3.563883"
      ],
      "text/html": "<div>\n<style scoped>\n    .dataframe tbody tr th:only-of-type {\n        vertical-align: middle;\n    }\n\n    .dataframe tbody tr th {\n        vertical-align: top;\n    }\n\n    .dataframe thead th {\n        text-align: right;\n    }\n</style>\n<table border=\"1\" class=\"dataframe\">\n  <thead>\n    <tr style=\"text-align: right;\">\n      <th></th>\n      <th>Height_cm</th>\n      <th>log10_plus_1</th>\n      <th>log2_plus_1</th>\n      <th>ln_plus_1</th>\n    </tr>\n  </thead>\n  <tbody>\n    <tr>\n      <th>0</th>\n      <td>48.6000</td>\n      <td>1.695482</td>\n      <td>5.632268</td>\n      <td>3.903991</td>\n    </tr>\n    <tr>\n      <th>1</th>\n      <td>40.6401</td>\n      <td>1.619512</td>\n      <td>5.379902</td>\n      <td>3.729064</td>\n    </tr>\n    <tr>\n      <th>2</th>\n      <td>34.3000</td>\n      <td>1.547775</td>\n      <td>5.141596</td>\n      <td>3.563883</td>\n    </tr>\n  </tbody>\n</table>\n</div>"
     },
     "metadata": {},
     "execution_count": 13
    }
   ],
   "source": [
    "from math import log, e\n",
    "\n",
    "log1p = lambda num, base=e: log(num + 1, base)\n",
    "(artwork\n",
    " >> select(X.Height_cm)\n",
    " >> mutate(log10_plus_1 = X.Height_cm.apply(log1p, base = 10),\n",
    "           log2_plus_1 = X.Height_cm.apply(log1p, base = 2),\n",
    "           ln_plus_1 = X.Height_cm.apply(log1p, base = e))\n",
    " >> head(3)\n",
    ")"
   ]
  },
  {
   "cell_type": "markdown",
   "metadata": {},
   "source": [
    "## <font color=\"red\"> Exercise 2 </font>\n",
    "\n",
    "An **Indicator column** for a category contains 1 for the rows that match that label and 0 otherwise.  The `exhibitions` dataframe.  Complete the following tasks.\n",
    "\n",
    "1. Use `exhibitions.ExhibitionRole.unique()` to get a list of unique columns.\n",
    "2. Use `mutate` and `map` with `defaultdict` to create an indicator column for each category (ignore missing rows).\n",
    "3. Comment on the quality of your solution, especially in light of the [DRY principle](https://en.wikipedia.org/wiki/Don%27t_repeat_yourself)"
   ]
  },
  {
   "cell_type": "markdown",
   "metadata": {},
   "source": [
    "#### MoMA Exhibitions"
   ]
  },
  {
   "cell_type": "code",
   "execution_count": 70,
   "metadata": {
    "scrolled": true
   },
   "outputs": [
    {
     "output_type": "execute_result",
     "data": {
      "text/plain": [
       "       ExhibitionID ExhibitionNumber  \\\n",
       "0            2557.0                1   \n",
       "1            2557.0                1   \n",
       "2            2557.0                1   \n",
       "3            2557.0                1   \n",
       "4            2557.0                1   \n",
       "...             ...              ...   \n",
       "34553         288.0             1536   \n",
       "34554         288.0             1536   \n",
       "34555         288.0             1536   \n",
       "34556         288.0             1536   \n",
       "34557        3367.0             1537   \n",
       "\n",
       "                                   ExhibitionTitle  \\\n",
       "0               Cézanne, Gauguin, Seurat, Van Gogh   \n",
       "1               Cézanne, Gauguin, Seurat, Van Gogh   \n",
       "2               Cézanne, Gauguin, Seurat, Van Gogh   \n",
       "3               Cézanne, Gauguin, Seurat, Van Gogh   \n",
       "4               Cézanne, Gauguin, Seurat, Van Gogh   \n",
       "...                                            ...   \n",
       "34553  Recent Japanese Posters from the Collection   \n",
       "34554  Recent Japanese Posters from the Collection   \n",
       "34555  Recent Japanese Posters from the Collection   \n",
       "34556  Recent Japanese Posters from the Collection   \n",
       "34557                Directed by Vincente Minnelli   \n",
       "\n",
       "                                  ExhibitionCitationDate ExhibitionBeginDate  \\\n",
       "0            [MoMA Exh. #1, November 7-December 7, 1929]          1929-11-07   \n",
       "1            [MoMA Exh. #1, November 7-December 7, 1929]          1929-11-07   \n",
       "2            [MoMA Exh. #1, November 7-December 7, 1929]          1929-11-07   \n",
       "3            [MoMA Exh. #1, November 7-December 7, 1929]          1929-11-07   \n",
       "4            [MoMA Exh. #1, November 7-December 7, 1929]          1929-11-07   \n",
       "...                                                  ...                 ...   \n",
       "34553  [MoMA Exh. #1536, December 9, 1989-April 16, 1...          1989-12-09   \n",
       "34554  [MoMA Exh. #1536, December 9, 1989-April 16, 1...          1989-12-09   \n",
       "34555  [MoMA Exh. #1536, December 9, 1989-April 16, 1...          1989-12-09   \n",
       "34556  [MoMA Exh. #1536, December 9, 1989-April 16, 1...          1989-12-09   \n",
       "34557  [MoMA Exh. #1537, December 15, 1989-January 28...          1989-12-15   \n",
       "\n",
       "      ExhibitionEndDate  ExhibitionSortOrder  \\\n",
       "0            1929-12-07                  1.0   \n",
       "1            1929-12-07                  1.0   \n",
       "2            1929-12-07                  1.0   \n",
       "3            1929-12-07                  1.0   \n",
       "4            1929-12-07                  1.0   \n",
       "...                 ...                  ...   \n",
       "34553        1990-04-16               1767.0   \n",
       "34554        1990-04-16               1767.0   \n",
       "34555        1990-04-16               1767.0   \n",
       "34556        1990-04-16               1767.0   \n",
       "34557        1990-01-28               1768.0   \n",
       "\n",
       "                            ExhibitionURL ExhibitionRole  \\\n",
       "0      moma.org/calendar/exhibitions/1767        Curator   \n",
       "1      moma.org/calendar/exhibitions/1767         Artist   \n",
       "2      moma.org/calendar/exhibitions/1767         Artist   \n",
       "3      moma.org/calendar/exhibitions/1767         Artist   \n",
       "4      moma.org/calendar/exhibitions/1767         Artist   \n",
       "...                                   ...            ...   \n",
       "34553  moma.org/calendar/exhibitions/1739         Artist   \n",
       "34554  moma.org/calendar/exhibitions/1739         Artist   \n",
       "34555  moma.org/calendar/exhibitions/1739         Artist   \n",
       "34556  moma.org/calendar/exhibitions/1739         Artist   \n",
       "34557  moma.org/calendar/exhibitions/2118        Curator   \n",
       "\n",
       "      ExhibitionRoleinPressRelease  ...  Institution Nationality  \\\n",
       "0                         Director  ...          NaN    American   \n",
       "1                           Artist  ...          NaN      French   \n",
       "2                           Artist  ...          NaN      French   \n",
       "3                           Artist  ...          NaN       Dutch   \n",
       "4                           Artist  ...          NaN      French   \n",
       "...                            ...  ...          ...         ...   \n",
       "34553                       Artist  ...          NaN    Japanese   \n",
       "34554                       Artist  ...          NaN    Japanese   \n",
       "34555                       Artist  ...          NaN    Japanese   \n",
       "34556                       Artist  ...          NaN    Japanese   \n",
       "34557                    Organizer  ...          NaN         NaN   \n",
       "\n",
       "      ConstituentBeginDate ConstituentEndDate            ArtistBio Gender  \\\n",
       "0                     1902               1981  American, 19021981   Male   \n",
       "1                     1839               1906    French, 18391906   Male   \n",
       "2                     1848               1903    French, 18481903   Male   \n",
       "3                     1853               1890     Dutch, 18531890   Male   \n",
       "4                     1859               1891    French, 18591891   Male   \n",
       "...                    ...                ...                  ...    ...   \n",
       "34553                 1942                NaN  Japanese, born 1942   Male   \n",
       "34554                 1943                NaN  Japanese, born 1943   Male   \n",
       "34555                 1920                NaN  Japanese, born 1920   Male   \n",
       "34556                 1936                NaN  Japanese, born 1936   Male   \n",
       "34557                  NaN                NaN                  NaN    NaN   \n",
       "\n",
       "            VIAFID WikidataID       ULANID          ConstituentURL  \n",
       "0      109252853.0    Q711362  500241556.0   moma.org/artists/9168  \n",
       "1       39374836.0     Q35548  500004793.0   moma.org/artists/1053  \n",
       "2       27064953.0     Q37693  500011421.0   moma.org/artists/2098  \n",
       "3        9854560.0      Q5582  500115588.0   moma.org/artists/2206  \n",
       "4       24608076.0     Q34013  500008873.0   moma.org/artists/5358  \n",
       "...            ...        ...          ...                     ...  \n",
       "34553   18484958.0        NaN          NaN   moma.org/artists/6215  \n",
       "34554          NaN        NaN          NaN   moma.org/artists/6486  \n",
       "34555  119202488.0   Q2178400          NaN   moma.org/artists/6487  \n",
       "34556   96086073.0   Q3513688  500060125.0   moma.org/artists/6502  \n",
       "34557  250655373.0        NaN          NaN  moma.org/artists/25529  \n",
       "\n",
       "[34558 rows x 28 columns]"
      ],
      "text/html": "<div>\n<style scoped>\n    .dataframe tbody tr th:only-of-type {\n        vertical-align: middle;\n    }\n\n    .dataframe tbody tr th {\n        vertical-align: top;\n    }\n\n    .dataframe thead th {\n        text-align: right;\n    }\n</style>\n<table border=\"1\" class=\"dataframe\">\n  <thead>\n    <tr style=\"text-align: right;\">\n      <th></th>\n      <th>ExhibitionID</th>\n      <th>ExhibitionNumber</th>\n      <th>ExhibitionTitle</th>\n      <th>ExhibitionCitationDate</th>\n      <th>ExhibitionBeginDate</th>\n      <th>ExhibitionEndDate</th>\n      <th>ExhibitionSortOrder</th>\n      <th>ExhibitionURL</th>\n      <th>ExhibitionRole</th>\n      <th>ExhibitionRoleinPressRelease</th>\n      <th>...</th>\n      <th>Institution</th>\n      <th>Nationality</th>\n      <th>ConstituentBeginDate</th>\n      <th>ConstituentEndDate</th>\n      <th>ArtistBio</th>\n      <th>Gender</th>\n      <th>VIAFID</th>\n      <th>WikidataID</th>\n      <th>ULANID</th>\n      <th>ConstituentURL</th>\n    </tr>\n  </thead>\n  <tbody>\n    <tr>\n      <th>0</th>\n      <td>2557.0</td>\n      <td>1</td>\n      <td>Cézanne, Gauguin, Seurat, Van Gogh</td>\n      <td>[MoMA Exh. #1, November 7-December 7, 1929]</td>\n      <td>1929-11-07</td>\n      <td>1929-12-07</td>\n      <td>1.0</td>\n      <td>moma.org/calendar/exhibitions/1767</td>\n      <td>Curator</td>\n      <td>Director</td>\n      <td>...</td>\n      <td>NaN</td>\n      <td>American</td>\n      <td>1902</td>\n      <td>1981</td>\n      <td>American, 19021981</td>\n      <td>Male</td>\n      <td>109252853.0</td>\n      <td>Q711362</td>\n      <td>500241556.0</td>\n      <td>moma.org/artists/9168</td>\n    </tr>\n    <tr>\n      <th>1</th>\n      <td>2557.0</td>\n      <td>1</td>\n      <td>Cézanne, Gauguin, Seurat, Van Gogh</td>\n      <td>[MoMA Exh. #1, November 7-December 7, 1929]</td>\n      <td>1929-11-07</td>\n      <td>1929-12-07</td>\n      <td>1.0</td>\n      <td>moma.org/calendar/exhibitions/1767</td>\n      <td>Artist</td>\n      <td>Artist</td>\n      <td>...</td>\n      <td>NaN</td>\n      <td>French</td>\n      <td>1839</td>\n      <td>1906</td>\n      <td>French, 18391906</td>\n      <td>Male</td>\n      <td>39374836.0</td>\n      <td>Q35548</td>\n      <td>500004793.0</td>\n      <td>moma.org/artists/1053</td>\n    </tr>\n    <tr>\n      <th>2</th>\n      <td>2557.0</td>\n      <td>1</td>\n      <td>Cézanne, Gauguin, Seurat, Van Gogh</td>\n      <td>[MoMA Exh. #1, November 7-December 7, 1929]</td>\n      <td>1929-11-07</td>\n      <td>1929-12-07</td>\n      <td>1.0</td>\n      <td>moma.org/calendar/exhibitions/1767</td>\n      <td>Artist</td>\n      <td>Artist</td>\n      <td>...</td>\n      <td>NaN</td>\n      <td>French</td>\n      <td>1848</td>\n      <td>1903</td>\n      <td>French, 18481903</td>\n      <td>Male</td>\n      <td>27064953.0</td>\n      <td>Q37693</td>\n      <td>500011421.0</td>\n      <td>moma.org/artists/2098</td>\n    </tr>\n    <tr>\n      <th>3</th>\n      <td>2557.0</td>\n      <td>1</td>\n      <td>Cézanne, Gauguin, Seurat, Van Gogh</td>\n      <td>[MoMA Exh. #1, November 7-December 7, 1929]</td>\n      <td>1929-11-07</td>\n      <td>1929-12-07</td>\n      <td>1.0</td>\n      <td>moma.org/calendar/exhibitions/1767</td>\n      <td>Artist</td>\n      <td>Artist</td>\n      <td>...</td>\n      <td>NaN</td>\n      <td>Dutch</td>\n      <td>1853</td>\n      <td>1890</td>\n      <td>Dutch, 18531890</td>\n      <td>Male</td>\n      <td>9854560.0</td>\n      <td>Q5582</td>\n      <td>500115588.0</td>\n      <td>moma.org/artists/2206</td>\n    </tr>\n    <tr>\n      <th>4</th>\n      <td>2557.0</td>\n      <td>1</td>\n      <td>Cézanne, Gauguin, Seurat, Van Gogh</td>\n      <td>[MoMA Exh. #1, November 7-December 7, 1929]</td>\n      <td>1929-11-07</td>\n      <td>1929-12-07</td>\n      <td>1.0</td>\n      <td>moma.org/calendar/exhibitions/1767</td>\n      <td>Artist</td>\n      <td>Artist</td>\n      <td>...</td>\n      <td>NaN</td>\n      <td>French</td>\n      <td>1859</td>\n      <td>1891</td>\n      <td>French, 18591891</td>\n      <td>Male</td>\n      <td>24608076.0</td>\n      <td>Q34013</td>\n      <td>500008873.0</td>\n      <td>moma.org/artists/5358</td>\n    </tr>\n    <tr>\n      <th>...</th>\n      <td>...</td>\n      <td>...</td>\n      <td>...</td>\n      <td>...</td>\n      <td>...</td>\n      <td>...</td>\n      <td>...</td>\n      <td>...</td>\n      <td>...</td>\n      <td>...</td>\n      <td>...</td>\n      <td>...</td>\n      <td>...</td>\n      <td>...</td>\n      <td>...</td>\n      <td>...</td>\n      <td>...</td>\n      <td>...</td>\n      <td>...</td>\n      <td>...</td>\n      <td>...</td>\n    </tr>\n    <tr>\n      <th>34553</th>\n      <td>288.0</td>\n      <td>1536</td>\n      <td>Recent Japanese Posters from the Collection</td>\n      <td>[MoMA Exh. #1536, December 9, 1989-April 16, 1...</td>\n      <td>1989-12-09</td>\n      <td>1990-04-16</td>\n      <td>1767.0</td>\n      <td>moma.org/calendar/exhibitions/1739</td>\n      <td>Artist</td>\n      <td>Artist</td>\n      <td>...</td>\n      <td>NaN</td>\n      <td>Japanese</td>\n      <td>1942</td>\n      <td>NaN</td>\n      <td>Japanese, born 1942</td>\n      <td>Male</td>\n      <td>18484958.0</td>\n      <td>NaN</td>\n      <td>NaN</td>\n      <td>moma.org/artists/6215</td>\n    </tr>\n    <tr>\n      <th>34554</th>\n      <td>288.0</td>\n      <td>1536</td>\n      <td>Recent Japanese Posters from the Collection</td>\n      <td>[MoMA Exh. #1536, December 9, 1989-April 16, 1...</td>\n      <td>1989-12-09</td>\n      <td>1990-04-16</td>\n      <td>1767.0</td>\n      <td>moma.org/calendar/exhibitions/1739</td>\n      <td>Artist</td>\n      <td>Artist</td>\n      <td>...</td>\n      <td>NaN</td>\n      <td>Japanese</td>\n      <td>1943</td>\n      <td>NaN</td>\n      <td>Japanese, born 1943</td>\n      <td>Male</td>\n      <td>NaN</td>\n      <td>NaN</td>\n      <td>NaN</td>\n      <td>moma.org/artists/6486</td>\n    </tr>\n    <tr>\n      <th>34555</th>\n      <td>288.0</td>\n      <td>1536</td>\n      <td>Recent Japanese Posters from the Collection</td>\n      <td>[MoMA Exh. #1536, December 9, 1989-April 16, 1...</td>\n      <td>1989-12-09</td>\n      <td>1990-04-16</td>\n      <td>1767.0</td>\n      <td>moma.org/calendar/exhibitions/1739</td>\n      <td>Artist</td>\n      <td>Artist</td>\n      <td>...</td>\n      <td>NaN</td>\n      <td>Japanese</td>\n      <td>1920</td>\n      <td>NaN</td>\n      <td>Japanese, born 1920</td>\n      <td>Male</td>\n      <td>119202488.0</td>\n      <td>Q2178400</td>\n      <td>NaN</td>\n      <td>moma.org/artists/6487</td>\n    </tr>\n    <tr>\n      <th>34556</th>\n      <td>288.0</td>\n      <td>1536</td>\n      <td>Recent Japanese Posters from the Collection</td>\n      <td>[MoMA Exh. #1536, December 9, 1989-April 16, 1...</td>\n      <td>1989-12-09</td>\n      <td>1990-04-16</td>\n      <td>1767.0</td>\n      <td>moma.org/calendar/exhibitions/1739</td>\n      <td>Artist</td>\n      <td>Artist</td>\n      <td>...</td>\n      <td>NaN</td>\n      <td>Japanese</td>\n      <td>1936</td>\n      <td>NaN</td>\n      <td>Japanese, born 1936</td>\n      <td>Male</td>\n      <td>96086073.0</td>\n      <td>Q3513688</td>\n      <td>500060125.0</td>\n      <td>moma.org/artists/6502</td>\n    </tr>\n    <tr>\n      <th>34557</th>\n      <td>3367.0</td>\n      <td>1537</td>\n      <td>Directed by Vincente Minnelli</td>\n      <td>[MoMA Exh. #1537, December 15, 1989-January 28...</td>\n      <td>1989-12-15</td>\n      <td>1990-01-28</td>\n      <td>1768.0</td>\n      <td>moma.org/calendar/exhibitions/2118</td>\n      <td>Curator</td>\n      <td>Organizer</td>\n      <td>...</td>\n      <td>NaN</td>\n      <td>NaN</td>\n      <td>NaN</td>\n      <td>NaN</td>\n      <td>NaN</td>\n      <td>NaN</td>\n      <td>250655373.0</td>\n      <td>NaN</td>\n      <td>NaN</td>\n      <td>moma.org/artists/25529</td>\n    </tr>\n  </tbody>\n</table>\n<p>34558 rows × 28 columns</p>\n</div>"
     },
     "metadata": {},
     "execution_count": 70
    }
   ],
   "source": [
    "dat_cols = ['ExhibitionBeginDate', 'ExhibitionEndDate', 'ConstituentBeginDate' ,'ConstituentEndDate']\n",
    "exhibitions = pd.read_csv('./data/MoMAExhibitions1929to1989.csv', \n",
    "                          encoding=\"ISO-8859-1\",\n",
    "                          parse_dates=dat_cols)\n",
    "exhibitions.head(2)\n",
    "exhibitions"
   ]
  },
  {
   "cell_type": "code",
   "execution_count": 24,
   "metadata": {},
   "outputs": [
    {
     "output_type": "execute_result",
     "data": {
      "text/plain": [
       "array(['Curator', 'Artist', nan, 'Arranger', 'Installer',\n",
       "       'Competition Judge', 'Designer', 'Preparer'], dtype=object)"
      ]
     },
     "metadata": {},
     "execution_count": 24
    }
   ],
   "source": [
    "exhibitions.ExhibitionRole.unique()"
   ]
  },
  {
   "cell_type": "code",
   "execution_count": 58,
   "metadata": {},
   "outputs": [],
   "source": [
    "nan_rows = exhibitions[exhibitions['ExhibitionRole'].isnull()]"
   ]
  },
  {
   "cell_type": "code",
   "execution_count": 59,
   "metadata": {},
   "outputs": [
    {
     "output_type": "execute_result",
     "data": {
      "text/plain": [
       "       ExhibitionID ExhibitionNumber  \\\n",
       "547          2986.0               21   \n",
       "607          2993.0              25a   \n",
       "622          2995.0              26a   \n",
       "1172         3010.0              34e   \n",
       "1196         3012.0              34h   \n",
       "...             ...              ...   \n",
       "33373           NaN              No#   \n",
       "33605           NaN             1485   \n",
       "34243           NaN              No#   \n",
       "34507           NaN              No#   \n",
       "34534           NaN              No#   \n",
       "\n",
       "                                         ExhibitionTitle  \\\n",
       "547                                   Poster Competition   \n",
       "607                               Typography Competition   \n",
       "622        The Museum Collection: Painting and Sculpture   \n",
       "1172                     Westchester Folk Art Exhibition   \n",
       "1196                  The Making of a Museum Publication   \n",
       "...                                                  ...   \n",
       "33373  Architecture and Design Permanent Gallery Rein...   \n",
       "33605         Painting and Sculpture, New Reinstallation   \n",
       "34243  Architecture and Design Permanent Collection G...   \n",
       "34507  Architecture and Design Permanent Collection G...   \n",
       "34534                              Sidney Janis Memorial   \n",
       "\n",
       "                                  ExhibitionCitationDate ExhibitionBeginDate  \\\n",
       "547          [MoMA Exh. #21, February 25-March 12, 1933]          1933-02-25   \n",
       "607             [MoMA Exh. #25a, March 27-April 6, 1933]          1933-03-27   \n",
       "622            [MoMA Exh. #26a, March 27-April 25, 1933]          1933-03-27   \n",
       "1172              [MoMA Exh. #34e, June 23-July 9, 1934]          1934-06-23   \n",
       "1196      [MoMA Exh. #34h, September 11-October 7, 1934]          1934-09-11   \n",
       "...                                                  ...                 ...   \n",
       "33373                                   [Winter 1987-88]          1987-12-01   \n",
       "33605  [MoMA Exh. #1485, December 24, 1987-September ...          1987-12-24   \n",
       "34243                                      [Spring 1989]          1989-04-01   \n",
       "34507                  [November 1989 - no closing date]          1989-11-01   \n",
       "34534                [November 30, 1989-January 3, 1990]          1989-11-30   \n",
       "\n",
       "      ExhibitionEndDate  ExhibitionSortOrder  \\\n",
       "547          1933-03-12                 22.0   \n",
       "607          1933-04-06                 29.0   \n",
       "622          1933-04-25                 31.0   \n",
       "1172         1934-07-09                 52.0   \n",
       "1196         1934-10-07                 55.0   \n",
       "...                 ...                  ...   \n",
       "33373               NaT               1691.0   \n",
       "33605        1988-09-12               1706.0   \n",
       "34243               NaT               1741.0   \n",
       "34507               NaT               1764.0   \n",
       "34534        1990-01-03               1766.0   \n",
       "\n",
       "                            ExhibitionURL ExhibitionRole  \\\n",
       "547    moma.org/calendar/exhibitions/2049            NaN   \n",
       "607    moma.org/calendar/exhibitions/2054            NaN   \n",
       "622    moma.org/calendar/exhibitions/2056            NaN   \n",
       "1172   moma.org/calendar/exhibitions/2933            NaN   \n",
       "1196   moma.org/calendar/exhibitions/2934            NaN   \n",
       "...                                   ...            ...   \n",
       "33373                                 NaN            NaN   \n",
       "33605                                 NaN            NaN   \n",
       "34243                                 NaN            NaN   \n",
       "34507                                 NaN            NaN   \n",
       "34534                                 NaN            NaN   \n",
       "\n",
       "      ExhibitionRoleinPressRelease  ...  Institution Nationality  \\\n",
       "547                            NaN  ...          NaN         NaN   \n",
       "607                            NaN  ...          NaN         NaN   \n",
       "622                            NaN  ...          NaN         NaN   \n",
       "1172                           NaN  ...          NaN         NaN   \n",
       "1196                           NaN  ...          NaN         NaN   \n",
       "...                            ...  ...          ...         ...   \n",
       "33373                          NaN  ...          NaN         NaN   \n",
       "33605                          NaN  ...          NaN         NaN   \n",
       "34243                          NaN  ...          NaN         NaN   \n",
       "34507                          NaN  ...          NaN         NaN   \n",
       "34534                          NaN  ...          NaN         NaN   \n",
       "\n",
       "      ConstituentBeginDate ConstituentEndDate ArtistBio Gender VIAFID  \\\n",
       "547                    NaN                NaN       NaN    NaN    NaN   \n",
       "607                    NaN                NaN       NaN    NaN    NaN   \n",
       "622                    NaN                NaN       NaN    NaN    NaN   \n",
       "1172                   NaN                NaN       NaN    NaN    NaN   \n",
       "1196                   NaN                NaN       NaN    NaN    NaN   \n",
       "...                    ...                ...       ...    ...    ...   \n",
       "33373                  NaN                NaN       NaN    NaN    NaN   \n",
       "33605                  NaN                NaN       NaN    NaN    NaN   \n",
       "34243                  NaN                NaN       NaN    NaN    NaN   \n",
       "34507                  NaN                NaN       NaN    NaN    NaN   \n",
       "34534                  NaN                NaN       NaN    NaN    NaN   \n",
       "\n",
       "      WikidataID ULANID ConstituentURL  \n",
       "547          NaN    NaN            NaN  \n",
       "607          NaN    NaN            NaN  \n",
       "622          NaN    NaN            NaN  \n",
       "1172         NaN    NaN            NaN  \n",
       "1196         NaN    NaN            NaN  \n",
       "...          ...    ...            ...  \n",
       "33373        NaN    NaN            NaN  \n",
       "33605        NaN    NaN            NaN  \n",
       "34243        NaN    NaN            NaN  \n",
       "34507        NaN    NaN            NaN  \n",
       "34534        NaN    NaN            NaN  \n",
       "\n",
       "[134 rows x 28 columns]"
      ],
      "text/html": "<div>\n<style scoped>\n    .dataframe tbody tr th:only-of-type {\n        vertical-align: middle;\n    }\n\n    .dataframe tbody tr th {\n        vertical-align: top;\n    }\n\n    .dataframe thead th {\n        text-align: right;\n    }\n</style>\n<table border=\"1\" class=\"dataframe\">\n  <thead>\n    <tr style=\"text-align: right;\">\n      <th></th>\n      <th>ExhibitionID</th>\n      <th>ExhibitionNumber</th>\n      <th>ExhibitionTitle</th>\n      <th>ExhibitionCitationDate</th>\n      <th>ExhibitionBeginDate</th>\n      <th>ExhibitionEndDate</th>\n      <th>ExhibitionSortOrder</th>\n      <th>ExhibitionURL</th>\n      <th>ExhibitionRole</th>\n      <th>ExhibitionRoleinPressRelease</th>\n      <th>...</th>\n      <th>Institution</th>\n      <th>Nationality</th>\n      <th>ConstituentBeginDate</th>\n      <th>ConstituentEndDate</th>\n      <th>ArtistBio</th>\n      <th>Gender</th>\n      <th>VIAFID</th>\n      <th>WikidataID</th>\n      <th>ULANID</th>\n      <th>ConstituentURL</th>\n    </tr>\n  </thead>\n  <tbody>\n    <tr>\n      <th>547</th>\n      <td>2986.0</td>\n      <td>21</td>\n      <td>Poster Competition</td>\n      <td>[MoMA Exh. #21, February 25-March 12, 1933]</td>\n      <td>1933-02-25</td>\n      <td>1933-03-12</td>\n      <td>22.0</td>\n      <td>moma.org/calendar/exhibitions/2049</td>\n      <td>NaN</td>\n      <td>NaN</td>\n      <td>...</td>\n      <td>NaN</td>\n      <td>NaN</td>\n      <td>NaN</td>\n      <td>NaN</td>\n      <td>NaN</td>\n      <td>NaN</td>\n      <td>NaN</td>\n      <td>NaN</td>\n      <td>NaN</td>\n      <td>NaN</td>\n    </tr>\n    <tr>\n      <th>607</th>\n      <td>2993.0</td>\n      <td>25a</td>\n      <td>Typography Competition</td>\n      <td>[MoMA Exh. #25a, March 27-April 6, 1933]</td>\n      <td>1933-03-27</td>\n      <td>1933-04-06</td>\n      <td>29.0</td>\n      <td>moma.org/calendar/exhibitions/2054</td>\n      <td>NaN</td>\n      <td>NaN</td>\n      <td>...</td>\n      <td>NaN</td>\n      <td>NaN</td>\n      <td>NaN</td>\n      <td>NaN</td>\n      <td>NaN</td>\n      <td>NaN</td>\n      <td>NaN</td>\n      <td>NaN</td>\n      <td>NaN</td>\n      <td>NaN</td>\n    </tr>\n    <tr>\n      <th>622</th>\n      <td>2995.0</td>\n      <td>26a</td>\n      <td>The Museum Collection: Painting and Sculpture</td>\n      <td>[MoMA Exh. #26a, March 27-April 25, 1933]</td>\n      <td>1933-03-27</td>\n      <td>1933-04-25</td>\n      <td>31.0</td>\n      <td>moma.org/calendar/exhibitions/2056</td>\n      <td>NaN</td>\n      <td>NaN</td>\n      <td>...</td>\n      <td>NaN</td>\n      <td>NaN</td>\n      <td>NaN</td>\n      <td>NaN</td>\n      <td>NaN</td>\n      <td>NaN</td>\n      <td>NaN</td>\n      <td>NaN</td>\n      <td>NaN</td>\n      <td>NaN</td>\n    </tr>\n    <tr>\n      <th>1172</th>\n      <td>3010.0</td>\n      <td>34e</td>\n      <td>Westchester Folk Art Exhibition</td>\n      <td>[MoMA Exh. #34e, June 23-July 9, 1934]</td>\n      <td>1934-06-23</td>\n      <td>1934-07-09</td>\n      <td>52.0</td>\n      <td>moma.org/calendar/exhibitions/2933</td>\n      <td>NaN</td>\n      <td>NaN</td>\n      <td>...</td>\n      <td>NaN</td>\n      <td>NaN</td>\n      <td>NaN</td>\n      <td>NaN</td>\n      <td>NaN</td>\n      <td>NaN</td>\n      <td>NaN</td>\n      <td>NaN</td>\n      <td>NaN</td>\n      <td>NaN</td>\n    </tr>\n    <tr>\n      <th>1196</th>\n      <td>3012.0</td>\n      <td>34h</td>\n      <td>The Making of a Museum Publication</td>\n      <td>[MoMA Exh. #34h, September 11-October 7, 1934]</td>\n      <td>1934-09-11</td>\n      <td>1934-10-07</td>\n      <td>55.0</td>\n      <td>moma.org/calendar/exhibitions/2934</td>\n      <td>NaN</td>\n      <td>NaN</td>\n      <td>...</td>\n      <td>NaN</td>\n      <td>NaN</td>\n      <td>NaN</td>\n      <td>NaN</td>\n      <td>NaN</td>\n      <td>NaN</td>\n      <td>NaN</td>\n      <td>NaN</td>\n      <td>NaN</td>\n      <td>NaN</td>\n    </tr>\n    <tr>\n      <th>...</th>\n      <td>...</td>\n      <td>...</td>\n      <td>...</td>\n      <td>...</td>\n      <td>...</td>\n      <td>...</td>\n      <td>...</td>\n      <td>...</td>\n      <td>...</td>\n      <td>...</td>\n      <td>...</td>\n      <td>...</td>\n      <td>...</td>\n      <td>...</td>\n      <td>...</td>\n      <td>...</td>\n      <td>...</td>\n      <td>...</td>\n      <td>...</td>\n      <td>...</td>\n      <td>...</td>\n    </tr>\n    <tr>\n      <th>33373</th>\n      <td>NaN</td>\n      <td>No#</td>\n      <td>Architecture and Design Permanent Gallery Rein...</td>\n      <td>[Winter 1987-88]</td>\n      <td>1987-12-01</td>\n      <td>NaT</td>\n      <td>1691.0</td>\n      <td>NaN</td>\n      <td>NaN</td>\n      <td>NaN</td>\n      <td>...</td>\n      <td>NaN</td>\n      <td>NaN</td>\n      <td>NaN</td>\n      <td>NaN</td>\n      <td>NaN</td>\n      <td>NaN</td>\n      <td>NaN</td>\n      <td>NaN</td>\n      <td>NaN</td>\n      <td>NaN</td>\n    </tr>\n    <tr>\n      <th>33605</th>\n      <td>NaN</td>\n      <td>1485</td>\n      <td>Painting and Sculpture, New Reinstallation</td>\n      <td>[MoMA Exh. #1485, December 24, 1987-September ...</td>\n      <td>1987-12-24</td>\n      <td>1988-09-12</td>\n      <td>1706.0</td>\n      <td>NaN</td>\n      <td>NaN</td>\n      <td>NaN</td>\n      <td>...</td>\n      <td>NaN</td>\n      <td>NaN</td>\n      <td>NaN</td>\n      <td>NaN</td>\n      <td>NaN</td>\n      <td>NaN</td>\n      <td>NaN</td>\n      <td>NaN</td>\n      <td>NaN</td>\n      <td>NaN</td>\n    </tr>\n    <tr>\n      <th>34243</th>\n      <td>NaN</td>\n      <td>No#</td>\n      <td>Architecture and Design Permanent Collection G...</td>\n      <td>[Spring 1989]</td>\n      <td>1989-04-01</td>\n      <td>NaT</td>\n      <td>1741.0</td>\n      <td>NaN</td>\n      <td>NaN</td>\n      <td>NaN</td>\n      <td>...</td>\n      <td>NaN</td>\n      <td>NaN</td>\n      <td>NaN</td>\n      <td>NaN</td>\n      <td>NaN</td>\n      <td>NaN</td>\n      <td>NaN</td>\n      <td>NaN</td>\n      <td>NaN</td>\n      <td>NaN</td>\n    </tr>\n    <tr>\n      <th>34507</th>\n      <td>NaN</td>\n      <td>No#</td>\n      <td>Architecture and Design Permanent Collection G...</td>\n      <td>[November 1989 - no closing date]</td>\n      <td>1989-11-01</td>\n      <td>NaT</td>\n      <td>1764.0</td>\n      <td>NaN</td>\n      <td>NaN</td>\n      <td>NaN</td>\n      <td>...</td>\n      <td>NaN</td>\n      <td>NaN</td>\n      <td>NaN</td>\n      <td>NaN</td>\n      <td>NaN</td>\n      <td>NaN</td>\n      <td>NaN</td>\n      <td>NaN</td>\n      <td>NaN</td>\n      <td>NaN</td>\n    </tr>\n    <tr>\n      <th>34534</th>\n      <td>NaN</td>\n      <td>No#</td>\n      <td>Sidney Janis Memorial</td>\n      <td>[November 30, 1989-January 3, 1990]</td>\n      <td>1989-11-30</td>\n      <td>1990-01-03</td>\n      <td>1766.0</td>\n      <td>NaN</td>\n      <td>NaN</td>\n      <td>NaN</td>\n      <td>...</td>\n      <td>NaN</td>\n      <td>NaN</td>\n      <td>NaN</td>\n      <td>NaN</td>\n      <td>NaN</td>\n      <td>NaN</td>\n      <td>NaN</td>\n      <td>NaN</td>\n      <td>NaN</td>\n      <td>NaN</td>\n    </tr>\n  </tbody>\n</table>\n<p>134 rows × 28 columns</p>\n</div>"
     },
     "metadata": {},
     "execution_count": 59
    }
   ],
   "source": [
    "nan_rows"
   ]
  },
  {
   "cell_type": "code",
   "execution_count": 54,
   "metadata": {},
   "outputs": [
    {
     "output_type": "stream",
     "name": "stdout",
     "text": [
      "Help on method filter in module pandas.core.generic:\n\nfilter(items=None, like: 'Optional[str]' = None, regex: 'Optional[str]' = None, axis=None) -> 'FrameOrSeries' method of pandas.core.frame.DataFrame instance\n    Subset the dataframe rows or columns according to the specified index labels.\n    \n    Note that this routine does not filter a dataframe on its\n    contents. The filter is applied to the labels of the index.\n    \n    Parameters\n    ----------\n    items : list-like\n        Keep labels from axis which are in items.\n    like : str\n        Keep labels from axis for which \"like in label == True\".\n    regex : str (regular expression)\n        Keep labels from axis for which re.search(regex, label) == True.\n    axis : {0 or ‘index’, 1 or ‘columns’, None}, default None\n        The axis to filter on, expressed either as an index (int)\n        or axis name (str). By default this is the info axis,\n        'index' for Series, 'columns' for DataFrame.\n    \n    Returns\n    -------\n    same type as input object\n    \n    See Also\n    --------\n    DataFrame.loc : Access a group of rows and columns\n        by label(s) or a boolean array.\n    \n    Notes\n    -----\n    The ``items``, ``like``, and ``regex`` parameters are\n    enforced to be mutually exclusive.\n    \n    ``axis`` defaults to the info axis that is used when indexing\n    with ``[]``.\n    \n    Examples\n    --------\n    >>> df = pd.DataFrame(np.array(([1, 2, 3], [4, 5, 6])),\n    ...                   index=['mouse', 'rabbit'],\n    ...                   columns=['one', 'two', 'three'])\n    >>> df\n            one  two  three\n    mouse     1    2      3\n    rabbit    4    5      6\n    \n    >>> # select columns by name\n    >>> df.filter(items=['one', 'three'])\n             one  three\n    mouse     1      3\n    rabbit    4      6\n    \n    >>> # select columns by regular expression\n    >>> df.filter(regex='e$', axis=1)\n             one  three\n    mouse     1      3\n    rabbit    4      6\n    \n    >>> # select rows containing 'bbi'\n    >>> df.filter(like='bbi', axis=0)\n             one  two  three\n    rabbit    4    5      6\n\n"
     ]
    }
   ],
   "source": [
    "help(exhibitions.filter)"
   ]
  },
  {
   "cell_type": "code",
   "execution_count": 67,
   "metadata": {},
   "outputs": [],
   "source": [
    "# Your code here\n",
    "\n",
    "is_Curator = defaultdict(lambda: 0)\n",
    "is_Curator.update({'Curator':1})\n",
    "\n",
    "is_Artist = defaultdict(lambda: 0)\n",
    "is_Artist.update({'Artist':1})\n",
    "\n",
    "is_Arranger = defaultdict(lambda: 0)\n",
    "is_Arranger.update({'Arranger':1})\n",
    "\n",
    "is_Installer = defaultdict(lambda: 0)\n",
    "is_Installer.update({'Installer':1})\n",
    "\n",
    "is_Competition_Judge = defaultdict(lambda: 0)\n",
    "is_Competition_Judge.update({'Competition Judge':1})\n",
    "\n",
    "is_Designer = defaultdict(lambda: 0)\n",
    "is_Designer.update({'Designer':1})\n",
    "\n",
    "is_Preparer = defaultdict(lambda: 0)\n",
    "is_Preparer.update({'Preparer':1})"
   ]
  },
  {
   "cell_type": "code",
   "execution_count": 68,
   "metadata": {},
   "outputs": [],
   "source": [
    "Exibitions_Indicators = (exhibitions\n",
    " >> select(X.ExhibitionRole)\n",
    " >> mutate(Curator = X.ExhibitionRole.map(is_Curator))\n",
    " >> mutate(Artist = X.ExhibitionRole.map(is_Artist))\n",
    " >> mutate(Arranger = X.ExhibitionRole.map(is_Arranger))\n",
    " >> mutate(Installer = X.ExhibitionRole.map(is_Installer))\n",
    " >> mutate(Competition_Judge = X.ExhibitionRole.map(is_Competition_Judge))\n",
    " >> mutate(Designer = X.ExhibitionRole.map(is_Designer))\n",
    " >> mutate(Preparer = X.ExhibitionRole.map(is_Preparer))\n",
    " >> head(200)\n",
    ") "
   ]
  },
  {
   "cell_type": "code",
   "execution_count": 69,
   "metadata": {},
   "outputs": [
    {
     "output_type": "execute_result",
     "data": {
      "text/plain": [
       "    ExhibitionRole  Curator  Artist  Arranger  Installer  Competition_Judge  \\\n",
       "0          Curator        1       0         0          0                  0   \n",
       "1           Artist        0       1         0          0                  0   \n",
       "2           Artist        0       1         0          0                  0   \n",
       "3           Artist        0       1         0          0                  0   \n",
       "4           Artist        0       1         0          0                  0   \n",
       "..             ...      ...     ...       ...        ...                ...   \n",
       "195         Artist        0       1         0          0                  0   \n",
       "196         Artist        0       1         0          0                  0   \n",
       "197         Artist        0       1         0          0                  0   \n",
       "198         Artist        0       1         0          0                  0   \n",
       "199         Artist        0       1         0          0                  0   \n",
       "\n",
       "     Designer  Preparer  \n",
       "0           0         0  \n",
       "1           0         0  \n",
       "2           0         0  \n",
       "3           0         0  \n",
       "4           0         0  \n",
       "..        ...       ...  \n",
       "195         0         0  \n",
       "196         0         0  \n",
       "197         0         0  \n",
       "198         0         0  \n",
       "199         0         0  \n",
       "\n",
       "[200 rows x 8 columns]"
      ],
      "text/html": "<div>\n<style scoped>\n    .dataframe tbody tr th:only-of-type {\n        vertical-align: middle;\n    }\n\n    .dataframe tbody tr th {\n        vertical-align: top;\n    }\n\n    .dataframe thead th {\n        text-align: right;\n    }\n</style>\n<table border=\"1\" class=\"dataframe\">\n  <thead>\n    <tr style=\"text-align: right;\">\n      <th></th>\n      <th>ExhibitionRole</th>\n      <th>Curator</th>\n      <th>Artist</th>\n      <th>Arranger</th>\n      <th>Installer</th>\n      <th>Competition_Judge</th>\n      <th>Designer</th>\n      <th>Preparer</th>\n    </tr>\n  </thead>\n  <tbody>\n    <tr>\n      <th>0</th>\n      <td>Curator</td>\n      <td>1</td>\n      <td>0</td>\n      <td>0</td>\n      <td>0</td>\n      <td>0</td>\n      <td>0</td>\n      <td>0</td>\n    </tr>\n    <tr>\n      <th>1</th>\n      <td>Artist</td>\n      <td>0</td>\n      <td>1</td>\n      <td>0</td>\n      <td>0</td>\n      <td>0</td>\n      <td>0</td>\n      <td>0</td>\n    </tr>\n    <tr>\n      <th>2</th>\n      <td>Artist</td>\n      <td>0</td>\n      <td>1</td>\n      <td>0</td>\n      <td>0</td>\n      <td>0</td>\n      <td>0</td>\n      <td>0</td>\n    </tr>\n    <tr>\n      <th>3</th>\n      <td>Artist</td>\n      <td>0</td>\n      <td>1</td>\n      <td>0</td>\n      <td>0</td>\n      <td>0</td>\n      <td>0</td>\n      <td>0</td>\n    </tr>\n    <tr>\n      <th>4</th>\n      <td>Artist</td>\n      <td>0</td>\n      <td>1</td>\n      <td>0</td>\n      <td>0</td>\n      <td>0</td>\n      <td>0</td>\n      <td>0</td>\n    </tr>\n    <tr>\n      <th>...</th>\n      <td>...</td>\n      <td>...</td>\n      <td>...</td>\n      <td>...</td>\n      <td>...</td>\n      <td>...</td>\n      <td>...</td>\n      <td>...</td>\n    </tr>\n    <tr>\n      <th>195</th>\n      <td>Artist</td>\n      <td>0</td>\n      <td>1</td>\n      <td>0</td>\n      <td>0</td>\n      <td>0</td>\n      <td>0</td>\n      <td>0</td>\n    </tr>\n    <tr>\n      <th>196</th>\n      <td>Artist</td>\n      <td>0</td>\n      <td>1</td>\n      <td>0</td>\n      <td>0</td>\n      <td>0</td>\n      <td>0</td>\n      <td>0</td>\n    </tr>\n    <tr>\n      <th>197</th>\n      <td>Artist</td>\n      <td>0</td>\n      <td>1</td>\n      <td>0</td>\n      <td>0</td>\n      <td>0</td>\n      <td>0</td>\n      <td>0</td>\n    </tr>\n    <tr>\n      <th>198</th>\n      <td>Artist</td>\n      <td>0</td>\n      <td>1</td>\n      <td>0</td>\n      <td>0</td>\n      <td>0</td>\n      <td>0</td>\n      <td>0</td>\n    </tr>\n    <tr>\n      <th>199</th>\n      <td>Artist</td>\n      <td>0</td>\n      <td>1</td>\n      <td>0</td>\n      <td>0</td>\n      <td>0</td>\n      <td>0</td>\n      <td>0</td>\n    </tr>\n  </tbody>\n</table>\n<p>200 rows × 8 columns</p>\n</div>"
     },
     "metadata": {},
     "execution_count": 69
    }
   ],
   "source": [
    "Exibitions_Indicators"
   ]
  },
  {
   "source": [
    "The above table has indicated each role and completely ignored any row with NaN values"
   ],
   "cell_type": "markdown",
   "metadata": {}
  },
  {
   "cell_type": "markdown",
   "metadata": {},
   "source": [
    "I do not think this is a Dry Solution as layed out in the provided document, as we with this structure we say no too many times to fit that bill. While it is true that we could remove the source column and remove the redundancy there, we still would have redundant \"No\" values. With the base column, we directly indacte what somebody is by simple stating it out right. It is done once, completely, and defineivley. But in our indicataive solution, Not only are we saying that a person is Curator, we are also saying that they are not an artist, arranger, judge, etc. To me, this seems much more like WET (Write Every Time) approach. That is not to say having dummy variable is inherenetly bad, as having the data as such is required for certain analytical methods. But as efficent storage or being \"Clean\" it seems far less effective."
   ]
  }
 ],
 "metadata": {
  "kernelspec": {
   "display_name": "Python 3",
   "language": "python",
   "name": "python3"
  },
  "language_info": {
   "codemirror_mode": {
    "name": "ipython",
    "version": 3
   },
   "file_extension": ".py",
   "mimetype": "text/x-python",
   "name": "python",
   "nbconvert_exporter": "python",
   "pygments_lexer": "ipython3",
   "version": "3.7.6-final"
  },
  "varInspector": {
   "cols": {
    "lenName": 16,
    "lenType": 16,
    "lenVar": 40
   },
   "kernels_config": {
    "python": {
     "delete_cmd_postfix": "",
     "delete_cmd_prefix": "del ",
     "library": "var_list.py",
     "varRefreshCmd": "print(var_dic_list())"
    },
    "r": {
     "delete_cmd_postfix": ") ",
     "delete_cmd_prefix": "rm(",
     "library": "var_list.r",
     "varRefreshCmd": "cat(var_dic_list()) "
    }
   },
   "types_to_exclude": [
    "module",
    "function",
    "builtin_function_or_method",
    "instance",
    "_Feature"
   ],
   "window_display": false
  }
 },
 "nbformat": 4,
 "nbformat_minor": 2
}