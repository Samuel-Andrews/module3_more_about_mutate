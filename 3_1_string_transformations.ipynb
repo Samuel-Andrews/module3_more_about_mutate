{
 "cells": [
  {
   "cell_type": "markdown",
   "metadata": {},
   "source": [
    "# String Transformations"
   ]
  },
  {
   "cell_type": "code",
   "execution_count": 2,
   "metadata": {},
   "outputs": [],
   "source": [
    "#!pip install more-dfply --upgrade\n",
    "\n"
   ]
  },
  {
   "cell_type": "markdown",
   "metadata": {},
   "source": [
    "## Outline\n",
    "\n",
    "1. Basic string operations<br>\n",
    "    a. Managing case and whitespace<br>\n",
    "    b. Replacing substrings<br>\n",
    "2. Splitting strings and `dfply.separate`\n",
    "3. Concatenating columns and `dfply.unite`\n",
    "4. Regular expressions in Python\n",
    "5. Using functions and RegEx with `df.column.replace`"
   ]
  },
  {
   "cell_type": "code",
   "execution_count": 3,
   "metadata": {},
   "outputs": [],
   "source": [
    "import pandas as pd\n",
    "from dfply import *\n",
    "import matplotlib.pylab as plt\n",
    "%matplotlib inline"
   ]
  },
  {
   "cell_type": "markdown",
   "metadata": {},
   "source": [
    "## Hiding stack traceback\n",
    "\n",
    "We hide the exception traceback for didactic reasons (code source: [see this post](https://stackoverflow.com/questions/46222753/how-do-i-suppress-tracebacks-in-jupyter)).  Don't run this cell if you want to see a full traceback."
   ]
  },
  {
   "cell_type": "code",
   "execution_count": 4,
   "metadata": {},
   "outputs": [],
   "source": [
    "import sys\n",
    "ipython = get_ipython()\n",
    "\n",
    "def hide_traceback(exc_tuple=None, filename=None, tb_offset=None,\n",
    "                   exception_only=False, running_compiled_code=False):\n",
    "    etype, value, tb = sys.exc_info()\n",
    "    return ipython._showtraceback(etype, value, ipython.InteractiveTB.get_exception_only(etype, value))\n",
    "\n",
    "ipython.showtraceback = hide_traceback"
   ]
  },
  {
   "cell_type": "markdown",
   "metadata": {},
   "source": [
    "## Data set\n",
    "\n",
    "We will be using two of the data sets provided by the Museam of Modern Art (MoMA) in this lecture.  Make sure that you have downloaded each repository.  [Download Instructions](./get_MOMA_data.ipynb)"
   ]
  },
  {
   "cell_type": "markdown",
   "metadata": {},
   "source": [
    "## The exhibition file gives encoding errors by default"
   ]
  },
  {
   "cell_type": "code",
   "execution_count": 5,
   "metadata": {
    "scrolled": true
   },
   "outputs": [],
   "source": [
    "exhibitions = pd.read_csv('./data/MoMAExhibitions1929to1989.csv')"
   ]
  },
  {
   "cell_type": "markdown",
   "metadata": {},
   "source": [
    "## Switching encodings fixes the problem\n",
    "\n",
    "* See [this Stack Overflow question](https://stackoverflow.com/questions/18171739/unicodedecodeerror-when-reading-csv-file-in-pandas-with-python)\n",
    "* More details on [ISO-8859-1](https://en.wikipedia.org/wiki/ISO/IEC_8859-1)"
   ]
  },
  {
   "cell_type": "code",
   "execution_count": 6,
   "metadata": {
    "scrolled": true
   },
   "outputs": [
    {
     "output_type": "execute_result",
     "data": {
      "text/plain": [
       "   ExhibitionID ExhibitionNumber                     ExhibitionTitle  \\\n",
       "0        2557.0                1  Cézanne, Gauguin, Seurat, Van Gogh   \n",
       "1        2557.0                1  Cézanne, Gauguin, Seurat, Van Gogh   \n",
       "\n",
       "                        ExhibitionCitationDate ExhibitionBeginDate  \\\n",
       "0  [MoMA Exh. #1, November 7-December 7, 1929]          1929-11-07   \n",
       "1  [MoMA Exh. #1, November 7-December 7, 1929]          1929-11-07   \n",
       "\n",
       "  ExhibitionEndDate  ExhibitionSortOrder                       ExhibitionURL  \\\n",
       "0        1929-12-07                  1.0  moma.org/calendar/exhibitions/1767   \n",
       "1        1929-12-07                  1.0  moma.org/calendar/exhibitions/1767   \n",
       "\n",
       "  ExhibitionRole ExhibitionRoleinPressRelease  ...  Institution Nationality  \\\n",
       "0        Curator                     Director  ...          NaN    American   \n",
       "1         Artist                       Artist  ...          NaN      French   \n",
       "\n",
       "  ConstituentBeginDate ConstituentEndDate            ArtistBio Gender  \\\n",
       "0                 1902               1981  American, 19021981   Male   \n",
       "1                 1839               1906    French, 18391906   Male   \n",
       "\n",
       "        VIAFID WikidataID       ULANID         ConstituentURL  \n",
       "0  109252853.0    Q711362  500241556.0  moma.org/artists/9168  \n",
       "1   39374836.0     Q35548  500004793.0  moma.org/artists/1053  \n",
       "\n",
       "[2 rows x 28 columns]"
      ],
      "text/html": "<div>\n<style scoped>\n    .dataframe tbody tr th:only-of-type {\n        vertical-align: middle;\n    }\n\n    .dataframe tbody tr th {\n        vertical-align: top;\n    }\n\n    .dataframe thead th {\n        text-align: right;\n    }\n</style>\n<table border=\"1\" class=\"dataframe\">\n  <thead>\n    <tr style=\"text-align: right;\">\n      <th></th>\n      <th>ExhibitionID</th>\n      <th>ExhibitionNumber</th>\n      <th>ExhibitionTitle</th>\n      <th>ExhibitionCitationDate</th>\n      <th>ExhibitionBeginDate</th>\n      <th>ExhibitionEndDate</th>\n      <th>ExhibitionSortOrder</th>\n      <th>ExhibitionURL</th>\n      <th>ExhibitionRole</th>\n      <th>ExhibitionRoleinPressRelease</th>\n      <th>...</th>\n      <th>Institution</th>\n      <th>Nationality</th>\n      <th>ConstituentBeginDate</th>\n      <th>ConstituentEndDate</th>\n      <th>ArtistBio</th>\n      <th>Gender</th>\n      <th>VIAFID</th>\n      <th>WikidataID</th>\n      <th>ULANID</th>\n      <th>ConstituentURL</th>\n    </tr>\n  </thead>\n  <tbody>\n    <tr>\n      <th>0</th>\n      <td>2557.0</td>\n      <td>1</td>\n      <td>Cézanne, Gauguin, Seurat, Van Gogh</td>\n      <td>[MoMA Exh. #1, November 7-December 7, 1929]</td>\n      <td>1929-11-07</td>\n      <td>1929-12-07</td>\n      <td>1.0</td>\n      <td>moma.org/calendar/exhibitions/1767</td>\n      <td>Curator</td>\n      <td>Director</td>\n      <td>...</td>\n      <td>NaN</td>\n      <td>American</td>\n      <td>1902</td>\n      <td>1981</td>\n      <td>American, 19021981</td>\n      <td>Male</td>\n      <td>109252853.0</td>\n      <td>Q711362</td>\n      <td>500241556.0</td>\n      <td>moma.org/artists/9168</td>\n    </tr>\n    <tr>\n      <th>1</th>\n      <td>2557.0</td>\n      <td>1</td>\n      <td>Cézanne, Gauguin, Seurat, Van Gogh</td>\n      <td>[MoMA Exh. #1, November 7-December 7, 1929]</td>\n      <td>1929-11-07</td>\n      <td>1929-12-07</td>\n      <td>1.0</td>\n      <td>moma.org/calendar/exhibitions/1767</td>\n      <td>Artist</td>\n      <td>Artist</td>\n      <td>...</td>\n      <td>NaN</td>\n      <td>French</td>\n      <td>1839</td>\n      <td>1906</td>\n      <td>French, 18391906</td>\n      <td>Male</td>\n      <td>39374836.0</td>\n      <td>Q35548</td>\n      <td>500004793.0</td>\n      <td>moma.org/artists/1053</td>\n    </tr>\n  </tbody>\n</table>\n<p>2 rows × 28 columns</p>\n</div>"
     },
     "metadata": {},
     "execution_count": 6
    }
   ],
   "source": [
    "dat_cols = ['ExhibitionBeginDate', 'ExhibitionEndDate', 'ConstituentBeginDate' ,'ConstituentEndDate']\n",
    "exhibitions = pd.read_csv('./data/MoMAExhibitions1929to1989.csv', \n",
    "                          encoding=\"ISO-8859-1\",\n",
    "                          parse_dates=dat_cols)\n",
    "exhibitions.head(2)"
   ]
  },
  {
   "cell_type": "markdown",
   "metadata": {},
   "source": [
    "#### MoMA Artists"
   ]
  },
  {
   "cell_type": "code",
   "execution_count": 7,
   "metadata": {
    "scrolled": true
   },
   "outputs": [
    {
     "output_type": "execute_result",
     "data": {
      "text/plain": [
       "   ConstituentID     DisplayName            ArtistBio Nationality Gender  \\\n",
       "0              1  Robert Arneson  American, 1930–1992    American   Male   \n",
       "1              2  Doroteo Arnaiz   Spanish, born 1936     Spanish   Male   \n",
       "\n",
       "   BeginDate  EndDate Wiki QID  ULAN  \n",
       "0       1930     1992      NaN   NaN  \n",
       "1       1936        0      NaN   NaN  "
      ],
      "text/html": "<div>\n<style scoped>\n    .dataframe tbody tr th:only-of-type {\n        vertical-align: middle;\n    }\n\n    .dataframe tbody tr th {\n        vertical-align: top;\n    }\n\n    .dataframe thead th {\n        text-align: right;\n    }\n</style>\n<table border=\"1\" class=\"dataframe\">\n  <thead>\n    <tr style=\"text-align: right;\">\n      <th></th>\n      <th>ConstituentID</th>\n      <th>DisplayName</th>\n      <th>ArtistBio</th>\n      <th>Nationality</th>\n      <th>Gender</th>\n      <th>BeginDate</th>\n      <th>EndDate</th>\n      <th>Wiki QID</th>\n      <th>ULAN</th>\n    </tr>\n  </thead>\n  <tbody>\n    <tr>\n      <th>0</th>\n      <td>1</td>\n      <td>Robert Arneson</td>\n      <td>American, 1930–1992</td>\n      <td>American</td>\n      <td>Male</td>\n      <td>1930</td>\n      <td>1992</td>\n      <td>NaN</td>\n      <td>NaN</td>\n    </tr>\n    <tr>\n      <th>1</th>\n      <td>2</td>\n      <td>Doroteo Arnaiz</td>\n      <td>Spanish, born 1936</td>\n      <td>Spanish</td>\n      <td>Male</td>\n      <td>1936</td>\n      <td>0</td>\n      <td>NaN</td>\n      <td>NaN</td>\n    </tr>\n  </tbody>\n</table>\n</div>"
     },
     "metadata": {},
     "execution_count": 7
    }
   ],
   "source": [
    "artists = pd.read_csv(\"./data/Artists.csv\")\n",
    "artists.head(2)"
   ]
  },
  {
   "cell_type": "markdown",
   "metadata": {},
   "source": [
    "#### MoMA Artwork"
   ]
  },
  {
   "cell_type": "code",
   "execution_count": 8,
   "metadata": {},
   "outputs": [
    {
     "output_type": "execute_result",
     "data": {
      "text/plain": [
       "                                               Title  \\\n",
       "0  Ferdinandsbrücke Project, Vienna, Austria (Ele...   \n",
       "1  City of Music, National Superior Conservatory ...   \n",
       "\n",
       "                     Artist ConstituentID              ArtistBio Nationality  \\\n",
       "0               Otto Wagner          6210  (Austrian, 1841–1918)  (Austrian)   \n",
       "1  Christian de Portzamparc          7470    (French, born 1944)    (French)   \n",
       "\n",
       "  BeginDate EndDate  Gender  Date  \\\n",
       "0    (1841)  (1918)  (Male)  1896   \n",
       "1    (1944)     (0)  (Male)  1987   \n",
       "\n",
       "                                          Medium  ... Circumference_cm  \\\n",
       "0  Ink and cut-and-pasted painted pages on paper  ...              NaN   \n",
       "1              Paint and colored pencil on print  ...              NaN   \n",
       "\n",
       "  Depth_cm Diameter_cm Height_cm Length_cm Weight_kg  Width_cm  \\\n",
       "0      NaN         NaN   48.6000       NaN       NaN  168.9000   \n",
       "1      NaN         NaN   40.6401       NaN       NaN   29.8451   \n",
       "\n",
       "   Seat_Height_cm Duration_sec id  \n",
       "0             NaN          NaN  1  \n",
       "1             NaN          NaN  2  \n",
       "\n",
       "[2 rows x 30 columns]"
      ],
      "text/html": "<div>\n<style scoped>\n    .dataframe tbody tr th:only-of-type {\n        vertical-align: middle;\n    }\n\n    .dataframe tbody tr th {\n        vertical-align: top;\n    }\n\n    .dataframe thead th {\n        text-align: right;\n    }\n</style>\n<table border=\"1\" class=\"dataframe\">\n  <thead>\n    <tr style=\"text-align: right;\">\n      <th></th>\n      <th>Title</th>\n      <th>Artist</th>\n      <th>ConstituentID</th>\n      <th>ArtistBio</th>\n      <th>Nationality</th>\n      <th>BeginDate</th>\n      <th>EndDate</th>\n      <th>Gender</th>\n      <th>Date</th>\n      <th>Medium</th>\n      <th>...</th>\n      <th>Circumference_cm</th>\n      <th>Depth_cm</th>\n      <th>Diameter_cm</th>\n      <th>Height_cm</th>\n      <th>Length_cm</th>\n      <th>Weight_kg</th>\n      <th>Width_cm</th>\n      <th>Seat_Height_cm</th>\n      <th>Duration_sec</th>\n      <th>id</th>\n    </tr>\n  </thead>\n  <tbody>\n    <tr>\n      <th>0</th>\n      <td>Ferdinandsbrücke Project, Vienna, Austria (Ele...</td>\n      <td>Otto Wagner</td>\n      <td>6210</td>\n      <td>(Austrian, 1841–1918)</td>\n      <td>(Austrian)</td>\n      <td>(1841)</td>\n      <td>(1918)</td>\n      <td>(Male)</td>\n      <td>1896</td>\n      <td>Ink and cut-and-pasted painted pages on paper</td>\n      <td>...</td>\n      <td>NaN</td>\n      <td>NaN</td>\n      <td>NaN</td>\n      <td>48.6000</td>\n      <td>NaN</td>\n      <td>NaN</td>\n      <td>168.9000</td>\n      <td>NaN</td>\n      <td>NaN</td>\n      <td>1</td>\n    </tr>\n    <tr>\n      <th>1</th>\n      <td>City of Music, National Superior Conservatory ...</td>\n      <td>Christian de Portzamparc</td>\n      <td>7470</td>\n      <td>(French, born 1944)</td>\n      <td>(French)</td>\n      <td>(1944)</td>\n      <td>(0)</td>\n      <td>(Male)</td>\n      <td>1987</td>\n      <td>Paint and colored pencil on print</td>\n      <td>...</td>\n      <td>NaN</td>\n      <td>NaN</td>\n      <td>NaN</td>\n      <td>40.6401</td>\n      <td>NaN</td>\n      <td>NaN</td>\n      <td>29.8451</td>\n      <td>NaN</td>\n      <td>NaN</td>\n      <td>2</td>\n    </tr>\n  </tbody>\n</table>\n<p>2 rows × 30 columns</p>\n</div>"
     },
     "metadata": {},
     "execution_count": 8
    }
   ],
   "source": [
    "from more_dfply import fix_names\n",
    "\n",
    "artwork = (pd.read_csv(\"./data/Artworks.csv\")\n",
    "           >> fix_names\n",
    "           >> mutate(id = X.index + 1)\n",
    "          )\n",
    "artwork.head(2)"
   ]
  },
  {
   "cell_type": "markdown",
   "metadata": {},
   "source": [
    "# Working with Strings"
   ]
  },
  {
   "cell_type": "code",
   "execution_count": 9,
   "metadata": {},
   "outputs": [
    {
     "output_type": "execute_result",
     "data": {
      "text/plain": [
       "   ConstituentID     DisplayName            ArtistBio Nationality Gender  \\\n",
       "0              1  Robert Arneson  American, 1930–1992    American   Male   \n",
       "1              2  Doroteo Arnaiz   Spanish, born 1936     Spanish   Male   \n",
       "\n",
       "   BeginDate  EndDate Wiki QID  ULAN  \n",
       "0       1930     1992      NaN   NaN  \n",
       "1       1936        0      NaN   NaN  "
      ],
      "text/html": "<div>\n<style scoped>\n    .dataframe tbody tr th:only-of-type {\n        vertical-align: middle;\n    }\n\n    .dataframe tbody tr th {\n        vertical-align: top;\n    }\n\n    .dataframe thead th {\n        text-align: right;\n    }\n</style>\n<table border=\"1\" class=\"dataframe\">\n  <thead>\n    <tr style=\"text-align: right;\">\n      <th></th>\n      <th>ConstituentID</th>\n      <th>DisplayName</th>\n      <th>ArtistBio</th>\n      <th>Nationality</th>\n      <th>Gender</th>\n      <th>BeginDate</th>\n      <th>EndDate</th>\n      <th>Wiki QID</th>\n      <th>ULAN</th>\n    </tr>\n  </thead>\n  <tbody>\n    <tr>\n      <th>0</th>\n      <td>1</td>\n      <td>Robert Arneson</td>\n      <td>American, 1930–1992</td>\n      <td>American</td>\n      <td>Male</td>\n      <td>1930</td>\n      <td>1992</td>\n      <td>NaN</td>\n      <td>NaN</td>\n    </tr>\n    <tr>\n      <th>1</th>\n      <td>2</td>\n      <td>Doroteo Arnaiz</td>\n      <td>Spanish, born 1936</td>\n      <td>Spanish</td>\n      <td>Male</td>\n      <td>1936</td>\n      <td>0</td>\n      <td>NaN</td>\n      <td>NaN</td>\n    </tr>\n  </tbody>\n</table>\n</div>"
     },
     "metadata": {},
     "execution_count": 9
    }
   ],
   "source": [
    "artists.head(2)"
   ]
  },
  {
   "cell_type": "markdown",
   "metadata": {},
   "source": [
    "## Working with string  `pandas`\n",
    "\n",
    "* Available under `df.column.str`\n",
    "* Match most python methods"
   ]
  },
  {
   "cell_type": "markdown",
   "metadata": {},
   "source": [
    "## Managing case and whitespace\n",
    "\n",
    "The following table compare the functions/methods for managing case\n",
    "\n",
    "| `python` method | `pandas` method  |\n",
    "| --- | --- |\n",
    "| `s.lower()` | `df.a.str.lower()`   |\n",
    "| `s.upper()` | `df.a.str.upper()`   |\n",
    "| `s.strip()` | `df.a.str.strip()`   |\n",
    "| `s.lstrip()` | `df.a.str.lstrip()` |\n",
    "| `s.rstrip()` | `df.a.str.rstrip()` |"
   ]
  },
  {
   "cell_type": "code",
   "execution_count": 10,
   "metadata": {},
   "outputs": [
    {
     "output_type": "execute_result",
     "data": {
      "text/plain": [
       "['capitalize',\n",
       " 'casefold',\n",
       " 'cat',\n",
       " 'center',\n",
       " 'contains',\n",
       " 'count',\n",
       " 'decode',\n",
       " 'encode',\n",
       " 'endswith',\n",
       " 'extract',\n",
       " 'extractall',\n",
       " 'find',\n",
       " 'findall',\n",
       " 'fullmatch',\n",
       " 'get',\n",
       " 'get_dummies',\n",
       " 'index',\n",
       " 'isalnum',\n",
       " 'isalpha',\n",
       " 'isdecimal',\n",
       " 'isdigit',\n",
       " 'islower',\n",
       " 'isnumeric',\n",
       " 'isspace',\n",
       " 'istitle',\n",
       " 'isupper',\n",
       " 'join',\n",
       " 'len',\n",
       " 'ljust',\n",
       " 'lower',\n",
       " 'lstrip',\n",
       " 'match',\n",
       " 'normalize',\n",
       " 'pad',\n",
       " 'partition',\n",
       " 'repeat',\n",
       " 'replace',\n",
       " 'rfind',\n",
       " 'rindex',\n",
       " 'rjust',\n",
       " 'rpartition',\n",
       " 'rsplit',\n",
       " 'rstrip',\n",
       " 'slice',\n",
       " 'slice_replace',\n",
       " 'split',\n",
       " 'startswith',\n",
       " 'strip',\n",
       " 'swapcase',\n",
       " 'title',\n",
       " 'translate',\n",
       " 'upper',\n",
       " 'wrap',\n",
       " 'zfill']"
      ]
     },
     "metadata": {},
     "execution_count": 10
    }
   ],
   "source": [
    "[m for m in dir(artwork.Artist.str) if not m.startswith('_')]"
   ]
  },
  {
   "source": [
    "Mu job is index through isdigit"
   ],
   "cell_type": "markdown",
   "metadata": {}
  },
  {
   "cell_type": "code",
   "execution_count": 11,
   "metadata": {},
   "outputs": [
    {
     "output_type": "stream",
     "name": "stdout",
     "text": [
      "Help on method index in module pandas.core.strings.accessor:\n\nindex(sub, start=0, end=None) method of pandas.core.strings.accessor.StringMethods instance\n    Return lowest indexes in each string in Series/Index.\n    \n    Each of the returned indexes corresponds to the position where the\n    substring is fully contained between [start:end]. This is the same\n    as ``str.find`` except instead of returning -1, it raises a\n    ValueError when the substring is not found. Equivalent to standard\n    ``str.index``.\n    \n    Parameters\n    ----------\n    sub : str\n        Substring being searched.\n    start : int\n        Left edge index.\n    end : int\n        Right edge index.\n    \n    Returns\n    -------\n    Series or Index of object\n    \n    See Also\n    --------\n    rindex : Return highest indexes in each strings.\n\n"
     ]
    }
   ],
   "source": [
    "help(artwork.Artist.str.index)"
   ]
  },
  {
   "cell_type": "code",
   "execution_count": 12,
   "metadata": {},
   "outputs": [
    {
     "output_type": "stream",
     "name": "stdout",
     "text": [
      "Help on method isalnum in module pandas.core.strings.accessor:\n\nisalnum() method of pandas.core.strings.accessor.StringMethods instance\n    Check whether all characters in each string are alphanumeric.\n    \n    This is equivalent to running the Python string method\n    :meth:`str.isalnum` for each element of the Series/Index. If a string\n    has zero characters, ``False`` is returned for that check.\n    \n    Returns\n    -------\n    Series or Index of bool\n        Series or Index of boolean values with the same length as the original\n        Series/Index.\n    \n    See Also\n    --------\n    Series.str.isalpha : Check whether all characters are alphabetic.\n    Series.str.isnumeric : Check whether all characters are numeric.\n    Series.str.isalnum : Check whether all characters are alphanumeric.\n    Series.str.isdigit : Check whether all characters are digits.\n    Series.str.isdecimal : Check whether all characters are decimal.\n    Series.str.isspace : Check whether all characters are whitespace.\n    Series.str.islower : Check whether all characters are lowercase.\n    Series.str.isupper : Check whether all characters are uppercase.\n    Series.str.istitle : Check whether all characters are titlecase.\n    \n    Examples\n    --------\n    **Checks for Alphabetic and Numeric Characters**\n    \n    >>> s1 = pd.Series(['one', 'one1', '1', ''])\n    \n    >>> s1.str.isalpha()\n    0     True\n    1    False\n    2    False\n    3    False\n    dtype: bool\n    \n    >>> s1.str.isnumeric()\n    0    False\n    1    False\n    2     True\n    3    False\n    dtype: bool\n    \n    >>> s1.str.isalnum()\n    0     True\n    1     True\n    2     True\n    3    False\n    dtype: bool\n    \n    Note that checks against characters mixed with any additional punctuation\n    or whitespace will evaluate to false for an alphanumeric check.\n    \n    >>> s2 = pd.Series(['A B', '1.5', '3,000'])\n    >>> s2.str.isalnum()\n    0    False\n    1    False\n    2    False\n    dtype: bool\n    \n    **More Detailed Checks for Numeric Characters**\n    \n    There are several different but overlapping sets of numeric characters that\n    can be checked for.\n    \n    >>> s3 = pd.Series(['23', '³', '⅕', ''])\n    \n    The ``s3.str.isdecimal`` method checks for characters used to form numbers\n    in base 10.\n    \n    >>> s3.str.isdecimal()\n    0     True\n    1    False\n    2    False\n    3    False\n    dtype: bool\n    \n    The ``s.str.isdigit`` method is the same as ``s3.str.isdecimal`` but also\n    includes special digits, like superscripted and subscripted digits in\n    unicode.\n    \n    >>> s3.str.isdigit()\n    0     True\n    1     True\n    2    False\n    3    False\n    dtype: bool\n    \n    The ``s.str.isnumeric`` method is the same as ``s3.str.isdigit`` but also\n    includes other characters that can represent quantities such as unicode\n    fractions.\n    \n    >>> s3.str.isnumeric()\n    0     True\n    1     True\n    2     True\n    3    False\n    dtype: bool\n    \n    **Checks for Whitespace**\n    \n    >>> s4 = pd.Series([' ', '\\t\\r\\n ', ''])\n    >>> s4.str.isspace()\n    0     True\n    1     True\n    2    False\n    dtype: bool\n    \n    **Checks for Character Case**\n    \n    >>> s5 = pd.Series(['leopard', 'Golden Eagle', 'SNAKE', ''])\n    \n    >>> s5.str.islower()\n    0     True\n    1    False\n    2    False\n    3    False\n    dtype: bool\n    \n    >>> s5.str.isupper()\n    0    False\n    1    False\n    2     True\n    3    False\n    dtype: bool\n    \n    The ``s5.str.istitle`` method checks for whether all words are in title\n    case (whether only the first letter of each word is capitalized). Words are\n    assumed to be as any sequence of non-numeric characters separated by\n    whitespace characters.\n    \n    >>> s5.str.istitle()\n    0    False\n    1     True\n    2    False\n    3    False\n    dtype: bool\n\n"
     ]
    }
   ],
   "source": [
    "help(artwork.Artist.str.isalnum)"
   ]
  },
  {
   "cell_type": "code",
   "execution_count": 13,
   "metadata": {},
   "outputs": [
    {
     "output_type": "stream",
     "name": "stdout",
     "text": [
      "Help on method isalpha in module pandas.core.strings.accessor:\n\nisalpha() method of pandas.core.strings.accessor.StringMethods instance\n    Check whether all characters in each string are alphabetic.\n    \n    This is equivalent to running the Python string method\n    :meth:`str.isalpha` for each element of the Series/Index. If a string\n    has zero characters, ``False`` is returned for that check.\n    \n    Returns\n    -------\n    Series or Index of bool\n        Series or Index of boolean values with the same length as the original\n        Series/Index.\n    \n    See Also\n    --------\n    Series.str.isalpha : Check whether all characters are alphabetic.\n    Series.str.isnumeric : Check whether all characters are numeric.\n    Series.str.isalnum : Check whether all characters are alphanumeric.\n    Series.str.isdigit : Check whether all characters are digits.\n    Series.str.isdecimal : Check whether all characters are decimal.\n    Series.str.isspace : Check whether all characters are whitespace.\n    Series.str.islower : Check whether all characters are lowercase.\n    Series.str.isupper : Check whether all characters are uppercase.\n    Series.str.istitle : Check whether all characters are titlecase.\n    \n    Examples\n    --------\n    **Checks for Alphabetic and Numeric Characters**\n    \n    >>> s1 = pd.Series(['one', 'one1', '1', ''])\n    \n    >>> s1.str.isalpha()\n    0     True\n    1    False\n    2    False\n    3    False\n    dtype: bool\n    \n    >>> s1.str.isnumeric()\n    0    False\n    1    False\n    2     True\n    3    False\n    dtype: bool\n    \n    >>> s1.str.isalnum()\n    0     True\n    1     True\n    2     True\n    3    False\n    dtype: bool\n    \n    Note that checks against characters mixed with any additional punctuation\n    or whitespace will evaluate to false for an alphanumeric check.\n    \n    >>> s2 = pd.Series(['A B', '1.5', '3,000'])\n    >>> s2.str.isalnum()\n    0    False\n    1    False\n    2    False\n    dtype: bool\n    \n    **More Detailed Checks for Numeric Characters**\n    \n    There are several different but overlapping sets of numeric characters that\n    can be checked for.\n    \n    >>> s3 = pd.Series(['23', '³', '⅕', ''])\n    \n    The ``s3.str.isdecimal`` method checks for characters used to form numbers\n    in base 10.\n    \n    >>> s3.str.isdecimal()\n    0     True\n    1    False\n    2    False\n    3    False\n    dtype: bool\n    \n    The ``s.str.isdigit`` method is the same as ``s3.str.isdecimal`` but also\n    includes special digits, like superscripted and subscripted digits in\n    unicode.\n    \n    >>> s3.str.isdigit()\n    0     True\n    1     True\n    2    False\n    3    False\n    dtype: bool\n    \n    The ``s.str.isnumeric`` method is the same as ``s3.str.isdigit`` but also\n    includes other characters that can represent quantities such as unicode\n    fractions.\n    \n    >>> s3.str.isnumeric()\n    0     True\n    1     True\n    2     True\n    3    False\n    dtype: bool\n    \n    **Checks for Whitespace**\n    \n    >>> s4 = pd.Series([' ', '\\t\\r\\n ', ''])\n    >>> s4.str.isspace()\n    0     True\n    1     True\n    2    False\n    dtype: bool\n    \n    **Checks for Character Case**\n    \n    >>> s5 = pd.Series(['leopard', 'Golden Eagle', 'SNAKE', ''])\n    \n    >>> s5.str.islower()\n    0     True\n    1    False\n    2    False\n    3    False\n    dtype: bool\n    \n    >>> s5.str.isupper()\n    0    False\n    1    False\n    2     True\n    3    False\n    dtype: bool\n    \n    The ``s5.str.istitle`` method checks for whether all words are in title\n    case (whether only the first letter of each word is capitalized). Words are\n    assumed to be as any sequence of non-numeric characters separated by\n    whitespace characters.\n    \n    >>> s5.str.istitle()\n    0    False\n    1     True\n    2    False\n    3    False\n    dtype: bool\n\n"
     ]
    }
   ],
   "source": [
    "help(artwork.Artist.str.isalpha)"
   ]
  },
  {
   "cell_type": "code",
   "execution_count": 14,
   "metadata": {},
   "outputs": [
    {
     "output_type": "stream",
     "name": "stdout",
     "text": [
      "Help on method isdecimal in module pandas.core.strings.accessor:\n\nisdecimal() method of pandas.core.strings.accessor.StringMethods instance\n    Check whether all characters in each string are decimal.\n    \n    This is equivalent to running the Python string method\n    :meth:`str.isdecimal` for each element of the Series/Index. If a string\n    has zero characters, ``False`` is returned for that check.\n    \n    Returns\n    -------\n    Series or Index of bool\n        Series or Index of boolean values with the same length as the original\n        Series/Index.\n    \n    See Also\n    --------\n    Series.str.isalpha : Check whether all characters are alphabetic.\n    Series.str.isnumeric : Check whether all characters are numeric.\n    Series.str.isalnum : Check whether all characters are alphanumeric.\n    Series.str.isdigit : Check whether all characters are digits.\n    Series.str.isdecimal : Check whether all characters are decimal.\n    Series.str.isspace : Check whether all characters are whitespace.\n    Series.str.islower : Check whether all characters are lowercase.\n    Series.str.isupper : Check whether all characters are uppercase.\n    Series.str.istitle : Check whether all characters are titlecase.\n    \n    Examples\n    --------\n    **Checks for Alphabetic and Numeric Characters**\n    \n    >>> s1 = pd.Series(['one', 'one1', '1', ''])\n    \n    >>> s1.str.isalpha()\n    0     True\n    1    False\n    2    False\n    3    False\n    dtype: bool\n    \n    >>> s1.str.isnumeric()\n    0    False\n    1    False\n    2     True\n    3    False\n    dtype: bool\n    \n    >>> s1.str.isalnum()\n    0     True\n    1     True\n    2     True\n    3    False\n    dtype: bool\n    \n    Note that checks against characters mixed with any additional punctuation\n    or whitespace will evaluate to false for an alphanumeric check.\n    \n    >>> s2 = pd.Series(['A B', '1.5', '3,000'])\n    >>> s2.str.isalnum()\n    0    False\n    1    False\n    2    False\n    dtype: bool\n    \n    **More Detailed Checks for Numeric Characters**\n    \n    There are several different but overlapping sets of numeric characters that\n    can be checked for.\n    \n    >>> s3 = pd.Series(['23', '³', '⅕', ''])\n    \n    The ``s3.str.isdecimal`` method checks for characters used to form numbers\n    in base 10.\n    \n    >>> s3.str.isdecimal()\n    0     True\n    1    False\n    2    False\n    3    False\n    dtype: bool\n    \n    The ``s.str.isdigit`` method is the same as ``s3.str.isdecimal`` but also\n    includes special digits, like superscripted and subscripted digits in\n    unicode.\n    \n    >>> s3.str.isdigit()\n    0     True\n    1     True\n    2    False\n    3    False\n    dtype: bool\n    \n    The ``s.str.isnumeric`` method is the same as ``s3.str.isdigit`` but also\n    includes other characters that can represent quantities such as unicode\n    fractions.\n    \n    >>> s3.str.isnumeric()\n    0     True\n    1     True\n    2     True\n    3    False\n    dtype: bool\n    \n    **Checks for Whitespace**\n    \n    >>> s4 = pd.Series([' ', '\\t\\r\\n ', ''])\n    >>> s4.str.isspace()\n    0     True\n    1     True\n    2    False\n    dtype: bool\n    \n    **Checks for Character Case**\n    \n    >>> s5 = pd.Series(['leopard', 'Golden Eagle', 'SNAKE', ''])\n    \n    >>> s5.str.islower()\n    0     True\n    1    False\n    2    False\n    3    False\n    dtype: bool\n    \n    >>> s5.str.isupper()\n    0    False\n    1    False\n    2     True\n    3    False\n    dtype: bool\n    \n    The ``s5.str.istitle`` method checks for whether all words are in title\n    case (whether only the first letter of each word is capitalized). Words are\n    assumed to be as any sequence of non-numeric characters separated by\n    whitespace characters.\n    \n    >>> s5.str.istitle()\n    0    False\n    1     True\n    2    False\n    3    False\n    dtype: bool\n\n"
     ]
    }
   ],
   "source": [
    "help(artwork.Artist.str.isdecimal)"
   ]
  },
  {
   "cell_type": "code",
   "execution_count": 15,
   "metadata": {},
   "outputs": [
    {
     "output_type": "stream",
     "name": "stdout",
     "text": [
      "Help on method isdigit in module pandas.core.strings.accessor:\n\nisdigit() method of pandas.core.strings.accessor.StringMethods instance\n    Check whether all characters in each string are digits.\n    \n    This is equivalent to running the Python string method\n    :meth:`str.isdigit` for each element of the Series/Index. If a string\n    has zero characters, ``False`` is returned for that check.\n    \n    Returns\n    -------\n    Series or Index of bool\n        Series or Index of boolean values with the same length as the original\n        Series/Index.\n    \n    See Also\n    --------\n    Series.str.isalpha : Check whether all characters are alphabetic.\n    Series.str.isnumeric : Check whether all characters are numeric.\n    Series.str.isalnum : Check whether all characters are alphanumeric.\n    Series.str.isdigit : Check whether all characters are digits.\n    Series.str.isdecimal : Check whether all characters are decimal.\n    Series.str.isspace : Check whether all characters are whitespace.\n    Series.str.islower : Check whether all characters are lowercase.\n    Series.str.isupper : Check whether all characters are uppercase.\n    Series.str.istitle : Check whether all characters are titlecase.\n    \n    Examples\n    --------\n    **Checks for Alphabetic and Numeric Characters**\n    \n    >>> s1 = pd.Series(['one', 'one1', '1', ''])\n    \n    >>> s1.str.isalpha()\n    0     True\n    1    False\n    2    False\n    3    False\n    dtype: bool\n    \n    >>> s1.str.isnumeric()\n    0    False\n    1    False\n    2     True\n    3    False\n    dtype: bool\n    \n    >>> s1.str.isalnum()\n    0     True\n    1     True\n    2     True\n    3    False\n    dtype: bool\n    \n    Note that checks against characters mixed with any additional punctuation\n    or whitespace will evaluate to false for an alphanumeric check.\n    \n    >>> s2 = pd.Series(['A B', '1.5', '3,000'])\n    >>> s2.str.isalnum()\n    0    False\n    1    False\n    2    False\n    dtype: bool\n    \n    **More Detailed Checks for Numeric Characters**\n    \n    There are several different but overlapping sets of numeric characters that\n    can be checked for.\n    \n    >>> s3 = pd.Series(['23', '³', '⅕', ''])\n    \n    The ``s3.str.isdecimal`` method checks for characters used to form numbers\n    in base 10.\n    \n    >>> s3.str.isdecimal()\n    0     True\n    1    False\n    2    False\n    3    False\n    dtype: bool\n    \n    The ``s.str.isdigit`` method is the same as ``s3.str.isdecimal`` but also\n    includes special digits, like superscripted and subscripted digits in\n    unicode.\n    \n    >>> s3.str.isdigit()\n    0     True\n    1     True\n    2    False\n    3    False\n    dtype: bool\n    \n    The ``s.str.isnumeric`` method is the same as ``s3.str.isdigit`` but also\n    includes other characters that can represent quantities such as unicode\n    fractions.\n    \n    >>> s3.str.isnumeric()\n    0     True\n    1     True\n    2     True\n    3    False\n    dtype: bool\n    \n    **Checks for Whitespace**\n    \n    >>> s4 = pd.Series([' ', '\\t\\r\\n ', ''])\n    >>> s4.str.isspace()\n    0     True\n    1     True\n    2    False\n    dtype: bool\n    \n    **Checks for Character Case**\n    \n    >>> s5 = pd.Series(['leopard', 'Golden Eagle', 'SNAKE', ''])\n    \n    >>> s5.str.islower()\n    0     True\n    1    False\n    2    False\n    3    False\n    dtype: bool\n    \n    >>> s5.str.isupper()\n    0    False\n    1    False\n    2     True\n    3    False\n    dtype: bool\n    \n    The ``s5.str.istitle`` method checks for whether all words are in title\n    case (whether only the first letter of each word is capitalized). Words are\n    assumed to be as any sequence of non-numeric characters separated by\n    whitespace characters.\n    \n    >>> s5.str.istitle()\n    0    False\n    1     True\n    2    False\n    3    False\n    dtype: bool\n\n"
     ]
    }
   ],
   "source": [
    "help(artwork.Artist.str.isdigit)"
   ]
  },
  {
   "cell_type": "code",
   "execution_count": 16,
   "metadata": {},
   "outputs": [
    {
     "output_type": "stream",
     "name": "stdout",
     "text": [
      "Help on method isnumeric in module pandas.core.strings.accessor:\n\nisnumeric() method of pandas.core.strings.accessor.StringMethods instance\n    Check whether all characters in each string are numeric.\n    \n    This is equivalent to running the Python string method\n    :meth:`str.isnumeric` for each element of the Series/Index. If a string\n    has zero characters, ``False`` is returned for that check.\n    \n    Returns\n    -------\n    Series or Index of bool\n        Series or Index of boolean values with the same length as the original\n        Series/Index.\n    \n    See Also\n    --------\n    Series.str.isalpha : Check whether all characters are alphabetic.\n    Series.str.isnumeric : Check whether all characters are numeric.\n    Series.str.isalnum : Check whether all characters are alphanumeric.\n    Series.str.isdigit : Check whether all characters are digits.\n    Series.str.isdecimal : Check whether all characters are decimal.\n    Series.str.isspace : Check whether all characters are whitespace.\n    Series.str.islower : Check whether all characters are lowercase.\n    Series.str.isupper : Check whether all characters are uppercase.\n    Series.str.istitle : Check whether all characters are titlecase.\n    \n    Examples\n    --------\n    **Checks for Alphabetic and Numeric Characters**\n    \n    >>> s1 = pd.Series(['one', 'one1', '1', ''])\n    \n    >>> s1.str.isalpha()\n    0     True\n    1    False\n    2    False\n    3    False\n    dtype: bool\n    \n    >>> s1.str.isnumeric()\n    0    False\n    1    False\n    2     True\n    3    False\n    dtype: bool\n    \n    >>> s1.str.isalnum()\n    0     True\n    1     True\n    2     True\n    3    False\n    dtype: bool\n    \n    Note that checks against characters mixed with any additional punctuation\n    or whitespace will evaluate to false for an alphanumeric check.\n    \n    >>> s2 = pd.Series(['A B', '1.5', '3,000'])\n    >>> s2.str.isalnum()\n    0    False\n    1    False\n    2    False\n    dtype: bool\n    \n    **More Detailed Checks for Numeric Characters**\n    \n    There are several different but overlapping sets of numeric characters that\n    can be checked for.\n    \n    >>> s3 = pd.Series(['23', '³', '⅕', ''])\n    \n    The ``s3.str.isdecimal`` method checks for characters used to form numbers\n    in base 10.\n    \n    >>> s3.str.isdecimal()\n    0     True\n    1    False\n    2    False\n    3    False\n    dtype: bool\n    \n    The ``s.str.isdigit`` method is the same as ``s3.str.isdecimal`` but also\n    includes special digits, like superscripted and subscripted digits in\n    unicode.\n    \n    >>> s3.str.isdigit()\n    0     True\n    1     True\n    2    False\n    3    False\n    dtype: bool\n    \n    The ``s.str.isnumeric`` method is the same as ``s3.str.isdigit`` but also\n    includes other characters that can represent quantities such as unicode\n    fractions.\n    \n    >>> s3.str.isnumeric()\n    0     True\n    1     True\n    2     True\n    3    False\n    dtype: bool\n    \n    **Checks for Whitespace**\n    \n    >>> s4 = pd.Series([' ', '\\t\\r\\n ', ''])\n    >>> s4.str.isspace()\n    0     True\n    1     True\n    2    False\n    dtype: bool\n    \n    **Checks for Character Case**\n    \n    >>> s5 = pd.Series(['leopard', 'Golden Eagle', 'SNAKE', ''])\n    \n    >>> s5.str.islower()\n    0     True\n    1    False\n    2    False\n    3    False\n    dtype: bool\n    \n    >>> s5.str.isupper()\n    0    False\n    1    False\n    2     True\n    3    False\n    dtype: bool\n    \n    The ``s5.str.istitle`` method checks for whether all words are in title\n    case (whether only the first letter of each word is capitalized). Words are\n    assumed to be as any sequence of non-numeric characters separated by\n    whitespace characters.\n    \n    >>> s5.str.istitle()\n    0    False\n    1     True\n    2    False\n    3    False\n    dtype: bool\n\n"
     ]
    }
   ],
   "source": [
    "help(artwork.Artist.str.isnumeric)"
   ]
  },
  {
   "cell_type": "markdown",
   "metadata": {},
   "source": [
    "## Example - Lower-case Artists"
   ]
  },
  {
   "cell_type": "code",
   "execution_count": 17,
   "metadata": {},
   "outputs": [
    {
     "output_type": "execute_result",
     "data": {
      "text/plain": [
       "0                                               otto wagner\n",
       "1                                  christian de portzamparc\n",
       "2                                                emil hoppe\n",
       "3                                           bernard tschumi\n",
       "4                                                emil hoppe\n",
       "                                ...                        \n",
       "138146    chesnutt brothers studio, andrew chesnutt, lew...\n",
       "138147                                   sophie taeuber-arp\n",
       "138148                                   sophie taeuber-arp\n",
       "138149                                   sophie taeuber-arp\n",
       "138150                                   sophie taeuber-arp\n",
       "Name: Artist, Length: 138151, dtype: object"
      ]
     },
     "metadata": {},
     "execution_count": 17
    }
   ],
   "source": [
    "artwork.Artist.str.lower()"
   ]
  },
  {
   "cell_type": "markdown",
   "metadata": {},
   "source": [
    "#### Applying `str.lower` in `pandas`"
   ]
  },
  {
   "cell_type": "code",
   "execution_count": 18,
   "metadata": {},
   "outputs": [
    {
     "output_type": "execute_result",
     "data": {
      "text/plain": [
       "                     Artist              lower_artist\n",
       "0               Otto Wagner               otto wagner\n",
       "1  Christian de Portzamparc  christian de portzamparc"
      ],
      "text/html": "<div>\n<style scoped>\n    .dataframe tbody tr th:only-of-type {\n        vertical-align: middle;\n    }\n\n    .dataframe tbody tr th {\n        vertical-align: top;\n    }\n\n    .dataframe thead th {\n        text-align: right;\n    }\n</style>\n<table border=\"1\" class=\"dataframe\">\n  <thead>\n    <tr style=\"text-align: right;\">\n      <th></th>\n      <th>Artist</th>\n      <th>lower_artist</th>\n    </tr>\n  </thead>\n  <tbody>\n    <tr>\n      <th>0</th>\n      <td>Otto Wagner</td>\n      <td>otto wagner</td>\n    </tr>\n    <tr>\n      <th>1</th>\n      <td>Christian de Portzamparc</td>\n      <td>christian de portzamparc</td>\n    </tr>\n  </tbody>\n</table>\n</div>"
     },
     "metadata": {},
     "execution_count": 18
    }
   ],
   "source": [
    "(artwork\n",
    " >> select(X.Artist)\n",
    " >> mutate(lower_artist = X.Artist.str.lower())\n",
    " >> head(2)\n",
    ")"
   ]
  },
  {
   "cell_type": "markdown",
   "metadata": {},
   "source": [
    "## Replacing a substring\n",
    "\n",
    "Another important string operation involves replacing one substring with another.  In this section, we will illustrate using a regular expression to accomplish this task."
   ]
  },
  {
   "cell_type": "markdown",
   "metadata": {},
   "source": [
    "## Example - The BeginDate mess"
   ]
  },
  {
   "cell_type": "code",
   "execution_count": 19,
   "metadata": {},
   "outputs": [
    {
     "output_type": "execute_result",
     "data": {
      "text/plain": [
       "0    (1841)\n",
       "1    (1944)\n",
       "2    (1876)\n",
       "3    (1944)\n",
       "4    (1876)\n",
       "Name: BeginDate, dtype: object"
      ]
     },
     "metadata": {},
     "execution_count": 19
    }
   ],
   "source": [
    "artwork.BeginDate.head()"
   ]
  },
  {
   "cell_type": "markdown",
   "metadata": {},
   "source": [
    "## Using replace to remove the left parenthesis"
   ]
  },
  {
   "cell_type": "code",
   "execution_count": 20,
   "metadata": {},
   "outputs": [
    {
     "output_type": "execute_result",
     "data": {
      "text/plain": [
       "0    1841)\n",
       "1    1944)\n",
       "2    1876)\n",
       "3    1944)\n",
       "4    1876)\n",
       "Name: BeginDate, dtype: object"
      ]
     },
     "metadata": {},
     "execution_count": 20
    }
   ],
   "source": [
    "artwork.BeginDate.str.replace('(', '').head()"
   ]
  },
  {
   "cell_type": "markdown",
   "metadata": {},
   "source": [
    "## Dot chaining two replace calls\n",
    "\n",
    "**Note:** Recall you need a `.str.` before each string method"
   ]
  },
  {
   "cell_type": "code",
   "execution_count": 21,
   "metadata": {},
   "outputs": [
    {
     "output_type": "execute_result",
     "data": {
      "text/plain": [
       "0    1841\n",
       "1    1944\n",
       "2    1876\n",
       "3    1944\n",
       "4    1876\n",
       "Name: BeginDate, dtype: object"
      ]
     },
     "metadata": {},
     "execution_count": 21
    }
   ],
   "source": [
    "artwork.BeginDate.str.replace('(', '').str.replace(')', '').head()"
   ]
  },
  {
   "cell_type": "markdown",
   "metadata": {},
   "source": [
    "## Using a regular expression\n",
    "\n",
    "Recall that `pandas` method accepts [regular expressions](https://en.wikipedia.org/wiki/Regular_expression), which can be used to replace one of any number of characters."
   ]
  },
  {
   "cell_type": "code",
   "execution_count": 22,
   "metadata": {},
   "outputs": [
    {
     "output_type": "execute_result",
     "data": {
      "text/plain": [
       "0    1841\n",
       "1    1944\n",
       "2    1876\n",
       "3    1944\n",
       "4    1876\n",
       "Name: BeginDate, dtype: object"
      ]
     },
     "metadata": {},
     "execution_count": 22
    }
   ],
   "source": [
    "artwork.BeginDate.str.replace('[()]', '').head()"
   ]
  },
  {
   "cell_type": "markdown",
   "metadata": {},
   "source": [
    "# Splitting strings\n",
    "\n",
    "* `split` - important string tool\n",
    "* Using `split` on a column returns a column of lists\n",
    "* `pandas`: `df.c.split(pattern)` returns an object class containing a lists\n",
    "* Accepts regular expressions"
   ]
  },
  {
   "cell_type": "markdown",
   "metadata": {},
   "source": [
    "### Example 1 - Splitting the Artists Name"
   ]
  },
  {
   "cell_type": "code",
   "execution_count": 23,
   "metadata": {},
   "outputs": [
    {
     "output_type": "execute_result",
     "data": {
      "text/plain": [
       "0                  [Otto, Wagner]\n",
       "1    [Christian, de, Portzamparc]\n",
       "Name: Artist, dtype: object"
      ]
     },
     "metadata": {},
     "execution_count": 23
    }
   ],
   "source": [
    "artwork.Artist.str.split(' ').head(2)"
   ]
  },
  {
   "cell_type": "markdown",
   "metadata": {},
   "source": [
    "## `dtype: object` - more than just a string\n",
    "\n",
    "<img src=\"./img/split_object.png\" width=400>\n",
    "\n",
    "While `dtype: object` is usually a `str`, this time we get a `list`."
   ]
  },
  {
   "cell_type": "markdown",
   "metadata": {},
   "source": [
    "## Using `get` to get one part\n",
    "\n",
    "Since `split` returns a list, we will need to use `get` to pull out an entry."
   ]
  },
  {
   "cell_type": "code",
   "execution_count": 24,
   "metadata": {},
   "outputs": [
    {
     "output_type": "execute_result",
     "data": {
      "text/plain": [
       "0         Otto\n",
       "1    Christian\n",
       "2         Emil\n",
       "3      Bernard\n",
       "4         Emil\n",
       "Name: Artist, dtype: object"
      ]
     },
     "metadata": {},
     "execution_count": 24
    }
   ],
   "source": [
    "artwork.Artist.str.split(' ').str.get(0).head()"
   ]
  },
  {
   "cell_type": "markdown",
   "metadata": {},
   "source": [
    "## Remember negative indexing!\n",
    "\n",
    "* Negative index == counting from the right"
   ]
  },
  {
   "cell_type": "code",
   "execution_count": 25,
   "metadata": {},
   "outputs": [
    {
     "output_type": "execute_result",
     "data": {
      "text/plain": [
       "0         Wagner\n",
       "1    Portzamparc\n",
       "2          Hoppe\n",
       "3        Tschumi\n",
       "4          Hoppe\n",
       "Name: Artist, dtype: object"
      ]
     },
     "metadata": {},
     "execution_count": 25
    }
   ],
   "source": [
    "artwork.Artist.str.split(' ').str.get(-1).head()"
   ]
  },
  {
   "cell_type": "markdown",
   "metadata": {},
   "source": [
    "### Example 2 - Splitting the Artists Bio"
   ]
  },
  {
   "cell_type": "code",
   "execution_count": 26,
   "metadata": {},
   "outputs": [
    {
     "output_type": "execute_result",
     "data": {
      "text/plain": [
       "                                 ArtistBio  \\\n",
       "0                      Austrian, 1841–1918   \n",
       "1                        French, born 1944   \n",
       "2                      Austrian, 1876–1957   \n",
       "3  French and Swiss, born Switzerland 1944   \n",
       "4                      Austrian, 1876–1957   \n",
       "\n",
       "                           ArtistiBioNew  \n",
       "0                  [Austrian, 1841–1918]  \n",
       "1                        [French,  1944]  \n",
       "2                  [Austrian, 1876–1957]  \n",
       "3  [French and Swiss,  Switzerland 1944]  \n",
       "4                  [Austrian, 1876–1957]  "
      ],
      "text/html": "<div>\n<style scoped>\n    .dataframe tbody tr th:only-of-type {\n        vertical-align: middle;\n    }\n\n    .dataframe tbody tr th {\n        vertical-align: top;\n    }\n\n    .dataframe thead th {\n        text-align: right;\n    }\n</style>\n<table border=\"1\" class=\"dataframe\">\n  <thead>\n    <tr style=\"text-align: right;\">\n      <th></th>\n      <th>ArtistBio</th>\n      <th>ArtistiBioNew</th>\n    </tr>\n  </thead>\n  <tbody>\n    <tr>\n      <th>0</th>\n      <td>Austrian, 1841–1918</td>\n      <td>[Austrian, 1841–1918]</td>\n    </tr>\n    <tr>\n      <th>1</th>\n      <td>French, born 1944</td>\n      <td>[French,  1944]</td>\n    </tr>\n    <tr>\n      <th>2</th>\n      <td>Austrian, 1876–1957</td>\n      <td>[Austrian, 1876–1957]</td>\n    </tr>\n    <tr>\n      <th>3</th>\n      <td>French and Swiss, born Switzerland 1944</td>\n      <td>[French and Swiss,  Switzerland 1944]</td>\n    </tr>\n    <tr>\n      <th>4</th>\n      <td>Austrian, 1876–1957</td>\n      <td>[Austrian, 1876–1957]</td>\n    </tr>\n  </tbody>\n</table>\n</div>"
     },
     "metadata": {},
     "execution_count": 26
    }
   ],
   "source": [
    "(artwork\n",
    " >> select(X.ArtistBio)\n",
    " >> mutate(ArtistBio = X.ArtistBio.str.replace('[()]', ''))\n",
    " >> mutate(ArtistiBioNew = X.ArtistBio.str.split(r' ,|, born|-'))).head()"
   ]
  },
  {
   "cell_type": "markdown",
   "metadata": {},
   "source": [
    "## <font color=\"red\"> Exercise 1</font>\n",
    "\n",
    "1. Why didn't splitting on `-` work in the last example?\n",
    "2. See if you can fix this issue"
   ]
  },
  {
   "cell_type": "markdown",
   "metadata": {},
   "source": [
    "The problems lies in the fact that it uses a nonstandard hyphen \"–\", which is not the same as the normal \"-\". Notice that it is slightly longer. "
   ]
  },
  {
   "cell_type": "code",
   "execution_count": 27,
   "metadata": {},
   "outputs": [
    {
     "output_type": "execute_result",
     "data": {
      "text/plain": [
       "                                 ArtistBio  \\\n",
       "0                      Austrian, 1841–1918   \n",
       "1                        French, born 1944   \n",
       "2                      Austrian, 1876–1957   \n",
       "3  French and Swiss, born Switzerland 1944   \n",
       "4                      Austrian, 1876–1957   \n",
       "\n",
       "                           ArtistiBioNew  \n",
       "0                 [Austrian, 1841, 1918]  \n",
       "1                        [French,  1944]  \n",
       "2                 [Austrian, 1876, 1957]  \n",
       "3  [French and Swiss,  Switzerland 1944]  \n",
       "4                 [Austrian, 1876, 1957]  "
      ],
      "text/html": "<div>\n<style scoped>\n    .dataframe tbody tr th:only-of-type {\n        vertical-align: middle;\n    }\n\n    .dataframe tbody tr th {\n        vertical-align: top;\n    }\n\n    .dataframe thead th {\n        text-align: right;\n    }\n</style>\n<table border=\"1\" class=\"dataframe\">\n  <thead>\n    <tr style=\"text-align: right;\">\n      <th></th>\n      <th>ArtistBio</th>\n      <th>ArtistiBioNew</th>\n    </tr>\n  </thead>\n  <tbody>\n    <tr>\n      <th>0</th>\n      <td>Austrian, 1841–1918</td>\n      <td>[Austrian, 1841, 1918]</td>\n    </tr>\n    <tr>\n      <th>1</th>\n      <td>French, born 1944</td>\n      <td>[French,  1944]</td>\n    </tr>\n    <tr>\n      <th>2</th>\n      <td>Austrian, 1876–1957</td>\n      <td>[Austrian, 1876, 1957]</td>\n    </tr>\n    <tr>\n      <th>3</th>\n      <td>French and Swiss, born Switzerland 1944</td>\n      <td>[French and Swiss,  Switzerland 1944]</td>\n    </tr>\n    <tr>\n      <th>4</th>\n      <td>Austrian, 1876–1957</td>\n      <td>[Austrian, 1876, 1957]</td>\n    </tr>\n  </tbody>\n</table>\n</div>"
     },
     "metadata": {},
     "execution_count": 27
    }
   ],
   "source": [
    "(artwork\n",
    " >> select(X.ArtistBio)\n",
    " >> mutate(ArtistBio = X.ArtistBio.str.replace('[()]', ''))\n",
    " >> mutate(ArtistiBioNew = X.ArtistBio.str.split(r' ,|, born|–'))).head() #now uses \"–\""
   ]
  },
  {
   "cell_type": "markdown",
   "metadata": {},
   "source": [
    "## Extracting a substring of a fixed size/position\n",
    "\n",
    "In `pandas`, use the `str.slice` method\n",
    "* Use `start=` to specify the optional starting place\n",
    "* Use `stop=` to specify the optional stopping location\n"
   ]
  },
  {
   "cell_type": "code",
   "execution_count": 28,
   "metadata": {},
   "outputs": [
    {
     "output_type": "execute_result",
     "data": {
      "text/plain": [
       "  BeginDate century year_in_century\n",
       "0      1841      18              41\n",
       "1      1944      19              44\n",
       "2      1876      18              76\n",
       "3      1944      19              44\n",
       "4      1876      18              76"
      ],
      "text/html": "<div>\n<style scoped>\n    .dataframe tbody tr th:only-of-type {\n        vertical-align: middle;\n    }\n\n    .dataframe tbody tr th {\n        vertical-align: top;\n    }\n\n    .dataframe thead th {\n        text-align: right;\n    }\n</style>\n<table border=\"1\" class=\"dataframe\">\n  <thead>\n    <tr style=\"text-align: right;\">\n      <th></th>\n      <th>BeginDate</th>\n      <th>century</th>\n      <th>year_in_century</th>\n    </tr>\n  </thead>\n  <tbody>\n    <tr>\n      <th>0</th>\n      <td>1841</td>\n      <td>18</td>\n      <td>41</td>\n    </tr>\n    <tr>\n      <th>1</th>\n      <td>1944</td>\n      <td>19</td>\n      <td>44</td>\n    </tr>\n    <tr>\n      <th>2</th>\n      <td>1876</td>\n      <td>18</td>\n      <td>76</td>\n    </tr>\n    <tr>\n      <th>3</th>\n      <td>1944</td>\n      <td>19</td>\n      <td>44</td>\n    </tr>\n    <tr>\n      <th>4</th>\n      <td>1876</td>\n      <td>18</td>\n      <td>76</td>\n    </tr>\n  </tbody>\n</table>\n</div>"
     },
     "metadata": {},
     "execution_count": 28
    }
   ],
   "source": [
    "(artwork\n",
    " >> select(X.BeginDate) >> mutate(BeginDate = X.BeginDate.str.replace('[()]', ''))\n",
    " >> mutate(century = X.BeginDate.str.slice(stop = 2),\n",
    "           year_in_century = X.BeginDate.str.slice(start = 2))\n",
    " >> head(5))"
   ]
  },
  {
   "cell_type": "markdown",
   "metadata": {},
   "source": [
    "## Extracting a substring with RegEx\n",
    "\n",
    "To extract a column in `pandas` with RegEx\n",
    "\n",
    "* Use `more_dfply.extract(col, pat)` with exactly one group\n",
    "* `pat` should be a regular expression with exactly one group"
   ]
  },
  {
   "cell_type": "code",
   "execution_count": 29,
   "metadata": {},
   "outputs": [
    {
     "output_type": "execute_result",
     "data": {
      "text/plain": [
       "                                   ArtistBio country_of_birth year_of_death\n",
       "0                      (Austrian, 1841–1918)              NaN          1918\n",
       "1                        (French, born 1944)              NaN           NaN\n",
       "2                      (Austrian, 1876–1957)              NaN          1957\n",
       "3  (French and Swiss, born Switzerland 1944)      Switzerland           NaN\n",
       "4                      (Austrian, 1876–1957)              NaN          1957"
      ],
      "text/html": "<div>\n<style scoped>\n    .dataframe tbody tr th:only-of-type {\n        vertical-align: middle;\n    }\n\n    .dataframe tbody tr th {\n        vertical-align: top;\n    }\n\n    .dataframe thead th {\n        text-align: right;\n    }\n</style>\n<table border=\"1\" class=\"dataframe\">\n  <thead>\n    <tr style=\"text-align: right;\">\n      <th></th>\n      <th>ArtistBio</th>\n      <th>country_of_birth</th>\n      <th>year_of_death</th>\n    </tr>\n  </thead>\n  <tbody>\n    <tr>\n      <th>0</th>\n      <td>(Austrian, 1841–1918)</td>\n      <td>NaN</td>\n      <td>1918</td>\n    </tr>\n    <tr>\n      <th>1</th>\n      <td>(French, born 1944)</td>\n      <td>NaN</td>\n      <td>NaN</td>\n    </tr>\n    <tr>\n      <th>2</th>\n      <td>(Austrian, 1876–1957)</td>\n      <td>NaN</td>\n      <td>1957</td>\n    </tr>\n    <tr>\n      <th>3</th>\n      <td>(French and Swiss, born Switzerland 1944)</td>\n      <td>Switzerland</td>\n      <td>NaN</td>\n    </tr>\n    <tr>\n      <th>4</th>\n      <td>(Austrian, 1876–1957)</td>\n      <td>NaN</td>\n      <td>1957</td>\n    </tr>\n  </tbody>\n</table>\n</div>"
     },
     "metadata": {},
     "execution_count": 29
    }
   ],
   "source": [
    "from more_dfply import extract\n",
    "\n",
    "\n",
    "(artwork\n",
    " >> select(X.ArtistBio)\n",
    " >> mutate(country_of_birth = extract(X.ArtistBio, r', born ([a-zA-Z]+)'),\n",
    "           year_of_death = extract(X.ArtistBio, r'–(\\d{4,4})'))\n",
    " >> head(5))"
   ]
  },
  {
   "cell_type": "code",
   "execution_count": 30,
   "metadata": {},
   "outputs": [
    {
     "output_type": "stream",
     "name": "stdout",
     "text": [
      "Help on function wrapper in module dfply.base:\n\nwrapper(*args, **kwargs)\n\n"
     ]
    }
   ],
   "source": [
    "import more_dfply\n",
    "\n",
    "help(more_dfply.extract)\n",
    "\n"
   ]
  },
  {
   "cell_type": "markdown",
   "metadata": {},
   "source": [
    "## <font color=\"red\"> Exercise 2 </font>\n",
    "\n",
    "**Tasks:**\n",
    "\n",
    "1. Inspect the `sex_and_age` column\n",
    "2. Use RegEx to extract the following columns\n",
    "    a. Gender\n",
    "    b. age_lower_limit\n",
    "    c. age_upper_limit\n",
    "\n",
    "Example based on an example from [Wickim (2014)](https://vita.had.co.nz/papers/tidy-data.pdf)"
   ]
  },
  {
   "cell_type": "code",
   "execution_count": 31,
   "metadata": {},
   "outputs": [
    {
     "output_type": "execute_result",
     "data": {
      "text/plain": [
       "  country  group   cases\n",
       "0      AD  f0-14     0.0\n",
       "1      AE  f0-14     4.0\n",
       "2      AF  f0-14  3500.0\n",
       "3      AG  f0-14     0.0\n",
       "4      AI  f0-14     0.0"
      ],
      "text/html": "<div>\n<style scoped>\n    .dataframe tbody tr th:only-of-type {\n        vertical-align: middle;\n    }\n\n    .dataframe tbody tr th {\n        vertical-align: top;\n    }\n\n    .dataframe thead th {\n        text-align: right;\n    }\n</style>\n<table border=\"1\" class=\"dataframe\">\n  <thead>\n    <tr style=\"text-align: right;\">\n      <th></th>\n      <th>country</th>\n      <th>group</th>\n      <th>cases</th>\n    </tr>\n  </thead>\n  <tbody>\n    <tr>\n      <th>0</th>\n      <td>AD</td>\n      <td>f0-14</td>\n      <td>0.0</td>\n    </tr>\n    <tr>\n      <th>1</th>\n      <td>AE</td>\n      <td>f0-14</td>\n      <td>4.0</td>\n    </tr>\n    <tr>\n      <th>2</th>\n      <td>AF</td>\n      <td>f0-14</td>\n      <td>3500.0</td>\n    </tr>\n    <tr>\n      <th>3</th>\n      <td>AG</td>\n      <td>f0-14</td>\n      <td>0.0</td>\n    </tr>\n    <tr>\n      <th>4</th>\n      <td>AI</td>\n      <td>f0-14</td>\n      <td>0.0</td>\n    </tr>\n  </tbody>\n</table>\n</div>"
     },
     "metadata": {},
     "execution_count": 31
    }
   ],
   "source": [
    "df = pd.read_csv(\"./data/TB_bad_stacked.csv\")\n",
    "df.head()"
   ]
  },
  {
   "cell_type": "code",
   "execution_count": 32,
   "metadata": {},
   "outputs": [
    {
     "output_type": "execute_result",
     "data": {
      "text/plain": [
       "Index(['country', 'group', 'cases'], dtype='object')"
      ]
     },
     "metadata": {},
     "execution_count": 32
    }
   ],
   "source": [
    "\n",
    "\n",
    "df.columns"
   ]
  },
  {
   "cell_type": "code",
   "execution_count": 33,
   "metadata": {},
   "outputs": [
    {
     "output_type": "execute_result",
     "data": {
      "text/plain": [
       "      group gender age_lower_limit age_upper_limit\n",
       "0     f0-14      f               0              14\n",
       "1     f0-14      f               0              14\n",
       "2     f0-14      f               0              14\n",
       "3     f0-14      f               0              14\n",
       "4     f0-14      f               0              14\n",
       "..      ...    ...             ...             ...\n",
       "495  f15-24      f              15              24\n",
       "496  f15-24      f              15              24\n",
       "497  f15-24      f              15              24\n",
       "498  f15-24      f              15              24\n",
       "499  f15-24      f              15              24\n",
       "\n",
       "[500 rows x 4 columns]"
      ],
      "text/html": "<div>\n<style scoped>\n    .dataframe tbody tr th:only-of-type {\n        vertical-align: middle;\n    }\n\n    .dataframe tbody tr th {\n        vertical-align: top;\n    }\n\n    .dataframe thead th {\n        text-align: right;\n    }\n</style>\n<table border=\"1\" class=\"dataframe\">\n  <thead>\n    <tr style=\"text-align: right;\">\n      <th></th>\n      <th>group</th>\n      <th>gender</th>\n      <th>age_lower_limit</th>\n      <th>age_upper_limit</th>\n    </tr>\n  </thead>\n  <tbody>\n    <tr>\n      <th>0</th>\n      <td>f0-14</td>\n      <td>f</td>\n      <td>0</td>\n      <td>14</td>\n    </tr>\n    <tr>\n      <th>1</th>\n      <td>f0-14</td>\n      <td>f</td>\n      <td>0</td>\n      <td>14</td>\n    </tr>\n    <tr>\n      <th>2</th>\n      <td>f0-14</td>\n      <td>f</td>\n      <td>0</td>\n      <td>14</td>\n    </tr>\n    <tr>\n      <th>3</th>\n      <td>f0-14</td>\n      <td>f</td>\n      <td>0</td>\n      <td>14</td>\n    </tr>\n    <tr>\n      <th>4</th>\n      <td>f0-14</td>\n      <td>f</td>\n      <td>0</td>\n      <td>14</td>\n    </tr>\n    <tr>\n      <th>...</th>\n      <td>...</td>\n      <td>...</td>\n      <td>...</td>\n      <td>...</td>\n    </tr>\n    <tr>\n      <th>495</th>\n      <td>f15-24</td>\n      <td>f</td>\n      <td>15</td>\n      <td>24</td>\n    </tr>\n    <tr>\n      <th>496</th>\n      <td>f15-24</td>\n      <td>f</td>\n      <td>15</td>\n      <td>24</td>\n    </tr>\n    <tr>\n      <th>497</th>\n      <td>f15-24</td>\n      <td>f</td>\n      <td>15</td>\n      <td>24</td>\n    </tr>\n    <tr>\n      <th>498</th>\n      <td>f15-24</td>\n      <td>f</td>\n      <td>15</td>\n      <td>24</td>\n    </tr>\n    <tr>\n      <th>499</th>\n      <td>f15-24</td>\n      <td>f</td>\n      <td>15</td>\n      <td>24</td>\n    </tr>\n  </tbody>\n</table>\n<p>500 rows × 4 columns</p>\n</div>"
     },
     "metadata": {},
     "execution_count": 33
    }
   ],
   "source": [
    "(df\n",
    " >> select(X.group)\n",
    " >> mutate(gender = extract(X.group, r'([a-zA-Z])'), age_lower_limit = extract(X.group, r'^.?([0-9][0-9]?)') , age_upper_limit = extract(X.group, r'^.?[0-9][0-9]?-([0-9][0-9]?)'))\n",
    " >> head(500))"
   ]
  },
  {
   "cell_type": "markdown",
   "metadata": {},
   "source": [
    "## Recoding with a `dict` in `pandas`\n",
    "\n",
    "* Use `more_dfply.recode(col, d, default=None)`\n",
    "* `d` is the translation `dict`\n",
    "* Use `default` keyword to add a default value"
   ]
  },
  {
   "cell_type": "code",
   "execution_count": 34,
   "metadata": {},
   "outputs": [
    {
     "output_type": "execute_result",
     "data": {
      "text/plain": [
       "    ConstituentID        DisplayName           ArtistBio Nationality Gender  \\\n",
       "13             16  Cristobal Arteche  Spanish, 1900–1964     Spanish      m   \n",
       "14             18              Artko                 NaN         NaN    NaN   \n",
       "\n",
       "    BeginDate  EndDate Wiki QID  ULAN  \n",
       "13       1900     1964      NaN   NaN  \n",
       "14          0        0      NaN   NaN  "
      ],
      "text/html": "<div>\n<style scoped>\n    .dataframe tbody tr th:only-of-type {\n        vertical-align: middle;\n    }\n\n    .dataframe tbody tr th {\n        vertical-align: top;\n    }\n\n    .dataframe thead th {\n        text-align: right;\n    }\n</style>\n<table border=\"1\" class=\"dataframe\">\n  <thead>\n    <tr style=\"text-align: right;\">\n      <th></th>\n      <th>ConstituentID</th>\n      <th>DisplayName</th>\n      <th>ArtistBio</th>\n      <th>Nationality</th>\n      <th>Gender</th>\n      <th>BeginDate</th>\n      <th>EndDate</th>\n      <th>Wiki QID</th>\n      <th>ULAN</th>\n    </tr>\n  </thead>\n  <tbody>\n    <tr>\n      <th>13</th>\n      <td>16</td>\n      <td>Cristobal Arteche</td>\n      <td>Spanish, 1900–1964</td>\n      <td>Spanish</td>\n      <td>m</td>\n      <td>1900</td>\n      <td>1964</td>\n      <td>NaN</td>\n      <td>NaN</td>\n    </tr>\n    <tr>\n      <th>14</th>\n      <td>18</td>\n      <td>Artko</td>\n      <td>NaN</td>\n      <td>NaN</td>\n      <td>NaN</td>\n      <td>0</td>\n      <td>0</td>\n      <td>NaN</td>\n      <td>NaN</td>\n    </tr>\n  </tbody>\n</table>\n</div>"
     },
     "metadata": {},
     "execution_count": 34
    }
   ],
   "source": [
    "from more_dfply import recode\n",
    "\n",
    "new_gender = {'Male':'m', 'Female':'f'}\n",
    "\n",
    "(artists\n",
    " >> mutate(Gender = recode(X.Gender, new_gender))\n",
    " >> row_slice([13,14]))"
   ]
  },
  {
   "cell_type": "code",
   "execution_count": 35,
   "metadata": {},
   "outputs": [
    {
     "output_type": "execute_result",
     "data": {
      "text/plain": [
       "    ConstituentID        DisplayName           ArtistBio Nationality   Gender  \\\n",
       "13             16  Cristobal Arteche  Spanish, 1900–1964     Spanish        m   \n",
       "14             18              Artko                 NaN         NaN  Unknown   \n",
       "\n",
       "    BeginDate  EndDate Wiki QID  ULAN  \n",
       "13       1900     1964      NaN   NaN  \n",
       "14          0        0      NaN   NaN  "
      ],
      "text/html": "<div>\n<style scoped>\n    .dataframe tbody tr th:only-of-type {\n        vertical-align: middle;\n    }\n\n    .dataframe tbody tr th {\n        vertical-align: top;\n    }\n\n    .dataframe thead th {\n        text-align: right;\n    }\n</style>\n<table border=\"1\" class=\"dataframe\">\n  <thead>\n    <tr style=\"text-align: right;\">\n      <th></th>\n      <th>ConstituentID</th>\n      <th>DisplayName</th>\n      <th>ArtistBio</th>\n      <th>Nationality</th>\n      <th>Gender</th>\n      <th>BeginDate</th>\n      <th>EndDate</th>\n      <th>Wiki QID</th>\n      <th>ULAN</th>\n    </tr>\n  </thead>\n  <tbody>\n    <tr>\n      <th>13</th>\n      <td>16</td>\n      <td>Cristobal Arteche</td>\n      <td>Spanish, 1900–1964</td>\n      <td>Spanish</td>\n      <td>m</td>\n      <td>1900</td>\n      <td>1964</td>\n      <td>NaN</td>\n      <td>NaN</td>\n    </tr>\n    <tr>\n      <th>14</th>\n      <td>18</td>\n      <td>Artko</td>\n      <td>NaN</td>\n      <td>NaN</td>\n      <td>Unknown</td>\n      <td>0</td>\n      <td>0</td>\n      <td>NaN</td>\n      <td>NaN</td>\n    </tr>\n  </tbody>\n</table>\n</div>"
     },
     "metadata": {},
     "execution_count": 35
    }
   ],
   "source": [
    "(artists\n",
    " >> mutate(Gender = recode(X.Gender, new_gender, default='Unknown'))\n",
    " >> row_slice([13,14]))"
   ]
  },
  {
   "cell_type": "markdown",
   "metadata": {},
   "source": [
    "## <font color=\"red\"> Exercise 3</font>\n",
    "\n",
    "Use `recode` to create a column called `American` in the `artists` data set that will contains `'Yes'` if the artist is American and `'No'` otherwise."
   ]
  },
  {
   "cell_type": "code",
   "execution_count": 36,
   "metadata": {},
   "outputs": [
    {
     "output_type": "execute_result",
     "data": {
      "text/plain": [
       "   ConstituentID      DisplayName            ArtistBio Nationality Gender  \\\n",
       "0              1   Robert Arneson  American, 1930–1992    American   Male   \n",
       "1              2   Doroteo Arnaiz   Spanish, born 1936     Spanish   Male   \n",
       "2              3      Bill Arnold  American, born 1941    American   Male   \n",
       "3              4  Charles Arnoldi  American, born 1946    American   Male   \n",
       "4              5      Per Arnoldi    Danish, born 1941      Danish   Male   \n",
       "\n",
       "   BeginDate  EndDate  Wiki QID         ULAN  \n",
       "0       1930     1992       NaN          NaN  \n",
       "1       1936        0       NaN          NaN  \n",
       "2       1941        0       NaN          NaN  \n",
       "3       1946        0  Q1063584  500027998.0  \n",
       "4       1941        0       NaN          NaN  "
      ],
      "text/html": "<div>\n<style scoped>\n    .dataframe tbody tr th:only-of-type {\n        vertical-align: middle;\n    }\n\n    .dataframe tbody tr th {\n        vertical-align: top;\n    }\n\n    .dataframe thead th {\n        text-align: right;\n    }\n</style>\n<table border=\"1\" class=\"dataframe\">\n  <thead>\n    <tr style=\"text-align: right;\">\n      <th></th>\n      <th>ConstituentID</th>\n      <th>DisplayName</th>\n      <th>ArtistBio</th>\n      <th>Nationality</th>\n      <th>Gender</th>\n      <th>BeginDate</th>\n      <th>EndDate</th>\n      <th>Wiki QID</th>\n      <th>ULAN</th>\n    </tr>\n  </thead>\n  <tbody>\n    <tr>\n      <th>0</th>\n      <td>1</td>\n      <td>Robert Arneson</td>\n      <td>American, 1930–1992</td>\n      <td>American</td>\n      <td>Male</td>\n      <td>1930</td>\n      <td>1992</td>\n      <td>NaN</td>\n      <td>NaN</td>\n    </tr>\n    <tr>\n      <th>1</th>\n      <td>2</td>\n      <td>Doroteo Arnaiz</td>\n      <td>Spanish, born 1936</td>\n      <td>Spanish</td>\n      <td>Male</td>\n      <td>1936</td>\n      <td>0</td>\n      <td>NaN</td>\n      <td>NaN</td>\n    </tr>\n    <tr>\n      <th>2</th>\n      <td>3</td>\n      <td>Bill Arnold</td>\n      <td>American, born 1941</td>\n      <td>American</td>\n      <td>Male</td>\n      <td>1941</td>\n      <td>0</td>\n      <td>NaN</td>\n      <td>NaN</td>\n    </tr>\n    <tr>\n      <th>3</th>\n      <td>4</td>\n      <td>Charles Arnoldi</td>\n      <td>American, born 1946</td>\n      <td>American</td>\n      <td>Male</td>\n      <td>1946</td>\n      <td>0</td>\n      <td>Q1063584</td>\n      <td>500027998.0</td>\n    </tr>\n    <tr>\n      <th>4</th>\n      <td>5</td>\n      <td>Per Arnoldi</td>\n      <td>Danish, born 1941</td>\n      <td>Danish</td>\n      <td>Male</td>\n      <td>1941</td>\n      <td>0</td>\n      <td>NaN</td>\n      <td>NaN</td>\n    </tr>\n  </tbody>\n</table>\n</div>"
     },
     "metadata": {},
     "execution_count": 36
    }
   ],
   "source": [
    "# Your code here\n",
    "\n",
    "artists.head()"
   ]
  },
  {
   "cell_type": "code",
   "execution_count": 37,
   "metadata": {},
   "outputs": [],
   "source": [
    "AmericanQ = {'American':'Yes'}"
   ]
  },
  {
   "cell_type": "code",
   "execution_count": 38,
   "metadata": {},
   "outputs": [
    {
     "output_type": "execute_result",
     "data": {
      "text/plain": [
       "   ConstituentID      DisplayName            ArtistBio Nationality Gender  \\\n",
       "0              1   Robert Arneson  American, 1930–1992    American   Male   \n",
       "1              2   Doroteo Arnaiz   Spanish, born 1936     Spanish   Male   \n",
       "2              3      Bill Arnold  American, born 1941    American   Male   \n",
       "3              4  Charles Arnoldi  American, born 1946    American   Male   \n",
       "4              5      Per Arnoldi    Danish, born 1941      Danish   Male   \n",
       "\n",
       "   BeginDate  EndDate  Wiki QID         ULAN American  \n",
       "0       1930     1992       NaN          NaN      Yes  \n",
       "1       1936        0       NaN          NaN       No  \n",
       "2       1941        0       NaN          NaN      Yes  \n",
       "3       1946        0  Q1063584  500027998.0      Yes  \n",
       "4       1941        0       NaN          NaN       No  "
      ],
      "text/html": "<div>\n<style scoped>\n    .dataframe tbody tr th:only-of-type {\n        vertical-align: middle;\n    }\n\n    .dataframe tbody tr th {\n        vertical-align: top;\n    }\n\n    .dataframe thead th {\n        text-align: right;\n    }\n</style>\n<table border=\"1\" class=\"dataframe\">\n  <thead>\n    <tr style=\"text-align: right;\">\n      <th></th>\n      <th>ConstituentID</th>\n      <th>DisplayName</th>\n      <th>ArtistBio</th>\n      <th>Nationality</th>\n      <th>Gender</th>\n      <th>BeginDate</th>\n      <th>EndDate</th>\n      <th>Wiki QID</th>\n      <th>ULAN</th>\n      <th>American</th>\n    </tr>\n  </thead>\n  <tbody>\n    <tr>\n      <th>0</th>\n      <td>1</td>\n      <td>Robert Arneson</td>\n      <td>American, 1930–1992</td>\n      <td>American</td>\n      <td>Male</td>\n      <td>1930</td>\n      <td>1992</td>\n      <td>NaN</td>\n      <td>NaN</td>\n      <td>Yes</td>\n    </tr>\n    <tr>\n      <th>1</th>\n      <td>2</td>\n      <td>Doroteo Arnaiz</td>\n      <td>Spanish, born 1936</td>\n      <td>Spanish</td>\n      <td>Male</td>\n      <td>1936</td>\n      <td>0</td>\n      <td>NaN</td>\n      <td>NaN</td>\n      <td>No</td>\n    </tr>\n    <tr>\n      <th>2</th>\n      <td>3</td>\n      <td>Bill Arnold</td>\n      <td>American, born 1941</td>\n      <td>American</td>\n      <td>Male</td>\n      <td>1941</td>\n      <td>0</td>\n      <td>NaN</td>\n      <td>NaN</td>\n      <td>Yes</td>\n    </tr>\n    <tr>\n      <th>3</th>\n      <td>4</td>\n      <td>Charles Arnoldi</td>\n      <td>American, born 1946</td>\n      <td>American</td>\n      <td>Male</td>\n      <td>1946</td>\n      <td>0</td>\n      <td>Q1063584</td>\n      <td>500027998.0</td>\n      <td>Yes</td>\n    </tr>\n    <tr>\n      <th>4</th>\n      <td>5</td>\n      <td>Per Arnoldi</td>\n      <td>Danish, born 1941</td>\n      <td>Danish</td>\n      <td>Male</td>\n      <td>1941</td>\n      <td>0</td>\n      <td>NaN</td>\n      <td>NaN</td>\n      <td>No</td>\n    </tr>\n  </tbody>\n</table>\n</div>"
     },
     "metadata": {},
     "execution_count": 38
    }
   ],
   "source": [
    "(artists\n",
    " >> mutate(American = recode(X.Nationality, AmericanQ, default = \"No\"))\n",
    " ).head()"
   ]
  },
  {
   "cell_type": "markdown",
   "metadata": {},
   "source": [
    "# `dfply` column splitting function\n",
    "\n",
    "Next, we will look at two useful `dfply` functions, `separate` and `unite`"
   ]
  },
  {
   "cell_type": "markdown",
   "metadata": {},
   "source": [
    "## Using `dfply.separate` to split and create columns \n",
    "\n",
    "* Many application of `split` return multiple columns\n",
    "* Using `str.split` requires many calls to `dfply.mutate`\n",
    "* `dfply.separate` allows you to get this in one fell swoop"
   ]
  },
  {
   "cell_type": "markdown",
   "metadata": {},
   "source": [
    "## Example column\n",
    "\n",
    "Clearly this column violates the Golden Rule. "
   ]
  },
  {
   "cell_type": "code",
   "execution_count": 39,
   "metadata": {},
   "outputs": [
    {
     "output_type": "execute_result",
     "data": {
      "text/plain": [
       "         a\n",
       "0    1-a-3\n",
       "1      1-b\n",
       "2  1-c-3-4\n",
       "3    9-d-1\n",
       "4       10"
      ],
      "text/html": "<div>\n<style scoped>\n    .dataframe tbody tr th:only-of-type {\n        vertical-align: middle;\n    }\n\n    .dataframe tbody tr th {\n        vertical-align: top;\n    }\n\n    .dataframe thead th {\n        text-align: right;\n    }\n</style>\n<table border=\"1\" class=\"dataframe\">\n  <thead>\n    <tr style=\"text-align: right;\">\n      <th></th>\n      <th>a</th>\n    </tr>\n  </thead>\n  <tbody>\n    <tr>\n      <th>0</th>\n      <td>1-a-3</td>\n    </tr>\n    <tr>\n      <th>1</th>\n      <td>1-b</td>\n    </tr>\n    <tr>\n      <th>2</th>\n      <td>1-c-3-4</td>\n    </tr>\n    <tr>\n      <th>3</th>\n      <td>9-d-1</td>\n    </tr>\n    <tr>\n      <th>4</th>\n      <td>10</td>\n    </tr>\n  </tbody>\n</table>\n</div>"
     },
     "metadata": {},
     "execution_count": 39
    }
   ],
   "source": [
    "d = pd.DataFrame({'a':['1-a-3', '1-b', '1-c-3-4', '9-d-1', '10']})\n",
    "d"
   ]
  },
  {
   "cell_type": "markdown",
   "metadata": {},
   "source": [
    "## Using separate with `fill='right'`\n",
    "\n",
    "* Nothing to split in last row\n",
    "* `fill='right'` $\\rightarrow$ `NaN` is *filled in* on the right."
   ]
  },
  {
   "cell_type": "code",
   "execution_count": 40,
   "metadata": {},
   "outputs": [
    {
     "output_type": "execute_result",
     "data": {
      "text/plain": [
       "   col1 col2\n",
       "0     1    a\n",
       "1     1    b\n",
       "2     1    c\n",
       "3     9    d\n",
       "4    10  NaN"
      ],
      "text/html": "<div>\n<style scoped>\n    .dataframe tbody tr th:only-of-type {\n        vertical-align: middle;\n    }\n\n    .dataframe tbody tr th {\n        vertical-align: top;\n    }\n\n    .dataframe thead th {\n        text-align: right;\n    }\n</style>\n<table border=\"1\" class=\"dataframe\">\n  <thead>\n    <tr style=\"text-align: right;\">\n      <th></th>\n      <th>col1</th>\n      <th>col2</th>\n    </tr>\n  </thead>\n  <tbody>\n    <tr>\n      <th>0</th>\n      <td>1</td>\n      <td>a</td>\n    </tr>\n    <tr>\n      <th>1</th>\n      <td>1</td>\n      <td>b</td>\n    </tr>\n    <tr>\n      <th>2</th>\n      <td>1</td>\n      <td>c</td>\n    </tr>\n    <tr>\n      <th>3</th>\n      <td>9</td>\n      <td>d</td>\n    </tr>\n    <tr>\n      <th>4</th>\n      <td>10</td>\n      <td>NaN</td>\n    </tr>\n  </tbody>\n</table>\n</div>"
     },
     "metadata": {},
     "execution_count": 40
    }
   ],
   "source": [
    "(d \n",
    " >> separate(X.a, ['col1', 'col2'], \n",
    "             remove=True, convert=True,\n",
    "            extra='drop', fill='right'))"
   ]
  },
  {
   "cell_type": "markdown",
   "metadata": {},
   "source": [
    "## Using separate with `fill='left'`\n",
    "\n",
    "* Nothing to split in last row\n",
    "* `fill='left'` $\\rightarrow$ `NaN` on the left."
   ]
  },
  {
   "cell_type": "code",
   "execution_count": 41,
   "metadata": {},
   "outputs": [
    {
     "output_type": "execute_result",
     "data": {
      "text/plain": [
       "   col1 col2\n",
       "0   1.0    a\n",
       "1   1.0    b\n",
       "2   1.0    c\n",
       "3   9.0    d\n",
       "4   NaN   10"
      ],
      "text/html": "<div>\n<style scoped>\n    .dataframe tbody tr th:only-of-type {\n        vertical-align: middle;\n    }\n\n    .dataframe tbody tr th {\n        vertical-align: top;\n    }\n\n    .dataframe thead th {\n        text-align: right;\n    }\n</style>\n<table border=\"1\" class=\"dataframe\">\n  <thead>\n    <tr style=\"text-align: right;\">\n      <th></th>\n      <th>col1</th>\n      <th>col2</th>\n    </tr>\n  </thead>\n  <tbody>\n    <tr>\n      <th>0</th>\n      <td>1.0</td>\n      <td>a</td>\n    </tr>\n    <tr>\n      <th>1</th>\n      <td>1.0</td>\n      <td>b</td>\n    </tr>\n    <tr>\n      <th>2</th>\n      <td>1.0</td>\n      <td>c</td>\n    </tr>\n    <tr>\n      <th>3</th>\n      <td>9.0</td>\n      <td>d</td>\n    </tr>\n    <tr>\n      <th>4</th>\n      <td>NaN</td>\n      <td>10</td>\n    </tr>\n  </tbody>\n</table>\n</div>"
     },
     "metadata": {},
     "execution_count": 41
    }
   ],
   "source": [
    "(d \n",
    " >> separate(X.a, ['col1', 'col2'], \n",
    "             remove=True, convert=True,\n",
    "            extra='drop', fill='left'))"
   ]
  },
  {
   "cell_type": "markdown",
   "metadata": {},
   "source": [
    "## Using separate with `extra='merge'`\n",
    "\n",
    "* `extra='merge'`$\\rightarrow$ puts the rest in another column\n",
    "* No lost data"
   ]
  },
  {
   "cell_type": "code",
   "execution_count": 42,
   "metadata": {},
   "outputs": [
    {
     "output_type": "execute_result",
     "data": {
      "text/plain": [
       "         a  col1   col2\n",
       "0    1-a-3     1    a-3\n",
       "1      1-b     1      b\n",
       "2  1-c-3-4     1  c-3-4\n",
       "3    9-d-1     9    d-1\n",
       "4       10    10    NaN"
      ],
      "text/html": "<div>\n<style scoped>\n    .dataframe tbody tr th:only-of-type {\n        vertical-align: middle;\n    }\n\n    .dataframe tbody tr th {\n        vertical-align: top;\n    }\n\n    .dataframe thead th {\n        text-align: right;\n    }\n</style>\n<table border=\"1\" class=\"dataframe\">\n  <thead>\n    <tr style=\"text-align: right;\">\n      <th></th>\n      <th>a</th>\n      <th>col1</th>\n      <th>col2</th>\n    </tr>\n  </thead>\n  <tbody>\n    <tr>\n      <th>0</th>\n      <td>1-a-3</td>\n      <td>1</td>\n      <td>a-3</td>\n    </tr>\n    <tr>\n      <th>1</th>\n      <td>1-b</td>\n      <td>1</td>\n      <td>b</td>\n    </tr>\n    <tr>\n      <th>2</th>\n      <td>1-c-3-4</td>\n      <td>1</td>\n      <td>c-3-4</td>\n    </tr>\n    <tr>\n      <th>3</th>\n      <td>9-d-1</td>\n      <td>9</td>\n      <td>d-1</td>\n    </tr>\n    <tr>\n      <th>4</th>\n      <td>10</td>\n      <td>10</td>\n      <td>NaN</td>\n    </tr>\n  </tbody>\n</table>\n</div>"
     },
     "metadata": {},
     "execution_count": 42
    }
   ],
   "source": [
    "(d \n",
    " >> separate(X.a, ['col1', 'col2'], \n",
    "             remove=False, convert=True,\n",
    "              extra='merge', fill='right'))"
   ]
  },
  {
   "cell_type": "markdown",
   "metadata": {},
   "source": [
    "## Using separate with `extra='merge'`\n",
    "\n",
    "* `extra='merge'`$\\rightarrow$ only makes an extra column when needed."
   ]
  },
  {
   "cell_type": "code",
   "execution_count": 43,
   "metadata": {},
   "outputs": [
    {
     "output_type": "execute_result",
     "data": {
      "text/plain": [
       "  col1 col2 col3\n",
       "0   1-   a-    3\n",
       "1   1-    b  NaN\n",
       "2   1-   c-  3-4\n",
       "3   9-   d-    1\n",
       "4   10  NaN  NaN"
      ],
      "text/html": "<div>\n<style scoped>\n    .dataframe tbody tr th:only-of-type {\n        vertical-align: middle;\n    }\n\n    .dataframe tbody tr th {\n        vertical-align: top;\n    }\n\n    .dataframe thead th {\n        text-align: right;\n    }\n</style>\n<table border=\"1\" class=\"dataframe\">\n  <thead>\n    <tr style=\"text-align: right;\">\n      <th></th>\n      <th>col1</th>\n      <th>col2</th>\n      <th>col3</th>\n    </tr>\n  </thead>\n  <tbody>\n    <tr>\n      <th>0</th>\n      <td>1-</td>\n      <td>a-</td>\n      <td>3</td>\n    </tr>\n    <tr>\n      <th>1</th>\n      <td>1-</td>\n      <td>b</td>\n      <td>NaN</td>\n    </tr>\n    <tr>\n      <th>2</th>\n      <td>1-</td>\n      <td>c-</td>\n      <td>3-4</td>\n    </tr>\n    <tr>\n      <th>3</th>\n      <td>9-</td>\n      <td>d-</td>\n      <td>1</td>\n    </tr>\n    <tr>\n      <th>4</th>\n      <td>10</td>\n      <td>NaN</td>\n      <td>NaN</td>\n    </tr>\n  </tbody>\n</table>\n</div>"
     },
     "metadata": {},
     "execution_count": 43
    }
   ],
   "source": [
    "(d \n",
    " >> separate(X.a, ['col1', 'col2', 'col3'], \n",
    "             sep=[2,4], remove=True, convert=True,\n",
    "             extra='merge', fill='right'))"
   ]
  },
  {
   "cell_type": "markdown",
   "metadata": {},
   "source": [
    "## <font color=\"red\"> Exercise 4 </font>\n",
    "\n",
    "**Tasks:** Use `separate` to pull these data apart into three separate columns in one function call in the `TD_bad_stacked.csv` data."
   ]
  },
  {
   "cell_type": "code",
   "execution_count": 44,
   "metadata": {},
   "outputs": [
    {
     "output_type": "execute_result",
     "data": {
      "text/plain": [
       "  country  group   cases\n",
       "0      AD  f0-14     0.0\n",
       "1      AE  f0-14     4.0\n",
       "2      AF  f0-14  3500.0\n",
       "3      AG  f0-14     0.0\n",
       "4      AI  f0-14     0.0"
      ],
      "text/html": "<div>\n<style scoped>\n    .dataframe tbody tr th:only-of-type {\n        vertical-align: middle;\n    }\n\n    .dataframe tbody tr th {\n        vertical-align: top;\n    }\n\n    .dataframe thead th {\n        text-align: right;\n    }\n</style>\n<table border=\"1\" class=\"dataframe\">\n  <thead>\n    <tr style=\"text-align: right;\">\n      <th></th>\n      <th>country</th>\n      <th>group</th>\n      <th>cases</th>\n    </tr>\n  </thead>\n  <tbody>\n    <tr>\n      <th>0</th>\n      <td>AD</td>\n      <td>f0-14</td>\n      <td>0.0</td>\n    </tr>\n    <tr>\n      <th>1</th>\n      <td>AE</td>\n      <td>f0-14</td>\n      <td>4.0</td>\n    </tr>\n    <tr>\n      <th>2</th>\n      <td>AF</td>\n      <td>f0-14</td>\n      <td>3500.0</td>\n    </tr>\n    <tr>\n      <th>3</th>\n      <td>AG</td>\n      <td>f0-14</td>\n      <td>0.0</td>\n    </tr>\n    <tr>\n      <th>4</th>\n      <td>AI</td>\n      <td>f0-14</td>\n      <td>0.0</td>\n    </tr>\n  </tbody>\n</table>\n</div>"
     },
     "metadata": {},
     "execution_count": 44
    }
   ],
   "source": [
    "df = pd.read_csv(\"./data/TB_bad_stacked.csv\")\n",
    "df.head()"
   ]
  },
  {
   "cell_type": "code",
   "execution_count": 58,
   "metadata": {},
   "outputs": [
    {
     "output_type": "execute_result",
     "data": {
      "text/plain": [
       "<bound method Series.unique of 0        f0-14\n",
       "1        f0-14\n",
       "2        f0-14\n",
       "3        f0-14\n",
       "4        f0-14\n",
       "         ...  \n",
       "3451    m55-64\n",
       "3452    m55-64\n",
       "3453    m55-64\n",
       "3454    m55-64\n",
       "3455    m55-64\n",
       "Name: group, Length: 3456, dtype: object>"
      ]
     },
     "metadata": {},
     "execution_count": 58
    }
   ],
   "source": []
  },
  {
   "cell_type": "code",
   "execution_count": 45,
   "metadata": {},
   "outputs": [
    {
     "output_type": "execute_result",
     "data": {
      "text/plain": [
       "     Gender Lower_age_limit  Upper_age_limit\n",
       "0         f              0-               14\n",
       "1         f              0-               14\n",
       "2         f              0-               14\n",
       "3         f              0-               14\n",
       "4         f              0-               14\n",
       "...     ...             ...              ...\n",
       "3451      m              55              -64\n",
       "3452      m              55              -64\n",
       "3453      m              55              -64\n",
       "3454      m              55              -64\n",
       "3455      m              55              -64\n",
       "\n",
       "[3456 rows x 3 columns]"
      ],
      "text/html": "<div>\n<style scoped>\n    .dataframe tbody tr th:only-of-type {\n        vertical-align: middle;\n    }\n\n    .dataframe tbody tr th {\n        vertical-align: top;\n    }\n\n    .dataframe thead th {\n        text-align: right;\n    }\n</style>\n<table border=\"1\" class=\"dataframe\">\n  <thead>\n    <tr style=\"text-align: right;\">\n      <th></th>\n      <th>Gender</th>\n      <th>Lower_age_limit</th>\n      <th>Upper_age_limit</th>\n    </tr>\n  </thead>\n  <tbody>\n    <tr>\n      <th>0</th>\n      <td>f</td>\n      <td>0-</td>\n      <td>14</td>\n    </tr>\n    <tr>\n      <th>1</th>\n      <td>f</td>\n      <td>0-</td>\n      <td>14</td>\n    </tr>\n    <tr>\n      <th>2</th>\n      <td>f</td>\n      <td>0-</td>\n      <td>14</td>\n    </tr>\n    <tr>\n      <th>3</th>\n      <td>f</td>\n      <td>0-</td>\n      <td>14</td>\n    </tr>\n    <tr>\n      <th>4</th>\n      <td>f</td>\n      <td>0-</td>\n      <td>14</td>\n    </tr>\n    <tr>\n      <th>...</th>\n      <td>...</td>\n      <td>...</td>\n      <td>...</td>\n    </tr>\n    <tr>\n      <th>3451</th>\n      <td>m</td>\n      <td>55</td>\n      <td>-64</td>\n    </tr>\n    <tr>\n      <th>3452</th>\n      <td>m</td>\n      <td>55</td>\n      <td>-64</td>\n    </tr>\n    <tr>\n      <th>3453</th>\n      <td>m</td>\n      <td>55</td>\n      <td>-64</td>\n    </tr>\n    <tr>\n      <th>3454</th>\n      <td>m</td>\n      <td>55</td>\n      <td>-64</td>\n    </tr>\n    <tr>\n      <th>3455</th>\n      <td>m</td>\n      <td>55</td>\n      <td>-64</td>\n    </tr>\n  </tbody>\n</table>\n<p>3456 rows × 3 columns</p>\n</div>"
     },
     "metadata": {},
     "execution_count": 45
    }
   ],
   "source": [
    "# Your code here\n",
    "\n",
    "(df\n",
    " >> select(X.group) \n",
    " >> separate(X.group, ['Gender', 'Lower_age_limit', 'Upper_age_limit'], \n",
    "             sep=[1,3], remove=True, convert=True,\n",
    "             extra='merge', fill='right'))  \n",
    "       "
   ]
  },
  {
   "cell_type": "code",
   "execution_count": 46,
   "metadata": {},
   "outputs": [
    {
     "output_type": "execute_result",
     "data": {
      "text/plain": [
       "      Gender Lower_age_limit  Upper_age_limit\n",
       "0        NaN               f                0\n",
       "1        NaN               f                0\n",
       "2        NaN               f                0\n",
       "3        NaN               f                0\n",
       "4        NaN               f                0\n",
       "...      ...             ...              ...\n",
       "3451     NaN               m               55\n",
       "3452     NaN               m               55\n",
       "3453     NaN               m               55\n",
       "3454     NaN               m               55\n",
       "3455     NaN               m               55\n",
       "\n",
       "[3456 rows x 3 columns]"
      ],
      "text/html": "<div>\n<style scoped>\n    .dataframe tbody tr th:only-of-type {\n        vertical-align: middle;\n    }\n\n    .dataframe tbody tr th {\n        vertical-align: top;\n    }\n\n    .dataframe thead th {\n        text-align: right;\n    }\n</style>\n<table border=\"1\" class=\"dataframe\">\n  <thead>\n    <tr style=\"text-align: right;\">\n      <th></th>\n      <th>Gender</th>\n      <th>Lower_age_limit</th>\n      <th>Upper_age_limit</th>\n    </tr>\n  </thead>\n  <tbody>\n    <tr>\n      <th>0</th>\n      <td>NaN</td>\n      <td>f</td>\n      <td>0</td>\n    </tr>\n    <tr>\n      <th>1</th>\n      <td>NaN</td>\n      <td>f</td>\n      <td>0</td>\n    </tr>\n    <tr>\n      <th>2</th>\n      <td>NaN</td>\n      <td>f</td>\n      <td>0</td>\n    </tr>\n    <tr>\n      <th>3</th>\n      <td>NaN</td>\n      <td>f</td>\n      <td>0</td>\n    </tr>\n    <tr>\n      <th>4</th>\n      <td>NaN</td>\n      <td>f</td>\n      <td>0</td>\n    </tr>\n    <tr>\n      <th>...</th>\n      <td>...</td>\n      <td>...</td>\n      <td>...</td>\n    </tr>\n    <tr>\n      <th>3451</th>\n      <td>NaN</td>\n      <td>m</td>\n      <td>55</td>\n    </tr>\n    <tr>\n      <th>3452</th>\n      <td>NaN</td>\n      <td>m</td>\n      <td>55</td>\n    </tr>\n    <tr>\n      <th>3453</th>\n      <td>NaN</td>\n      <td>m</td>\n      <td>55</td>\n    </tr>\n    <tr>\n      <th>3454</th>\n      <td>NaN</td>\n      <td>m</td>\n      <td>55</td>\n    </tr>\n    <tr>\n      <th>3455</th>\n      <td>NaN</td>\n      <td>m</td>\n      <td>55</td>\n    </tr>\n  </tbody>\n</table>\n<p>3456 rows × 3 columns</p>\n</div>"
     },
     "metadata": {},
     "execution_count": 46
    }
   ],
   "source": [
    "(df\n",
    " >> select(X.group) \n",
    " >> separate(X.group, ['Gender', 'Lower_age_limit', 'Upper_age_limit'], \n",
    "             sep=\"^(.?)([0-9][0-9]?)-([0-9][0-9]?)\", remove=True, convert=True,\n",
    "             extra='merge', fill='left'))  "
   ]
  },
  {
   "cell_type": "code",
   "execution_count": 50,
   "metadata": {},
   "outputs": [
    {
     "output_type": "execute_result",
     "data": {
      "text/plain": [
       "      Gender Lower_age_limit  Upper_age_limit\n",
       "0        NaN              f0               14\n",
       "1        NaN              f0               14\n",
       "2        NaN              f0               14\n",
       "3        NaN              f0               14\n",
       "4        NaN              f0               14\n",
       "...      ...             ...              ...\n",
       "3451     NaN             m55               64\n",
       "3452     NaN             m55               64\n",
       "3453     NaN             m55               64\n",
       "3454     NaN             m55               64\n",
       "3455     NaN             m55               64\n",
       "\n",
       "[3456 rows x 3 columns]"
      ],
      "text/html": "<div>\n<style scoped>\n    .dataframe tbody tr th:only-of-type {\n        vertical-align: middle;\n    }\n\n    .dataframe tbody tr th {\n        vertical-align: top;\n    }\n\n    .dataframe thead th {\n        text-align: right;\n    }\n</style>\n<table border=\"1\" class=\"dataframe\">\n  <thead>\n    <tr style=\"text-align: right;\">\n      <th></th>\n      <th>Gender</th>\n      <th>Lower_age_limit</th>\n      <th>Upper_age_limit</th>\n    </tr>\n  </thead>\n  <tbody>\n    <tr>\n      <th>0</th>\n      <td>NaN</td>\n      <td>f0</td>\n      <td>14</td>\n    </tr>\n    <tr>\n      <th>1</th>\n      <td>NaN</td>\n      <td>f0</td>\n      <td>14</td>\n    </tr>\n    <tr>\n      <th>2</th>\n      <td>NaN</td>\n      <td>f0</td>\n      <td>14</td>\n    </tr>\n    <tr>\n      <th>3</th>\n      <td>NaN</td>\n      <td>f0</td>\n      <td>14</td>\n    </tr>\n    <tr>\n      <th>4</th>\n      <td>NaN</td>\n      <td>f0</td>\n      <td>14</td>\n    </tr>\n    <tr>\n      <th>...</th>\n      <td>...</td>\n      <td>...</td>\n      <td>...</td>\n    </tr>\n    <tr>\n      <th>3451</th>\n      <td>NaN</td>\n      <td>m55</td>\n      <td>64</td>\n    </tr>\n    <tr>\n      <th>3452</th>\n      <td>NaN</td>\n      <td>m55</td>\n      <td>64</td>\n    </tr>\n    <tr>\n      <th>3453</th>\n      <td>NaN</td>\n      <td>m55</td>\n      <td>64</td>\n    </tr>\n    <tr>\n      <th>3454</th>\n      <td>NaN</td>\n      <td>m55</td>\n      <td>64</td>\n    </tr>\n    <tr>\n      <th>3455</th>\n      <td>NaN</td>\n      <td>m55</td>\n      <td>64</td>\n    </tr>\n  </tbody>\n</table>\n<p>3456 rows × 3 columns</p>\n</div>"
     },
     "metadata": {},
     "execution_count": 50
    }
   ],
   "source": [
    "(df\n",
    " >> select(X.group) \n",
    " >> separate(X.group, ['Gender', 'Lower_age_limit', 'Upper_age_limit'], \n",
    "             sep=\"-\", remove=True, convert=True,\n",
    "             extra='merge', fill='left'))  "
   ]
  },
  {
   "cell_type": "code",
   "execution_count": 53,
   "metadata": {},
   "outputs": [
    {
     "output_type": "execute_result",
     "data": {
      "text/plain": [
       "     Gender  Lower_age_limit  Upper_age_limit\n",
       "0         f                0               14\n",
       "1         f                0               14\n",
       "2         f                0               14\n",
       "3         f                0               14\n",
       "4         f                0               14\n",
       "...     ...              ...              ...\n",
       "3451      m               55               64\n",
       "3452      m               55               64\n",
       "3453      m               55               64\n",
       "3454      m               55               64\n",
       "3455      m               55               64\n",
       "\n",
       "[3456 rows x 3 columns]"
      ],
      "text/html": "<div>\n<style scoped>\n    .dataframe tbody tr th:only-of-type {\n        vertical-align: middle;\n    }\n\n    .dataframe tbody tr th {\n        vertical-align: top;\n    }\n\n    .dataframe thead th {\n        text-align: right;\n    }\n</style>\n<table border=\"1\" class=\"dataframe\">\n  <thead>\n    <tr style=\"text-align: right;\">\n      <th></th>\n      <th>Gender</th>\n      <th>Lower_age_limit</th>\n      <th>Upper_age_limit</th>\n    </tr>\n  </thead>\n  <tbody>\n    <tr>\n      <th>0</th>\n      <td>f</td>\n      <td>0</td>\n      <td>14</td>\n    </tr>\n    <tr>\n      <th>1</th>\n      <td>f</td>\n      <td>0</td>\n      <td>14</td>\n    </tr>\n    <tr>\n      <th>2</th>\n      <td>f</td>\n      <td>0</td>\n      <td>14</td>\n    </tr>\n    <tr>\n      <th>3</th>\n      <td>f</td>\n      <td>0</td>\n      <td>14</td>\n    </tr>\n    <tr>\n      <th>4</th>\n      <td>f</td>\n      <td>0</td>\n      <td>14</td>\n    </tr>\n    <tr>\n      <th>...</th>\n      <td>...</td>\n      <td>...</td>\n      <td>...</td>\n    </tr>\n    <tr>\n      <th>3451</th>\n      <td>m</td>\n      <td>55</td>\n      <td>64</td>\n    </tr>\n    <tr>\n      <th>3452</th>\n      <td>m</td>\n      <td>55</td>\n      <td>64</td>\n    </tr>\n    <tr>\n      <th>3453</th>\n      <td>m</td>\n      <td>55</td>\n      <td>64</td>\n    </tr>\n    <tr>\n      <th>3454</th>\n      <td>m</td>\n      <td>55</td>\n      <td>64</td>\n    </tr>\n    <tr>\n      <th>3455</th>\n      <td>m</td>\n      <td>55</td>\n      <td>64</td>\n    </tr>\n  </tbody>\n</table>\n<p>3456 rows × 3 columns</p>\n</div>"
     },
     "metadata": {},
     "execution_count": 53
    }
   ],
   "source": [
    "(df\n",
    " >> select(X.group) \n",
    " >> separate(X.group, ['Gender', 'Lower_age_limit', 'Upper_age_limit'], \n",
    "             sep=\"([0-9][0-9]?)-\", remove=True, convert=True,\n",
    "             extra='merge', fill='left'))  "
   ]
  }
 ],
 "metadata": {
  "kernelspec": {
   "display_name": "Python 3",
   "language": "python",
   "name": "python3"
  },
  "language_info": {
   "codemirror_mode": {
    "name": "ipython",
    "version": 3
   },
   "file_extension": ".py",
   "mimetype": "text/x-python",
   "name": "python",
   "nbconvert_exporter": "python",
   "pygments_lexer": "ipython3",
   "version": "3.7.6-final"
  },
  "varInspector": {
   "cols": {
    "lenName": 16,
    "lenType": 16,
    "lenVar": 40
   },
   "kernels_config": {
    "python": {
     "delete_cmd_postfix": "",
     "delete_cmd_prefix": "del ",
     "library": "var_list.py",
     "varRefreshCmd": "print(var_dic_list())"
    },
    "r": {
     "delete_cmd_postfix": ") ",
     "delete_cmd_prefix": "rm(",
     "library": "var_list.r",
     "varRefreshCmd": "cat(var_dic_list()) "
    }
   },
   "types_to_exclude": [
    "module",
    "function",
    "builtin_function_or_method",
    "instance",
    "_Feature"
   ],
   "window_display": false
  }
 },
 "nbformat": 4,
 "nbformat_minor": 2
}