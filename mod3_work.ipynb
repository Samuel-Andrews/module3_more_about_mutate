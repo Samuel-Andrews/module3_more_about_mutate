{
 "cells": [
  {
   "cell_type": "code",
   "execution_count": 2,
   "metadata": {},
   "outputs": [],
   "source": [
    "import sys"
   ]
  },
  {
   "cell_type": "code",
   "execution_count": 3,
   "metadata": {},
   "outputs": [],
   "source": [
    "#!pip install composable"
   ]
  },
  {
   "cell_type": "code",
   "execution_count": 4,
   "metadata": {},
   "outputs": [],
   "source": [
    "import pandas as pd\n",
    "from composable import pipeable"
   ]
  },
  {
   "cell_type": "code",
   "execution_count": 5,
   "metadata": {},
   "outputs": [
    {
     "output_type": "stream",
     "name": "stdout",
     "text": [
      "Help on function slice in module pandas.core.strings.accessor:\n\nslice(self, start=None, stop=None, step=None)\n    Slice substrings from each element in the Series or Index.\n    \n    Parameters\n    ----------\n    start : int, optional\n        Start position for slice operation.\n    stop : int, optional\n        Stop position for slice operation.\n    step : int, optional\n        Step size for slice operation.\n    \n    Returns\n    -------\n    Series or Index of object\n        Series or Index from sliced substring from original string object.\n    \n    See Also\n    --------\n    Series.str.slice_replace : Replace a slice with a string.\n    Series.str.get : Return element at position.\n        Equivalent to `Series.str.slice(start=i, stop=i+1)` with `i`\n        being the position.\n    \n    Examples\n    --------\n    >>> s = pd.Series([\"koala\", \"fox\", \"chameleon\"])\n    >>> s\n    0        koala\n    1          fox\n    2    chameleon\n    dtype: object\n    \n    >>> s.str.slice(start=1)\n    0        oala\n    1          ox\n    2    hameleon\n    dtype: object\n    \n    >>> s.str.slice(start=-1)\n    0           a\n    1           x\n    2           n\n    dtype: object\n    \n    >>> s.str.slice(stop=2)\n    0    ko\n    1    fo\n    2    ch\n    dtype: object\n    \n    >>> s.str.slice(step=2)\n    0      kaa\n    1       fx\n    2    caeen\n    dtype: object\n    \n    >>> s.str.slice(start=0, stop=5, step=3)\n    0    kl\n    1     f\n    2    cm\n    dtype: object\n    \n    Equivalent behaviour to:\n    \n    >>> s.str[0:5:3]\n    0    kl\n    1     f\n    2    cm\n    dtype: object\n\n"
     ]
    }
   ],
   "source": [
    "help(pd.Series.str.slice)"
   ]
  },
  {
   "cell_type": "code",
   "execution_count": 6,
   "metadata": {},
   "outputs": [],
   "source": [
    "@pipeable\n",
    "def slice(col, start=None, stop=None, step=None):\n",
    "    return col.str.slice( start = start, stop = stop, step = step)"
   ]
  },
  {
   "cell_type": "code",
   "execution_count": 7,
   "metadata": {
    "scrolled": true
   },
   "outputs": [
    {
     "output_type": "execute_result",
     "data": {
      "text/plain": [
       "0     1000\n",
       "1     1001\n",
       "2     1002\n",
       "3     1003\n",
       "4     1004\n",
       "5     1005\n",
       "6     1006\n",
       "7     1007\n",
       "8     1008\n",
       "9     1009\n",
       "10    1010\n",
       "dtype: object"
      ]
     },
     "metadata": {},
     "execution_count": 7
    }
   ],
   "source": [
    "from composable.strict import map\n",
    "c = pd.Series(map(str, range(1000,1011)))\n",
    "c"
   ]
  },
  {
   "cell_type": "code",
   "execution_count": 8,
   "metadata": {},
   "outputs": [
    {
     "output_type": "execute_result",
     "data": {
      "text/plain": [
       "0     00\n",
       "1     00\n",
       "2     00\n",
       "3     00\n",
       "4     00\n",
       "5     00\n",
       "6     00\n",
       "7     00\n",
       "8     00\n",
       "9     00\n",
       "10    01\n",
       "dtype: object"
      ]
     },
     "metadata": {},
     "execution_count": 8
    }
   ],
   "source": [
    "c.str.slice(1, 3)"
   ]
  },
  {
   "cell_type": "code",
   "execution_count": 9,
   "metadata": {},
   "outputs": [],
   "source": [
    "#c >> slice(1, 3) # first argument passed to `col` by position."
   ]
  },
  {
   "cell_type": "code",
   "execution_count": 10,
   "metadata": {},
   "outputs": [],
   "source": [
    "@pipeable\n",
    "def slice(col, *, start=None, stop=None, step=None):\n",
    "    return col.str.slice(start, stop, step)"
   ]
  },
  {
   "cell_type": "code",
   "execution_count": 11,
   "metadata": {},
   "outputs": [
    {
     "output_type": "execute_result",
     "data": {
      "text/plain": [
       "0     00\n",
       "1     00\n",
       "2     00\n",
       "3     00\n",
       "4     00\n",
       "5     00\n",
       "6     00\n",
       "7     00\n",
       "8     00\n",
       "9     00\n",
       "10    01\n",
       "dtype: object"
      ]
     },
     "metadata": {},
     "execution_count": 11
    }
   ],
   "source": [
    "c >> slice(start = 1, stop = 3) # second and third digits"
   ]
  },
  {
   "cell_type": "code",
   "execution_count": 12,
   "metadata": {},
   "outputs": [
    {
     "output_type": "error",
     "ename": "NameError",
     "evalue": "name 'none' is not defined",
     "traceback": [
      "\u001b[0;31m---------------------------------------------------------------------------\u001b[0m",
      "\u001b[0;31mNameError\u001b[0m                                 Traceback (most recent call last)",
      "\u001b[0;32m<ipython-input-12-4d2d2bf83a9e>\u001b[0m in \u001b[0;36m<module>\u001b[0;34m\u001b[0m\n\u001b[1;32m      1\u001b[0m \u001b[0;31m#@pipeable\u001b[0m\u001b[0;34m\u001b[0m\u001b[0;34m\u001b[0m\u001b[0;34m\u001b[0m\u001b[0m\n\u001b[0;32m----> 2\u001b[0;31m \u001b[0;32mdef\u001b[0m \u001b[0mreplace\u001b[0m\u001b[0;34m(\u001b[0m\u001b[0mcol\u001b[0m\u001b[0;34m,\u001b[0m \u001b[0mpat\u001b[0m\u001b[0;34m,\u001b[0m \u001b[0mrep1\u001b[0m\u001b[0;34m,\u001b[0m \u001b[0mn\u001b[0m \u001b[0;34m=\u001b[0m \u001b[0;34m-\u001b[0m\u001b[0;36m1\u001b[0m\u001b[0;34m,\u001b[0m \u001b[0mcase\u001b[0m \u001b[0;34m=\u001b[0m \u001b[0;32mNone\u001b[0m\u001b[0;34m,\u001b[0m \u001b[0mflags\u001b[0m \u001b[0;34m=\u001b[0m \u001b[0;36m0\u001b[0m\u001b[0;34m,\u001b[0m \u001b[0mregex\u001b[0m \u001b[0;34m=\u001b[0m \u001b[0mnone\u001b[0m\u001b[0;34m)\u001b[0m\u001b[0;34m:\u001b[0m\u001b[0;34m\u001b[0m\u001b[0;34m\u001b[0m\u001b[0m\n\u001b[0m\u001b[1;32m      3\u001b[0m     \u001b[0;32mreturn\u001b[0m \u001b[0mcol\u001b[0m\u001b[0;34m.\u001b[0m\u001b[0mstr\u001b[0m\u001b[0;34m.\u001b[0m\u001b[0mslice\u001b[0m\u001b[0;34m(\u001b[0m\u001b[0;34m)\u001b[0m\u001b[0;34m\u001b[0m\u001b[0;34m\u001b[0m\u001b[0m\n",
      "\u001b[0;31mNameError\u001b[0m: name 'none' is not defined"
     ]
    }
   ],
   "source": [
    "#@pipeable\n",
    "def replace(col, pat, rep1, n = -1, case = None, flags = 0, regex = none):\n",
    "    return col.str.slice()"
   ]
  },
  {
   "cell_type": "code",
   "execution_count": 13,
   "metadata": {},
   "outputs": [
    {
     "output_type": "stream",
     "name": "stdout",
     "text": [
      "Help on method replace in module pandas.core.strings.accessor:\n\nreplace(pat, repl, n=-1, case=None, flags=0, regex=None) method of pandas.core.strings.accessor.StringMethods instance\n    Replace each occurrence of pattern/regex in the Series/Index.\n    \n    Equivalent to :meth:`str.replace` or :func:`re.sub`, depending on\n    the regex value.\n    \n    Parameters\n    ----------\n    pat : str or compiled regex\n        String can be a character sequence or regular expression.\n    repl : str or callable\n        Replacement string or a callable. The callable is passed the regex\n        match object and must return a replacement string to be used.\n        See :func:`re.sub`.\n    n : int, default -1 (all)\n        Number of replacements to make from start.\n    case : bool, default None\n        Determines if replace is case sensitive:\n    \n        - If True, case sensitive (the default if `pat` is a string)\n        - Set to False for case insensitive\n        - Cannot be set if `pat` is a compiled regex.\n    \n    flags : int, default 0 (no flags)\n        Regex module flags, e.g. re.IGNORECASE. Cannot be set if `pat` is a compiled\n        regex.\n    regex : bool, default True\n        Determines if assumes the passed-in pattern is a regular expression:\n    \n        - If True, assumes the passed-in pattern is a regular expression.\n        - If False, treats the pattern as a literal string\n        - Cannot be set to False if `pat` is a compiled regex or `repl` is\n          a callable.\n    \n        .. versionadded:: 0.23.0\n    \n    Returns\n    -------\n    Series or Index of object\n        A copy of the object with all matching occurrences of `pat` replaced by\n        `repl`.\n    \n    Raises\n    ------\n    ValueError\n        * if `regex` is False and `repl` is a callable or `pat` is a compiled\n          regex\n        * if `pat` is a compiled regex and `case` or `flags` is set\n    \n    Notes\n    -----\n    When `pat` is a compiled regex, all flags should be included in the\n    compiled regex. Use of `case`, `flags`, or `regex=False` with a compiled\n    regex will raise an error.\n    \n    Examples\n    --------\n    When `pat` is a string and `regex` is True (the default), the given `pat`\n    is compiled as a regex. When `repl` is a string, it replaces matching\n    regex patterns as with :meth:`re.sub`. NaN value(s) in the Series are\n    left as is:\n    \n    >>> pd.Series(['foo', 'fuz', np.nan]).str.replace('f.', 'ba', regex=True)\n    0    bao\n    1    baz\n    2    NaN\n    dtype: object\n    \n    When `pat` is a string and `regex` is False, every `pat` is replaced with\n    `repl` as with :meth:`str.replace`:\n    \n    >>> pd.Series(['f.o', 'fuz', np.nan]).str.replace('f.', 'ba', regex=False)\n    0    bao\n    1    fuz\n    2    NaN\n    dtype: object\n    \n    When `repl` is a callable, it is called on every `pat` using\n    :func:`re.sub`. The callable should expect one positional argument\n    (a regex object) and return a string.\n    \n    To get the idea:\n    \n    >>> pd.Series(['foo', 'fuz', np.nan]).str.replace('f', repr)\n    0    <re.Match object; span=(0, 1), match='f'>oo\n    1    <re.Match object; span=(0, 1), match='f'>uz\n    2                                            NaN\n    dtype: object\n    \n    Reverse every lowercase alphabetic word:\n    \n    >>> repl = lambda m: m.group(0)[::-1]\n    >>> pd.Series(['foo 123', 'bar baz', np.nan]).str.replace(r'[a-z]+', repl)\n    0    oof 123\n    1    rab zab\n    2        NaN\n    dtype: object\n    \n    Using regex groups (extract second group and swap case):\n    \n    >>> pat = r\"(?P<one>\\w+) (?P<two>\\w+) (?P<three>\\w+)\"\n    >>> repl = lambda m: m.group('two').swapcase()\n    >>> pd.Series(['One Two Three', 'Foo Bar Baz']).str.replace(pat, repl)\n    0    tWO\n    1    bAR\n    dtype: object\n    \n    Using a compiled regex with flags\n    \n    >>> import re\n    >>> regex_pat = re.compile(r'FUZ', flags=re.IGNORECASE)\n    >>> pd.Series(['foo', 'fuz', np.nan]).str.replace(regex_pat, 'bar')\n    0    foo\n    1    bar\n    2    NaN\n    dtype: object\n\n"
     ]
    }
   ],
   "source": [
    "help(c.str.replace)"
   ]
  },
  {
   "cell_type": "code",
   "execution_count": 69,
   "metadata": {},
   "outputs": [
    {
     "output_type": "execute_result",
     "data": {
      "text/plain": [
       "['T',\n",
       " 'all',\n",
       " 'any',\n",
       " 'append',\n",
       " 'argmax',\n",
       " 'argmin',\n",
       " 'argsort',\n",
       " 'array',\n",
       " 'asi8',\n",
       " 'asof',\n",
       " 'asof_locs',\n",
       " 'astype',\n",
       " 'ceil',\n",
       " 'copy',\n",
       " 'date',\n",
       " 'day',\n",
       " 'day_name',\n",
       " 'day_of_week',\n",
       " 'day_of_year',\n",
       " 'dayofweek',\n",
       " 'dayofyear',\n",
       " 'days_in_month',\n",
       " 'daysinmonth',\n",
       " 'delete',\n",
       " 'difference',\n",
       " 'drop',\n",
       " 'drop_duplicates',\n",
       " 'droplevel',\n",
       " 'dropna',\n",
       " 'dtype',\n",
       " 'duplicated',\n",
       " 'empty',\n",
       " 'equals',\n",
       " 'factorize',\n",
       " 'fillna',\n",
       " 'floor',\n",
       " 'format',\n",
       " 'freq',\n",
       " 'freqstr',\n",
       " 'get_indexer',\n",
       " 'get_indexer_for',\n",
       " 'get_indexer_non_unique',\n",
       " 'get_level_values',\n",
       " 'get_loc',\n",
       " 'get_slice_bound',\n",
       " 'get_value',\n",
       " 'groupby',\n",
       " 'has_duplicates',\n",
       " 'hasnans',\n",
       " 'holds_integer',\n",
       " 'hour',\n",
       " 'identical',\n",
       " 'indexer_at_time',\n",
       " 'indexer_between_time',\n",
       " 'inferred_freq',\n",
       " 'inferred_type',\n",
       " 'insert',\n",
       " 'intersection',\n",
       " 'is_',\n",
       " 'is_all_dates',\n",
       " 'is_boolean',\n",
       " 'is_categorical',\n",
       " 'is_floating',\n",
       " 'is_integer',\n",
       " 'is_interval',\n",
       " 'is_leap_year',\n",
       " 'is_mixed',\n",
       " 'is_monotonic',\n",
       " 'is_monotonic_decreasing',\n",
       " 'is_monotonic_increasing',\n",
       " 'is_month_end',\n",
       " 'is_month_start',\n",
       " 'is_normalized',\n",
       " 'is_numeric',\n",
       " 'is_object',\n",
       " 'is_quarter_end',\n",
       " 'is_quarter_start',\n",
       " 'is_type_compatible',\n",
       " 'is_unique',\n",
       " 'is_year_end',\n",
       " 'is_year_start',\n",
       " 'isin',\n",
       " 'isna',\n",
       " 'isnull',\n",
       " 'isocalendar',\n",
       " 'item',\n",
       " 'join',\n",
       " 'map',\n",
       " 'max',\n",
       " 'mean',\n",
       " 'memory_usage',\n",
       " 'microsecond',\n",
       " 'min',\n",
       " 'minute',\n",
       " 'month',\n",
       " 'month_name',\n",
       " 'name',\n",
       " 'names',\n",
       " 'nanosecond',\n",
       " 'nbytes',\n",
       " 'ndim',\n",
       " 'nlevels',\n",
       " 'normalize',\n",
       " 'notna',\n",
       " 'notnull',\n",
       " 'nunique',\n",
       " 'putmask',\n",
       " 'quarter',\n",
       " 'ravel',\n",
       " 'reindex',\n",
       " 'rename',\n",
       " 'repeat',\n",
       " 'resolution',\n",
       " 'round',\n",
       " 'searchsorted',\n",
       " 'second',\n",
       " 'set_names',\n",
       " 'set_value',\n",
       " 'shape',\n",
       " 'shift',\n",
       " 'size',\n",
       " 'slice_indexer',\n",
       " 'slice_locs',\n",
       " 'snap',\n",
       " 'sort',\n",
       " 'sort_values',\n",
       " 'sortlevel',\n",
       " 'std',\n",
       " 'str',\n",
       " 'strftime',\n",
       " 'symmetric_difference',\n",
       " 'take',\n",
       " 'time',\n",
       " 'timetz',\n",
       " 'to_flat_index',\n",
       " 'to_frame',\n",
       " 'to_julian_date',\n",
       " 'to_list',\n",
       " 'to_native_types',\n",
       " 'to_numpy',\n",
       " 'to_period',\n",
       " 'to_perioddelta',\n",
       " 'to_pydatetime',\n",
       " 'to_series',\n",
       " 'tolist',\n",
       " 'transpose',\n",
       " 'tz',\n",
       " 'tz_convert',\n",
       " 'tz_localize',\n",
       " 'tzinfo',\n",
       " 'union',\n",
       " 'union_many',\n",
       " 'unique',\n",
       " 'value_counts',\n",
       " 'values',\n",
       " 'view',\n",
       " 'week',\n",
       " 'weekday',\n",
       " 'weekofyear',\n",
       " 'where',\n",
       " 'year']"
      ]
     },
     "metadata": {},
     "execution_count": 69
    }
   ],
   "source": [
    "[m for m in dir(pd.DatetimeIndex) if not m.startswith('_')]"
   ]
  },
  {
   "cell_type": "code",
   "execution_count": 70,
   "metadata": {},
   "outputs": [
    {
     "output_type": "stream",
     "name": "stdout",
     "text": [
      "Help on property:\n\n    Boolean indicator if the date belongs to a leap year.\n    \n    A leap year is a year, which has 366 days (instead of 365) including\n    29th of February as an intercalary day.\n    Leap years are years which are multiples of four with the exception\n    of years divisible by 100 but not by 400.\n    \n    Returns\n    -------\n    Series or ndarray\n         Booleans indicating if dates belong to a leap year.\n    \n    Examples\n    --------\n    This method is available on Series with datetime values under\n    the ``.dt`` accessor, and directly on DatetimeIndex.\n    \n    >>> idx = pd.date_range(\"2012-01-01\", \"2015-01-01\", freq=\"Y\")\n    >>> idx\n    DatetimeIndex(['2012-12-31', '2013-12-31', '2014-12-31'],\n                  dtype='datetime64[ns]', freq='A-DEC')\n    >>> idx.is_leap_year\n    array([ True, False, False])\n    \n    >>> dates_series = pd.Series(idx)\n    >>> dates_series\n    0   2012-12-31\n    1   2013-12-31\n    2   2014-12-31\n    dtype: datetime64[ns]\n    >>> dates_series.dt.is_leap_year\n    0     True\n    1    False\n    2    False\n    dtype: bool\n\n"
     ]
    }
   ],
   "source": [
    "help(pd.DatetimeIndex.is_leap_year)"
   ]
  },
  {
   "cell_type": "code",
   "execution_count": 71,
   "metadata": {},
   "outputs": [
    {
     "output_type": "stream",
     "name": "stdout",
     "text": [
      "Help on function is_interval in module pandas.core.indexes.base:\n\nis_interval(self) -> bool\n    Check if the Index holds Interval objects.\n    \n    Returns\n    -------\n    bool\n        Whether or not the Index holds Interval objects.\n    \n    See Also\n    --------\n    IntervalIndex : Index for Interval objects.\n    is_boolean : Check if the Index only consists of booleans.\n    is_integer : Check if the Index only consists of integers.\n    is_floating : Check if the Index is a floating type.\n    is_numeric : Check if the Index only consists of numeric data.\n    is_object : Check if the Index is of the object dtype.\n    is_categorical : Check if the Index holds categorical data.\n    is_mixed : Check if the Index holds data with mixed data types.\n    \n    Examples\n    --------\n    >>> idx = pd.Index([pd.Interval(left=0, right=5),\n    ...                 pd.Interval(left=5, right=10)])\n    >>> idx.is_interval()\n    True\n    \n    >>> idx = pd.Index([1, 3, 5, 7])\n    >>> idx.is_interval()\n    False\n\n"
     ]
    }
   ],
   "source": [
    "help(pd.DatetimeIndex.is_interval)"
   ]
  },
  {
   "cell_type": "code",
   "execution_count": 72,
   "metadata": {},
   "outputs": [
    {
     "output_type": "stream",
     "name": "stdout",
     "text": [
      "Help on function intersection in module pandas.core.indexes.datetimelike:\n\nintersection(self, other, sort=False)\n    Specialized intersection for DatetimeIndex/TimedeltaIndex.\n    \n    May be much faster than Index.intersection\n    \n    Parameters\n    ----------\n    other : Same type as self or array-like\n    sort : False or None, default False\n        Sort the resulting index if possible.\n    \n        .. versionadded:: 0.24.0\n    \n        .. versionchanged:: 0.24.1\n    \n           Changed the default to ``False`` to match the behaviour\n           from before 0.24.0.\n    \n        .. versionchanged:: 0.25.0\n    \n           The `sort` keyword is added\n    \n    Returns\n    -------\n    y : Index or same type as self\n\n"
     ]
    }
   ],
   "source": [
    "help(pd.DatetimeIndex.intersection)"
   ]
  },
  {
   "cell_type": "code",
   "execution_count": 78,
   "metadata": {},
   "outputs": [
    {
     "output_type": "stream",
     "name": "stdout",
     "text": [
      "Help on function insert in module pandas.core.indexes.datetimelike:\n\ninsert(self, loc, item)\n    Make new Index inserting new item at location. Follows\n    Python list.append semantics for negative values.\n    \n    Parameters\n    ----------\n    loc : int\n    item : object\n    \n    Returns\n    -------\n    new_index : Index\n    \n    Raises\n    ------\n    ValueError if the item is not valid for this dtype.\n\n"
     ]
    }
   ],
   "source": [
    "help(pd.DatetimeIndex.insert)\n",
    "\n"
   ]
  },
  {
   "cell_type": "code",
   "execution_count": 9,
   "metadata": {},
   "outputs": [
    {
     "output_type": "stream",
     "name": "stdout",
     "text": [
      "Help on function is_mixed in module pandas.core.indexes.base:\n\nis_mixed(self) -> bool\n    Check if the Index holds data with mixed data types.\n    \n    Returns\n    -------\n    bool\n        Whether or not the Index holds data with mixed data types.\n    \n    See Also\n    --------\n    is_boolean : Check if the Index only consists of booleans.\n    is_integer : Check if the Index only consists of integers.\n    is_floating : Check if the Index is a floating type.\n    is_numeric : Check if the Index only consists of numeric data.\n    is_object : Check if the Index is of the object dtype.\n    is_categorical : Check if the Index holds categorical data.\n    is_interval : Check if the Index holds Interval objects.\n    \n    Examples\n    --------\n    >>> idx = pd.Index(['a', np.nan, 'b'])\n    >>> idx.is_mixed()\n    True\n    \n    >>> idx = pd.Index([1.0, 2.0, 3.0, 5.0])\n    >>> idx.is_mixed()\n    False\n\n"
     ]
    }
   ],
   "source": [
    "help(pd.DatetimeIndex.is_mixed)"
   ]
  },
  {
   "cell_type": "code",
   "execution_count": 13,
   "metadata": {},
   "outputs": [
    {
     "output_type": "stream",
     "name": "stdout",
     "text": [
      "Help on property:\n\n    Boolean indicator if the date belongs to a leap year.\n    \n    A leap year is a year, which has 366 days (instead of 365) including\n    29th of February as an intercalary day.\n    Leap years are years which are multiples of four with the exception\n    of years divisible by 100 but not by 400.\n    \n    Returns\n    -------\n    Series or ndarray\n         Booleans indicating if dates belong to a leap year.\n    \n    Examples\n    --------\n    This method is available on Series with datetime values under\n    the ``.dt`` accessor, and directly on DatetimeIndex.\n    \n    >>> idx = pd.date_range(\"2012-01-01\", \"2015-01-01\", freq=\"Y\")\n    >>> idx\n    DatetimeIndex(['2012-12-31', '2013-12-31', '2014-12-31'],\n                  dtype='datetime64[ns]', freq='A-DEC')\n    >>> idx.is_leap_year\n    array([ True, False, False])\n    \n    >>> dates_series = pd.Series(idx)\n    >>> dates_series\n    0   2012-12-31\n    1   2013-12-31\n    2   2014-12-31\n    dtype: datetime64[ns]\n    >>> dates_series.dt.is_leap_year\n    0     True\n    1    False\n    2    False\n    dtype: bool\n\n"
     ]
    }
   ],
   "source": [
    "help(pd.Series.dt.is_leap_year)"
   ]
  },
  {
   "cell_type": "code",
   "execution_count": 29,
   "metadata": {},
   "outputs": [
    {
     "output_type": "stream",
     "name": "stdout",
     "text": [
      "Help on property:\n\n    Return timezone, if any.\n    \n    Returns\n    -------\n    datetime.tzinfo, pytz.tzinfo.BaseTZInfo, dateutil.tz.tz.tzfile, or None\n        Returns None when the array is tz-naive.\n\n"
     ]
    }
   ],
   "source": [
    "help(pd.Series.dt.tz)"
   ]
  },
  {
   "cell_type": "code",
   "execution_count": 23,
   "metadata": {},
   "outputs": [
    {
     "output_type": "error",
     "ename": "TypeError",
     "evalue": "'property' object is not callable",
     "traceback": [
      "\u001b[0;31m---------------------------------------------------------------------------\u001b[0m",
      "\u001b[0;31mTypeError\u001b[0m                                 Traceback (most recent call last)",
      "\u001b[0;32m<ipython-input-23-a2f0bad16aab>\u001b[0m in \u001b[0;36m<module>\u001b[0;34m\u001b[0m\n\u001b[0;32m----> 1\u001b[0;31m \u001b[0mpd\u001b[0m\u001b[0;34m.\u001b[0m\u001b[0mSeries\u001b[0m\u001b[0;34m.\u001b[0m\u001b[0mdt\u001b[0m\u001b[0;34m.\u001b[0m\u001b[0mis_leap_year\u001b[0m\u001b[0;34m(\u001b[0m\u001b[0;34m\"2012-01-01\"\u001b[0m\u001b[0;34m)\u001b[0m\u001b[0;34m\u001b[0m\u001b[0;34m\u001b[0m\u001b[0m\n\u001b[0m",
      "\u001b[0;31mTypeError\u001b[0m: 'property' object is not callable"
     ]
    }
   ],
   "source": [
    "pd.Series.dt.is_leap_year(\"2012-01-01\")"
   ]
  },
  {
   "cell_type": "code",
   "execution_count": 12,
   "metadata": {},
   "outputs": [
    {
     "output_type": "execute_result",
     "data": {
      "text/plain": [
       "['asfreq',\n",
       " 'ceil',\n",
       " 'components',\n",
       " 'date',\n",
       " 'day',\n",
       " 'day_name',\n",
       " 'day_of_week',\n",
       " 'day_of_year',\n",
       " 'dayofweek',\n",
       " 'dayofyear',\n",
       " 'days',\n",
       " 'days_in_month',\n",
       " 'daysinmonth',\n",
       " 'end_time',\n",
       " 'floor',\n",
       " 'freq',\n",
       " 'hour',\n",
       " 'is_leap_year',\n",
       " 'is_month_end',\n",
       " 'is_month_start',\n",
       " 'is_quarter_end',\n",
       " 'is_quarter_start',\n",
       " 'is_year_end',\n",
       " 'is_year_start',\n",
       " 'isocalendar',\n",
       " 'microsecond',\n",
       " 'microseconds',\n",
       " 'minute',\n",
       " 'month',\n",
       " 'month_name',\n",
       " 'nanosecond',\n",
       " 'nanoseconds',\n",
       " 'normalize',\n",
       " 'quarter',\n",
       " 'qyear',\n",
       " 'round',\n",
       " 'second',\n",
       " 'seconds',\n",
       " 'start_time',\n",
       " 'strftime',\n",
       " 'time',\n",
       " 'timetz',\n",
       " 'to_period',\n",
       " 'to_pydatetime',\n",
       " 'to_pytimedelta',\n",
       " 'to_timestamp',\n",
       " 'total_seconds',\n",
       " 'tz',\n",
       " 'tz_convert',\n",
       " 'tz_localize',\n",
       " 'week',\n",
       " 'weekday',\n",
       " 'weekofyear',\n",
       " 'year']"
      ]
     },
     "metadata": {},
     "execution_count": 12
    }
   ],
   "source": [
    "[m for m in dir(pd.Series.dt) if not m.startswith('_')]"
   ]
  },
  {
   "cell_type": "code",
   "execution_count": 88,
   "metadata": {},
   "outputs": [
    {
     "output_type": "stream",
     "name": "stdout",
     "text": [
      "Help on property:\n\n    Boolean indicator if the date belongs to a leap year.\n    \n    A leap year is a year, which has 366 days (instead of 365) including\n    29th of February as an intercalary day.\n    Leap years are years which are multiples of four with the exception\n    of years divisible by 100 but not by 400.\n    \n    Returns\n    -------\n    Series or ndarray\n         Booleans indicating if dates belong to a leap year.\n    \n    Examples\n    --------\n    This method is available on Series with datetime values under\n    the ``.dt`` accessor, and directly on DatetimeIndex.\n    \n    >>> idx = pd.date_range(\"2012-01-01\", \"2015-01-01\", freq=\"Y\")\n    >>> idx\n    DatetimeIndex(['2012-12-31', '2013-12-31', '2014-12-31'],\n                  dtype='datetime64[ns]', freq='A-DEC')\n    >>> idx.is_leap_year\n    array([ True, False, False])\n    \n    >>> dates_series = pd.Series(idx)\n    >>> dates_series\n    0   2012-12-31\n    1   2013-12-31\n    2   2014-12-31\n    dtype: datetime64[ns]\n    >>> dates_series.dt.is_leap_year\n    0     True\n    1    False\n    2    False\n    dtype: bool\n\n"
     ]
    }
   ],
   "source": [
    "help(pd.Series.dt.is_leap_year)"
   ]
  },
  {
   "cell_type": "code",
   "execution_count": 89,
   "metadata": {},
   "outputs": [],
   "source": [
    "@pipeable\n",
    "def is_leap_year(col):\n",
    "    \"\"\"Boolean indicator if the date belongs to a leap year.\n",
    "    \n",
    "    A leap year is a year, which has 366 days (instead of 365) including\n",
    "    29th of February as an intercalary day.\n",
    "    Leap years are years which are multiples of four with the exception\n",
    "    of years divisible by 100 but not by 400.\n",
    "    \n",
    "    Returns\n",
    "    -------\n",
    "    Series or ndarray\n",
    "         Booleans indicating if dates belong to a leap year.\n",
    "    \n",
    "    Examples\n",
    "    --------\n",
    "    This method is available on Series with datetime values under\n",
    "    the ``.dt`` accessor, and directly on DatetimeIndex.\n",
    "    \n",
    "    >>> idx = pd.date_range(\"2012-01-01\", \"2015-01-01\", freq=\"Y\")\n",
    "    >>> idx\n",
    "    DatetimeIndex(['2012-12-31', '2013-12-31', '2014-12-31'],\n",
    "                  dtype='datetime64[ns]', freq='A-DEC')\n",
    "    >>> idx.is_leap_year\n",
    "    array([ True, False, False])\n",
    "    \n",
    "    >>> dates_series = pd.Series(idx)\n",
    "    >>> dates_series\n",
    "    0   2012-12-31\n",
    "    1   2013-12-31\n",
    "    2   2014-12-31\n",
    "    dtype: datetime64[ns]\n",
    "    >>> dates_series.dt.is_leap_year\n",
    "    0     True\n",
    "    1    False\n",
    "    2    False\n",
    "    dtype: bool\n",
    "    \"\"\"\n",
    "    return col.dt.is_leap_year"
   ]
  },
  {
   "cell_type": "code",
   "execution_count": 105,
   "metadata": {},
   "outputs": [
    {
     "output_type": "error",
     "ename": "NameError",
     "evalue": "name 'numpy' is not defined",
     "traceback": [
      "\u001b[0;31m---------------------------------------------------------------------------\u001b[0m",
      "\u001b[0;31mNameError\u001b[0m                                 Traceback (most recent call last)",
      "\u001b[0;32m<ipython-input-105-01eaebb69c1b>\u001b[0m in \u001b[0;36m<module>\u001b[0;34m\u001b[0m\n\u001b[1;32m      4\u001b[0m \u001b[0;32massert\u001b[0m \u001b[0;34m(\u001b[0m\u001b[0mdt\u001b[0m \u001b[0;34m>>\u001b[0m \u001b[0mis_leap_year\u001b[0m\u001b[0;34m(\u001b[0m\u001b[0;34m)\u001b[0m\u001b[0;34m)\u001b[0m\u001b[0;34m[\u001b[0m\u001b[0;36m0\u001b[0m\u001b[0;34m]\u001b[0m\u001b[0;34m\u001b[0m\u001b[0;34m\u001b[0m\u001b[0m\n\u001b[1;32m      5\u001b[0m \u001b[0mtype\u001b[0m\u001b[0;34m(\u001b[0m\u001b[0;34m(\u001b[0m\u001b[0mdt\u001b[0m \u001b[0;34m>>\u001b[0m \u001b[0mis_leap_year\u001b[0m\u001b[0;34m(\u001b[0m\u001b[0;34m)\u001b[0m\u001b[0;34m)\u001b[0m\u001b[0;34m[\u001b[0m\u001b[0;36m0\u001b[0m\u001b[0;34m]\u001b[0m\u001b[0;34m)\u001b[0m\u001b[0;34m\u001b[0m\u001b[0;34m\u001b[0m\u001b[0m\n\u001b[0;32m----> 6\u001b[0;31m \u001b[0;32massert\u001b[0m \u001b[0misinstance\u001b[0m\u001b[0;34m(\u001b[0m\u001b[0;34m(\u001b[0m\u001b[0mdt\u001b[0m \u001b[0;34m>>\u001b[0m \u001b[0mis_leap_year\u001b[0m\u001b[0;34m(\u001b[0m\u001b[0;34m)\u001b[0m\u001b[0;34m)\u001b[0m\u001b[0;34m[\u001b[0m\u001b[0;36m0\u001b[0m\u001b[0;34m]\u001b[0m\u001b[0;34m,\u001b[0m \u001b[0mnumpy\u001b[0m\u001b[0;34m.\u001b[0m\u001b[0mbool_\u001b[0m\u001b[0;34m)\u001b[0m\u001b[0;34m\u001b[0m\u001b[0;34m\u001b[0m\u001b[0m\n\u001b[0m",
      "\u001b[0;31mNameError\u001b[0m: name 'numpy' is not defined"
     ]
    }
   ],
   "source": [
    "dt = pd.Series(pd.date_range(\"2000-01-05\", periods=1, freq=\"Y\"))\n",
    "dt\n",
    "dt >> is_leap_year()\n",
    "assert (dt >> is_leap_year())[0]\n",
    "type((dt >> is_leap_year())[0])\n",
    "assert isinstance((dt >> is_leap_year())[0], numpy.bool_)"
   ]
  },
  {
   "cell_type": "code",
   "execution_count": 14,
   "metadata": {},
   "outputs": [
    {
     "output_type": "stream",
     "name": "stdout",
     "text": [
      "Help on property:\n\n    The minutes of the datetime.\n    \n    Examples\n    --------\n    >>> datetime_series = pd.Series(\n    ...     pd.date_range(\"2000-01-01\", periods=3, freq=\"T\")\n    ... )\n    >>> datetime_series\n    0   2000-01-01 00:00:00\n    1   2000-01-01 00:01:00\n    2   2000-01-01 00:02:00\n    dtype: datetime64[ns]\n    >>> datetime_series.dt.minute\n    0    0\n    1    1\n    2    2\n    dtype: int64\n\n"
     ]
    }
   ],
   "source": [
    "help(pd.Series.dt.minute)"
   ]
  },
  {
   "cell_type": "code",
   "execution_count": 22,
   "metadata": {},
   "outputs": [
    {
     "output_type": "execute_result",
     "data": {
      "text/plain": [
       "0"
      ]
     },
     "metadata": {},
     "execution_count": 22
    }
   ],
   "source": [
    "datetime_series = pd.Series(pd.date_range(\"2000-01-01\", periods=3, freq=\"T\"))\n",
    "datetime_series.dt.minute[0]"
   ]
  },
  {
   "cell_type": "code",
   "execution_count": 31,
   "metadata": {},
   "outputs": [],
   "source": [
    "@pipeable\n",
    "def minute(col):\n",
    "    \"\"\"The minutes of the datetime.\n",
    "    \n",
    "    Examples\n",
    "    --------\n",
    "    >>> datetime_series = pd.Series(\n",
    "    ...     pd.date_range(\"2000-01-01\", periods=3, freq=\"T\")\n",
    "    ... )\n",
    "    >>> datetime_series\n",
    "    0   2000-01-01 00:00:00\n",
    "    1   2000-01-01 00:01:00\n",
    "    2   2000-01-01 00:02:00\n",
    "    dtype: datetime64[ns]\n",
    "    >>> datetime_series.dt.minute\n",
    "    0    0\n",
    "    1    1\n",
    "    2    2\n",
    "    dtype: int64\n",
    "\n",
    "    \"\"\"\n",
    "    return col.dt.minute"
   ]
  },
  {
   "cell_type": "code",
   "execution_count": 33,
   "metadata": {},
   "outputs": [],
   "source": [
    "result = pd.Series(pd.date_range(\"2000-01-01\", periods=3, freq=\"T\"))\n",
    "exp = Series([0,1,2])\n",
    "result >> minute()\n",
    "tm.assert_series_equal(result >> minute(), exp)"
   ]
  },
  {
   "cell_type": "code",
   "execution_count": 34,
   "metadata": {},
   "outputs": [
    {
     "output_type": "execute_result",
     "data": {
      "text/plain": [
       "0      0\n",
       "1      1\n",
       "2      2\n",
       "3      3\n",
       "4      4\n",
       "      ..\n",
       "57    57\n",
       "58    58\n",
       "59    59\n",
       "60     0\n",
       "61     1\n",
       "Length: 62, dtype: int64"
      ]
     },
     "metadata": {},
     "execution_count": 34
    }
   ],
   "source": [
    "result2 = pd.Series(pd.date_range(\"2000-01-01\", periods=62, freq=\"T\"))\n",
    "result2 >> minute()"
   ]
  },
  {
   "cell_type": "code",
   "execution_count": 26,
   "metadata": {},
   "outputs": [],
   "source": [
    "from pandas import Series, _testing as tm\n",
    "\n",
    "assert datetime_series.dt.minute[0] == 0"
   ]
  },
  {
   "cell_type": "code",
   "execution_count": 52,
   "metadata": {},
   "outputs": [
    {
     "output_type": "execute_result",
     "data": {
      "text/plain": [
       "0    59\n",
       "1     0\n",
       "2     1\n",
       "dtype: int64"
      ]
     },
     "metadata": {},
     "execution_count": 52
    }
   ],
   "source": [
    "# roll over\n",
    "roll = pd.Series(pd.date_range(\"2000-01-01 00:59:00\", periods=3, freq=\"T\"))\n",
    "exp = Series([59,0,1])\n",
    "tm.assert_series_equal(roll.tail(3) >> minute(), exp)\n",
    "roll >> minute()\n",
    "\n"
   ]
  },
  {
   "cell_type": "code",
   "execution_count": 21,
   "metadata": {},
   "outputs": [
    {
     "output_type": "execute_result",
     "data": {
      "text/plain": [
       "<module 'pandas.compat' from '/home/sandrews/.pyenv/versions/anaconda3-2020.02/lib/python3.7/site-packages/pandas/compat/__init__.py'>"
      ]
     },
     "metadata": {},
     "execution_count": 21
    }
   ],
   "source": [
    "import pandas.compat\n",
    "\n",
    "pandas.compat"
   ]
  },
  {
   "cell_type": "code",
   "execution_count": 54,
   "metadata": {},
   "outputs": [
    {
     "output_type": "stream",
     "name": "stdout",
     "text": [
      "Help on property:\n\n    The month as January=1, December=12.\n    \n    Examples\n    --------\n    >>> datetime_series = pd.Series(\n    ...     pd.date_range(\"2000-01-01\", periods=3, freq=\"M\")\n    ... )\n    >>> datetime_series\n    0   2000-01-31\n    1   2000-02-29\n    2   2000-03-31\n    dtype: datetime64[ns]\n    >>> datetime_series.dt.month\n    0    1\n    1    2\n    2    3\n    dtype: int64\n\n"
     ]
    }
   ],
   "source": [
    "help(pd.Series.dt.month)"
   ]
  },
  {
   "cell_type": "code",
   "execution_count": 56,
   "metadata": {},
   "outputs": [],
   "source": [
    "@pipeable\n",
    "def month(col):\n",
    "    \"\"\"The month as January=1, December=12.\n",
    "    \n",
    "    Examples\n",
    "    --------\n",
    "    >>> datetime_series = pd.Series(\n",
    "    ...     pd.date_range(\"2000-01-01\", periods=3, freq=\"M\")\n",
    "    ... )\n",
    "    >>> datetime_series\n",
    "    0   2000-01-31\n",
    "    1   2000-02-29\n",
    "    2   2000-03-31\n",
    "    dtype: datetime64[ns]\n",
    "    >>> datetime_series.dt.month\n",
    "    0    1\n",
    "    1    2\n",
    "    2    3\n",
    "    dtype: int64\n",
    "\n",
    "    \"\"\"\n",
    "    return col.dt.month"
   ]
  },
  {
   "cell_type": "code",
   "execution_count": 62,
   "metadata": {},
   "outputs": [
    {
     "output_type": "execute_result",
     "data": {
      "text/plain": [
       "0      1\n",
       "1      2\n",
       "2      3\n",
       "3      4\n",
       "4      5\n",
       "5      6\n",
       "6      7\n",
       "7      8\n",
       "8      9\n",
       "9     10\n",
       "10    11\n",
       "11    12\n",
       "dtype: int64"
      ]
     },
     "metadata": {},
     "execution_count": 62
    }
   ],
   "source": [
    "result = pd.Series(pd.date_range(\"2000-01-01\", periods=12, freq=\"M\"))\n",
    "exp = Series(range(1,13))\n",
    "result >> month()\n",
    "#exp\n",
    "#tm.assert_series_equal(result >> month(), exp)"
   ]
  },
  {
   "cell_type": "code",
   "execution_count": 81,
   "metadata": {},
   "outputs": [
    {
     "output_type": "stream",
     "name": "stdout",
     "text": [
      "Help on property:\n\n    The week ordinal of the year.\n    \n    .. deprecated:: 1.1.0\n    \n    Series.dt.weekofyear and Series.dt.week have been deprecated.\n    Please use Series.dt.isocalendar().week instead.\n\n"
     ]
    }
   ],
   "source": [
    "help(pd.Series.dt.week)"
   ]
  },
  {
   "cell_type": "code",
   "execution_count": 87,
   "metadata": {},
   "outputs": [
    {
     "output_type": "execute_result",
     "data": {
      "text/plain": [
       "0   2000-01-02\n",
       "1   2000-01-09\n",
       "2   2000-01-16\n",
       "3   2000-01-23\n",
       "4   2000-01-30\n",
       "dtype: datetime64[ns]"
      ]
     },
     "metadata": {},
     "execution_count": 87
    }
   ],
   "source": [
    "datetime_series = pd.Series(pd.date_range(\"2000-01-01\", periods=5, freq=\"W\"))\n",
    "datetime_series\n",
    "\n",
    "#datetime_series.dt.week"
   ]
  },
  {
   "cell_type": "code",
   "execution_count": null,
   "metadata": {},
   "outputs": [],
   "source": [
    "help(pd.Series.dt.month)"
   ]
  },
  {
   "cell_type": "code",
   "execution_count": 68,
   "metadata": {},
   "outputs": [],
   "source": [
    "@pipeable\n",
    "def quarter(col):\n",
    "    \"\"\"The quarter of the date.\n",
    "\n",
    "    \"\"\"\n",
    "    return col.dt.quarter"
   ]
  },
  {
   "cell_type": "code",
   "execution_count": 77,
   "metadata": {},
   "outputs": [],
   "source": [
    "result = pd.Series(pd.date_range(\"2000-01-01\", periods=4, freq=\"Q\"))\n",
    "exp = Series(range(1,5))\n",
    "exp\n",
    "result >> quarter()\n",
    "tm.assert_series_equal(result >>quarter(), exp)"
   ]
  },
  {
   "cell_type": "code",
   "execution_count": 63,
   "metadata": {},
   "outputs": [],
   "source": [
    "#pip install pandas --upgrade"
   ]
  },
  {
   "cell_type": "code",
   "execution_count": 24,
   "metadata": {},
   "outputs": [],
   "source": [
    "idx = pd.date_range(\"2012-01-01\", \"2015-01-01\", freq=\"Y\")"
   ]
  },
  {
   "cell_type": "code",
   "execution_count": 26,
   "metadata": {},
   "outputs": [
    {
     "output_type": "execute_result",
     "data": {
      "text/plain": [
       "array([ True, False, False])"
      ]
     },
     "metadata": {},
     "execution_count": 26
    }
   ],
   "source": [
    "idx\n",
    "\n"
   ]
  },
  {
   "cell_type": "code",
   "execution_count": 27,
   "metadata": {},
   "outputs": [
    {
     "output_type": "execute_result",
     "data": {
      "text/plain": [
       "array([ True, False, False])"
      ]
     },
     "metadata": {},
     "execution_count": 27
    }
   ],
   "source": [
    "idx.is_leap_year"
   ]
  },
  {
   "cell_type": "code",
   "execution_count": 80,
   "metadata": {},
   "outputs": [
    {
     "output_type": "execute_result",
     "data": {
      "text/plain": [
       "0    1\n",
       "1    2\n",
       "2    3\n",
       "dtype: int64"
      ]
     },
     "metadata": {},
     "execution_count": 80
    }
   ],
   "source": [
    "datetime_series = pd.Series(pd.date_range(\"2000-01-01\", periods=3, freq=\"Q\"))\n",
    "datetime_series.dt.quarter"
   ]
  },
  {
   "cell_type": "code",
   "execution_count": 15,
   "metadata": {},
   "outputs": [],
   "source": [
    "@pipeable\n",
    "def is_leap_year(col):\n",
    "    \"\"\"Boolean indicator if the date belongs to a leap year.\n",
    "    \n",
    "    A leap year is a year, which has 366 days (instead of 365) including\n",
    "    29th of February as an intercalary day.\n",
    "    Leap years are years which are multiples of four with the exception\n",
    "    of years divisible by 100 but not by 400.\n",
    "    \n",
    "    Returns\n",
    "    -------\n",
    "    Series or ndarray\n",
    "         Booleans indicating if dates belong to a leap year.\n",
    "    \n",
    "    Examples\n",
    "    --------\n",
    "    This method is available on Series with datetime values under\n",
    "    the ``.dt`` accessor, and directly on DatetimeIndex.\n",
    "    \n",
    "    >>> idx = pd.date_range(\"2012-01-01\", \"2015-01-01\", freq=\"Y\")\n",
    "    >>> idx\n",
    "    DatetimeIndex(['2012-12-31', '2013-12-31', '2014-12-31'],\n",
    "                  dtype='datetime64[ns]', freq='A-DEC')\n",
    "    >>> idx.is_leap_year\n",
    "    array([ True, False, False])\n",
    "    \n",
    "    >>> dates_series = pd.Series(idx)\n",
    "    >>> dates_series\n",
    "    0   2012-12-31\n",
    "    1   2013-12-31\n",
    "    2   2014-12-31\n",
    "    dtype: datetime64[ns]\n",
    "    >>> dates_series.dt.is_leap_year\n",
    "    0     True\n",
    "    1    False\n",
    "    2    False\n",
    "    dtype: bool\n",
    "    \"\"\"\n",
    "    return col.dt.is_leap_year"
   ]
  },
  {
   "cell_type": "code",
   "execution_count": 17,
   "metadata": {},
   "outputs": [],
   "source": [
    "from datetime import (\n",
    "    date,\n",
    "    datetime,\n",
    "    timedelta,\n",
    ")\n",
    "\n",
    "import numpy as np\n",
    "import pytest\n",
    "import pytz\n",
    "\n",
    "from pandas._libs.tslibs import (\n",
    "    iNaT,\n",
    "    period as libperiod,\n",
    ")\n",
    "from pandas._libs.tslibs.ccalendar import (\n",
    "    DAYS,\n",
    "    MONTHS,\n",
    ")\n",
    "from pandas._libs.tslibs.np_datetime import OutOfBoundsDatetime\n",
    "from pandas._libs.tslibs.parsing import DateParseError\n",
    "from pandas._libs.tslibs.period import (\n",
    "    INVALID_FREQ_ERR_MSG,\n",
    "    IncompatibleFrequency,\n",
    ")\n",
    "from pandas._libs.tslibs.timezones import (\n",
    "    dateutil_gettz,\n",
    "    maybe_get_tz,\n",
    ")\n",
    "#from pandas.compat import np_datetime64_compat\n",
    "\n",
    "import pandas as pd\n",
    "from pandas import (\n",
    "    NaT,\n",
    "    Period,\n",
    "    Timedelta,\n",
    "    Timestamp,\n",
    "    offsets,\n",
    ")\n",
    "import pandas._testing as tm"
   ]
  },
  {
   "cell_type": "code",
   "execution_count": 20,
   "metadata": {},
   "outputs": [
    {
     "output_type": "execute_result",
     "data": {
      "text/plain": [
       "<function __main__.test_is_leap_year(self, freq)>"
      ]
     },
     "metadata": {},
     "execution_count": 20
    }
   ],
   "source": [
    "@pytest.mark.parametrize(\"freq\", [\"A\", \"M\", \"D\", \"H\"])\n",
    "def test_is_leap_year(self, freq):\n",
    "    # GH 13727\n",
    "    p = Period(\"2000-01-01 00:00:00\", freq=freq)\n",
    "    assert p.is_leap_year\n",
    "    assert isinstance(p.is_leap_year, bool)\n",
    "\n",
    "    p = Period(\"1999-01-01 00:00:00\", freq=freq)\n",
    "    assert not p.is_leap_year\n",
    "\n",
    "    p = Period(\"2004-01-01 00:00:00\", freq=freq)\n",
    "    assert p.is_leap_year\n",
    "\n",
    "    p = Period(\"2100-01-01 00:00:00\", freq=freq)\n",
    "    assert not p.is_leap_year\n",
    "\n",
    "test_is_leap_year"
   ]
  },
  {
   "cell_type": "code",
   "execution_count": null,
   "metadata": {},
   "outputs": [],
   "source": []
  }
 ],
 "metadata": {
  "kernelspec": {
   "display_name": "Python 3",
   "language": "python",
   "name": "python3"
  },
  "language_info": {
   "codemirror_mode": {
    "name": "ipython",
    "version": 3
   },
   "file_extension": ".py",
   "mimetype": "text/x-python",
   "name": "python",
   "nbconvert_exporter": "python",
   "pygments_lexer": "ipython3",
   "version": "3.7.6-final"
  }
 },
 "nbformat": 4,
 "nbformat_minor": 4
}